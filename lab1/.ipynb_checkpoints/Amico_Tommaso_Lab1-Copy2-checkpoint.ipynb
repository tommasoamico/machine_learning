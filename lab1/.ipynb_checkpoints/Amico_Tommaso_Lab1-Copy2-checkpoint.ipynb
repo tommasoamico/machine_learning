{
 "cells": [
  {
   "cell_type": "markdown",
   "metadata": {},
   "source": [
    " # Machine Learning LAB 1\n",
    " Academic Year 2021/22, P. Zanuttigh, U. Michieli, F. Barbato, D. Shenaj, G. Rizzoli\n",
    "\n",
    "The notebook contains some simple tasks to be performed about classification and regression. Complete **all** the required code sections and answer to **all** the questions."
   ]
  },
  {
   "cell_type": "markdown",
   "metadata": {},
   "source": [
    "### IMPORTANT 1: make sure to rerun all the code from the beginning to obtain the results for the final version of your notebook, since this is the way we will do it before evaluating your notebook!\n"
   ]
  },
  {
   "cell_type": "markdown",
   "metadata": {},
   "source": [
    "### IMPORTANT 2: Place your name and ID number. Also recall to save the file as Surname_Name_LAB1.ipynb . Notebooks without name will be discarded.\n",
    "\n",
    "**Student name**: Tommaso Amico<br>\n",
    "**ID Number**: 2054778"
   ]
  },
  {
   "cell_type": "markdown",
   "metadata": {},
   "source": [
    "\n",
    "# 1) Classification of Music genre\n",
    "\n",
    "### Dataset description\n",
    "\n",
    "A music genre is a conventional category that identifies pieces of music as belonging to a shared tradition or set of conventions. It is to be distinguished from musical form and musical style. The features extracted from these songs can help the machine to assing them to the two genres. \n",
    "\n",
    "This dataset is a subset of the dataset provided [here](https://www.kaggle.com/insiyeah/musicfeatures), containing only the data regarding the classical and metal genres.\n",
    "\n",
    "### We consider 3 features for the classification\n",
    "\n",
    "1) **tempo**, the speed at which a passage of music is played, i.e., the beats per minute of the musical piece<br>\n",
    "2) **chroma_stft**, [mean chromagram activation on Short-Time Fourier Transform](https://librosa.org/doc/0.7.0/generated/librosa.feature.chroma_stft.html)<br>\n",
    "3) **spectral_centroid**, Indicates where the \"center of mass\" of the spectrum is located, i.e., it is the weighted average of the frequency transform<br>\n"
   ]
  },
  {
   "cell_type": "markdown",
   "metadata": {},
   "source": [
    "We first import all the packages that are needed."
   ]
  },
  {
   "cell_type": "code",
   "execution_count": 2,
   "metadata": {},
   "outputs": [],
   "source": [
    "%matplotlib inline\n",
    "import matplotlib.pyplot as plt\n",
    "import csv\n",
    "\n",
    "import math\n",
    "import random\n",
    "import numpy as np\n",
    "import scipy as sp\n",
    "import sklearn as sl\n",
    "from scipy import stats\n",
    "from sklearn import datasets\n",
    "from sklearn import linear_model"
   ]
  },
  {
   "cell_type": "markdown",
   "metadata": {},
   "source": [
    "# Perceptron\n",
    "Firstly we will implement the perceptron algorithm and use it to learn a halfspace."
   ]
  },
  {
   "cell_type": "markdown",
   "metadata": {},
   "source": [
    "**TO DO** Set the random seed, you can use your ID (matricola) or any other number! Try to make various tests changing the seed."
   ]
  },
  {
   "cell_type": "code",
   "execution_count": 3,
   "metadata": {},
   "outputs": [],
   "source": [
    "IDnumber = 2054778 #YOUR_ID , try also to change the seed to see the impact of random initialization on the results\n",
    "random_seed_used = 123\n",
    "np.random.seed(random_seed_used)"
   ]
  },
  {
   "cell_type": "markdown",
   "metadata": {},
   "source": [
    "Load the dataset and then split in training set and test set (the training set is typically larger, you can use a 75% tranining 25% test split) after applying a random permutation to the datset."
   ]
  },
  {
   "cell_type": "markdown",
   "metadata": {},
   "source": [
    "A) Load dataset and perform permutation"
   ]
  },
  {
   "cell_type": "code",
   "execution_count": 4,
   "metadata": {},
   "outputs": [
    {
     "name": "stdout",
     "output_type": "stream",
     "text": [
      "Header: ['tempo', 'chroma_stft', 'spectral_centroid', 'label']\n",
      "\n",
      "Data shape: (200, 4)\n",
      "\n",
      "Dataset Example:\n",
      "[['92.28515625' '0.22373830597598895' '2192.798091164326' '0']\n",
      " ['161.4990234375' '0.2841730455239421' '1534.0649775815205' '0']\n",
      " ['143.5546875' '0.20811288763962318' '1396.8242648287155' '0']\n",
      " ['95.703125' '0.31289954089595506' '1680.0882644413368' '0']\n",
      " ['123.046875' '0.25857228884109024' '1173.6583080518985' '0']\n",
      " ['67.99958881578948' '0.22521197942744986' '715.1893204778178' '0']\n",
      " ['95.703125' '0.2840176228179304' '1184.632142061296' '0']\n",
      " ['89.10290948275862' '0.2563949682674902' '1358.897902739857' '0']\n",
      " ['99.38401442307692' '0.2614892978768399' '1372.8258066922585' '0']\n",
      " ['184.5703125' '0.2899787266101455' '1953.0485341566464' '0']]\n",
      "\n",
      "Number of samples loaded: 200\n"
     ]
    }
   ],
   "source": [
    "# Load the dataset\n",
    "filename = 'data/music.csv'\n",
    "music = csv.reader(open(filename, newline='\\n'), delimiter=',')\n",
    "\n",
    "header = next(music) # skip first line\n",
    "print(f\"Header: {header}\\n\")\n",
    "\n",
    "dataset = np.array(list(music))\n",
    "print(f\"Data shape: {dataset.shape}\\n\")\n",
    "print(\"Dataset Example:\")\n",
    "print(dataset[:10,...])\n",
    "\n",
    "X = dataset[:,:-1].astype(float) #columns 0,1,2 contain the features\n",
    "Y = dataset[:,-1].astype(int)    # last column contains the labels\n",
    "Y = 2*Y-1                        # for the perceptron classical--> -1, metal-->1\n",
    "m = dataset.shape[0]\n",
    "print(\"\\nNumber of samples loaded:\", m)\n",
    "permutation = np.random.permutation(m) # random permutation\n",
    "\n",
    "X = X[permutation]\n",
    "Y = Y[permutation]"
   ]
  },
  {
   "cell_type": "markdown",
   "metadata": {},
   "source": [
    "We are going to classify class \"1\" (metal) vs class \"-1\" (classical)"
   ]
  },
  {
   "cell_type": "markdown",
   "metadata": {},
   "source": [
    "B) **TO DO** Divide the data into training set and test set (75% of the data in the first set, 25% in the second one)"
   ]
  },
  {
   "cell_type": "code",
   "execution_count": 5,
   "metadata": {},
   "outputs": [
    {
     "name": "stdout",
     "output_type": "stream",
     "text": [
      "There are at least 10 -1 in the training data\n",
      "There are at least 10 1 in the training data\n",
      "[ 1 -1 -1 -1 -1 -1  1  1 -1  1 -1  1 -1  1  1  1  1 -1  1 -1 -1 -1  1 -1\n",
      " -1  1 -1  1  1  1  1 -1  1  1 -1 -1 -1  1  1 -1 -1 -1 -1 -1  1 -1  1  1\n",
      " -1  1  1  1 -1  1 -1 -1 -1  1 -1 -1 -1 -1  1 -1  1 -1  1  1  1  1  1 -1\n",
      " -1  1  1 -1  1 -1  1 -1  1  1  1  1  1  1  1  1  1 -1 -1 -1 -1  1 -1 -1\n",
      "  1 -1  1 -1 -1  1  1 -1 -1  1  1 -1  1 -1  1  1 -1 -1  1  1 -1 -1  1  1\n",
      " -1 -1  1 -1 -1 -1  1  1 -1  1  1 -1 -1 -1 -1 -1  1 -1  1 -1 -1  1 -1  1\n",
      " -1  1  1  1 -1  1]\n",
      "50.0\n",
      "\n",
      "Number of classical instances in test: 25\n",
      "Number of metal instances in test: 25\n",
      "Shape of training set: (150, 3)\n",
      "Shape of test set: (50, 3)\n"
     ]
    }
   ],
   "source": [
    "# Divide in training and test: make sure that your training set\n",
    "# contains at least 10 elements from class 1 and at least 10 elements\n",
    "# from class -1! If it does not, modify the code so to apply more random\n",
    "# permutations (or the same permutation multiple times) until this happens.\n",
    "# IMPORTANT: do not change the random seed.\n",
    "\n",
    "\n",
    "# m_test needs to be the number of samples in the test set\n",
    "m_training = m*0.75\n",
    "\n",
    "\n",
    "# m_test needs to be the number of samples in the test set\n",
    "m_test = m - m_training\n",
    "\n",
    "\n",
    "# Here we split the data into testing and training\n",
    "X_training, X_test, Y_training, Y_test = sl.model_selection.train_test_split(X, Y, test_size=0.25)\n",
    "\n",
    "# Here we verify if the training data contains at least 10 1 and 10 -1\n",
    "if np.sum(Y_training==-1) >= 10:\n",
    "    print(\"There are at least 10 -1 in the training data\")\n",
    "else:\n",
    "    print(\"There are not at least 10 -1 in the training data\")\n",
    "if np.sum(Y_training==1) >= 10:\n",
    "    print(\"There are at least 10 1 in the training data\")\n",
    "else:\n",
    "    print(\"There are not at least 10 1 in the training data\")\n",
    "    \n",
    "\n",
    "\n",
    "print(Y_training) # to make sure that Y_training contains both 1 and -1\n",
    "print(m_test)\n",
    "\n",
    "print(\"\\nNumber of classical instances in test:\", np.sum(Y_test==-1))\n",
    "print(\"Number of metal instances in test:\", np.sum(Y_test==1))\n",
    "\n",
    "print(\"Shape of training set: \" + str(X_training.shape))\n",
    "print(\"Shape of test set: \" + str(X_test.shape))"
   ]
  },
  {
   "cell_type": "markdown",
   "metadata": {},
   "source": [
    "We add a 1 in front of each sample so that we can use a vector in homogeneous coordinates to describe all the coefficients of the model. This can be done with the function $hstack$ in $numpy$."
   ]
  },
  {
   "cell_type": "code",
   "execution_count": 6,
   "metadata": {},
   "outputs": [
    {
     "name": "stdout",
     "output_type": "stream",
     "text": [
      "Training set in homogeneous coordinates:\n",
      "[[1.00000000e+00 1.29199219e+02 4.87653545e-01 2.71855794e+03]\n",
      " [1.00000000e+00 9.93840144e+01 2.61489298e-01 1.37282581e+03]\n",
      " [1.00000000e+00 8.61328125e+01 2.27545203e-01 1.80070784e+03]\n",
      " [1.00000000e+00 1.43554688e+02 3.03928026e-01 1.12826402e+03]\n",
      " [1.00000000e+00 1.35999178e+02 2.46935361e-01 1.55881395e+03]\n",
      " [1.00000000e+00 1.17453835e+02 2.17421432e-01 1.17171850e+03]\n",
      " [1.00000000e+00 9.93840144e+01 5.24384020e-01 2.98015283e+03]\n",
      " [1.00000000e+00 6.15234375e+01 4.29974584e-01 2.38938800e+03]\n",
      " [1.00000000e+00 1.12347147e+02 3.03159348e-01 8.22263434e+02]\n",
      " [1.00000000e+00 1.07666016e+02 4.63511012e-01 3.01081626e+03]]\n",
      "[[1.00000000e+00 9.57031250e+01 1.81161139e-01 1.80746118e+03]\n",
      " [1.00000000e+00 1.12347147e+02 2.15063800e-01 1.36040835e+03]\n",
      " [1.00000000e+00 1.51999081e+02 2.66903700e-01 1.21387231e+03]\n",
      " [1.00000000e+00 1.29199219e+02 2.97342448e-01 1.18408039e+03]\n",
      " [1.00000000e+00 1.61499023e+02 4.97086151e-01 2.84806868e+03]\n",
      " [1.00000000e+00 9.93840144e+01 4.95874143e-01 2.65818516e+03]\n",
      " [1.00000000e+00 9.57031250e+01 5.16697528e-01 3.33873318e+03]\n",
      " [1.00000000e+00 1.12347147e+02 5.27123255e-01 2.25075610e+03]\n",
      " [1.00000000e+00 1.51999081e+02 5.10064298e-01 2.24131404e+03]\n",
      " [1.00000000e+00 9.57031250e+01 2.67155855e-01 9.83686387e+02]]\n"
     ]
    }
   ],
   "source": [
    "# Add a 1 to each sample (homogeneous coordinates)\n",
    "# We had to convert m_testing and m_training in integers to be valid inputs for the np.ones functions\n",
    "X_training = np.hstack((np.ones((int(m_training),1)),X_training))\n",
    "X_test = np.hstack((np.ones((int(m_test),1)),X_test))\n",
    "\n",
    "print(\"Training set in homogeneous coordinates:\")\n",
    "print(X_training[:10])\n",
    "print(X_test[:10])"
   ]
  },
  {
   "cell_type": "markdown",
   "metadata": {},
   "source": [
    "**TO DO** Now complete the function *perceptron*. Since the perceptron does not terminate if the data is not linearly separable, your implementation should return the desired output (see below) if it reached the termination condition seen in class or if a maximum number of iterations have already been run, where one iteration corresponds to one update of the perceptron weights. In case the termination is reached because the maximum number of iterations have been completed, the implementation should return **the best model** seen up to now.\n",
    "\n",
    "The input parameters to pass are:\n",
    "- $X$: the matrix of input features, one row for each sample\n",
    "- $Y$: the vector of labels for the input features matrix X\n",
    "- $max\\_num\\_iterations$: the maximum number of iterations for running the perceptron\n",
    "\n",
    "The output values are:\n",
    "- $best\\_w$: the vector with the coefficients of the best model\n",
    "- $best\\_error$: the *fraction* of misclassified samples for the best model"
   ]
  },
  {
   "cell_type": "code",
   "execution_count": 7,
   "metadata": {},
   "outputs": [],
   "source": [
    "# A template is provided, but feel free to build a different implementation\n",
    "\n",
    "def perceptron_update(current_w, x, y):\n",
    "    # Place in this function the update rule of the perceptron algorithm\n",
    "    new_w = current_w + y*x\n",
    "    return new_w\n",
    "\n",
    "\n",
    "def perceptron(X, Y, max_num_iterations):\n",
    "    # Place in this function the main section of the perceptron algorithm\n",
    "    \n",
    "    # Here we initialize the main variables\n",
    "    curr_w = [0, 0, 0, 0]\n",
    "    best_w = [0, 0, 0, 0]\n",
    "    best_error = 0\n",
    "    \n",
    "    # We initialize num_classified at 1 to be able to start the while cycle\n",
    "    num_misclassified = 1\n",
    "    \n",
    "    #main loop continue until all samples correctly classified or max # iterations reached\n",
    "    num_iter = 1\n",
    "    \n",
    "    while (num_misclassified > 0) and (num_iter <= max_num_iterations):\n",
    "        num_misclassified = 0\n",
    "        # Here for every repetition of the cycle we shuffle the arrays\n",
    "        second_permutation = np.random.permutation(len(X))\n",
    "        X = X[second_permutation]\n",
    "        Y = Y[second_permutation]\n",
    "        index_missclassified = []\n",
    "        \n",
    "        # Here we put in the list all the indexs of X_training wrongly labeled and we count the number\n",
    "        # of missclassified items\n",
    "        for i in range(len(X)):\n",
    "            if  (np.dot(X[i], curr_w)) * Y[i] <= 0:\n",
    "                index_missclassified.append(i)\n",
    "                num_misclassified += 1\n",
    "        # Here we randomly choice the index of the vector to apply the perceptron update\n",
    "        index_to_update = random.choice(index_missclassified)\n",
    "        # Here we update curr_w\n",
    "        curr_w = perceptron_update(curr_w, X[index_to_update] , Y[index_to_update])\n",
    "        best_w = np.copy(curr_w)\n",
    "        # here we update best_error\n",
    "        best_error = len(index_missclassified)/len(X)\n",
    "        num_iter += 1\n",
    "    \n",
    "    return best_w, best_error"
   ]
  },
  {
   "cell_type": "markdown",
   "metadata": {},
   "source": [
    "Now we use the implementation above of the perceptron to learn a model from the training data using 100 iterations and print the error of the best model we have found."
   ]
  },
  {
   "cell_type": "code",
   "execution_count": 8,
   "metadata": {},
   "outputs": [
    {
     "name": "stdout",
     "output_type": "stream",
     "text": [
      "Training Error of perpceptron (100 iterations):  0.31333333333333335\n",
      "The final w is:  [-3.20000000e+01 -4.04951771e+03 -2.40671287e+00 -9.66923070e+02]\n"
     ]
    }
   ],
   "source": [
    "#now run the perceptron for 100 iterations\n",
    "w_found, error = perceptron(X_training, Y_training, 100)\n",
    "print(\"Training Error of perpceptron (100 iterations): \", str(error))\n",
    "print(\"The final w is: \", w_found)"
   ]
  },
  {
   "cell_type": "markdown",
   "metadata": {},
   "source": [
    "**TO DO** use the best model $w\\_found$ to predict the labels for the test dataset and print the fraction of misclassified samples in the test set (the test error that is an estimate of the true loss)."
   ]
  },
  {
   "cell_type": "code",
   "execution_count": 9,
   "metadata": {},
   "outputs": [
    {
     "name": "stdout",
     "output_type": "stream",
     "text": [
      "Test Error of perpceptron (100 iterations): 0.5\n"
     ]
    }
   ],
   "source": [
    "#now use the w_found to make predictions on test dataset\n",
    "\n",
    "num_errors = 0\n",
    "# Here we compute the number of errors in the test data given w_found\n",
    "for i in range(len(X_test)):\n",
    "    if (np.dot(X_test[i], w_found) * Y_test[i]) <= 0:\n",
    "        num_errors += 1\n",
    "true_loss_estimate = num_errors/m_test  # error rate on the test set\n",
    "#NOTE: you can avoid using num_errors if you prefer, as long as true_loss_estimate is correct\n",
    "print(\"Test Error of perpceptron (100 iterations): \" + str(true_loss_estimate))"
   ]
  },
  {
   "cell_type": "markdown",
   "metadata": {},
   "source": [
    "**TO DO** **[Answer the following]** What about the difference betweeen the training error and the test error in terms of fraction of misclassified samples)? Explain what you observe. [Write the answer in this cell]\n",
    "\n",
    "**ANSWER QUESTION 1:**\n",
    "We have that the difference between the training error and the test error is relatively small . This could mean that the number of misclassified sample for the test data is significantly lower than for the training data but, the fraction of the miscalssified data in respect to their respective number of datas is very similar. We can say that the data are similarly distributed.\n",
    "We notice that the error is high, very close to 0.5 that correspnd to choosing the labels at random, so not the ideal situation, we can say that with 100 iterations the perceprtron alghoritm fails to find a good w."
   ]
  },
  {
   "cell_type": "markdown",
   "metadata": {},
   "source": [
    "**TO DO** Copy the code from the last 2 cells above in the cell below and repeat the training with 4000 iterations. Then print the error in the training set and the estimate of the true loss obtained from the test set."
   ]
  },
  {
   "cell_type": "code",
   "execution_count": 10,
   "metadata": {
    "scrolled": true
   },
   "outputs": [
    {
     "name": "stdout",
     "output_type": "stream",
     "text": [
      "Training Error of perpceptron (4000 iterations):  0.21333333333333335\n",
      "Test Error of perpceptron (4000 iterations):  0.3\n"
     ]
    }
   ],
   "source": [
    "#now run the perceptron for 3000 iterations here!\n",
    "\n",
    "w_found_2, error_2 = perceptron(X_training,Y_training, 4000)\n",
    "\n",
    "print(\"Training Error of perpceptron (4000 iterations): \", error_2)\n",
    "\n",
    "num_errors_2 = 0\n",
    "# Here we compute the number of errors in the test data given w_found\n",
    "for i in range(len(X_test)):\n",
    "    if (np.dot(X_test[i], w_found_2) * Y_test[i]) <= 0:\n",
    "        num_errors_2 += 1\n",
    "true_loss_estimate = num_errors_2/m_test  # error rate on the test set\n",
    "#NOTE: you can avoid using num_errors if you prefer, as long as true_loss_estimate is correct\n",
    "\n",
    "print(\"Test Error of perpceptron (4000 iterations): \", true_loss_estimate)"
   ]
  },
  {
   "cell_type": "markdown",
   "metadata": {},
   "source": [
    "**TO DO** [Answer the following] What about the difference betweeen the training error and the test error  in terms of fraction of misclassified samples) when running for a larger number of iterations ? Explain what you observe and compare with the previous case. [Write the answer in this cell]\n",
    "\n",
    "**ANSWER QUESTION 2:**\n",
    "We see in this case that both the training and the test error are less than half of what they were with 100 iterations. This make sense as the more iterations the more w will be close to the ideal w."
   ]
  },
  {
   "cell_type": "markdown",
   "metadata": {},
   "source": [
    "# Logistic Regression\n",
    "Now we use logistic regression, exploiting the implementation in Scikit-learn, to predict labels. We will also plot the decision region of logistic regression.\n",
    "\n",
    "We first load the dataset again."
   ]
  },
  {
   "cell_type": "code",
   "execution_count": 11,
   "metadata": {},
   "outputs": [
    {
     "name": "stdout",
     "output_type": "stream",
     "text": [
      "Header: ['tempo', 'chroma_stft', 'spectral_centroid', 'label']\n",
      "\n",
      "Data shape: (200, 4)\n",
      "\n",
      "Dataset Example:\n",
      "[['92.28515625' '0.22373830597598895' '2192.798091164326' '0']\n",
      " ['161.4990234375' '0.2841730455239421' '1534.0649775815205' '0']\n",
      " ['143.5546875' '0.20811288763962318' '1396.8242648287155' '0']\n",
      " ['95.703125' '0.31289954089595506' '1680.0882644413368' '0']\n",
      " ['123.046875' '0.25857228884109024' '1173.6583080518985' '0']\n",
      " ['67.99958881578948' '0.22521197942744986' '715.1893204778178' '0']\n",
      " ['95.703125' '0.2840176228179304' '1184.632142061296' '0']\n",
      " ['89.10290948275862' '0.2563949682674902' '1358.897902739857' '0']\n",
      " ['99.38401442307692' '0.2614892978768399' '1372.8258066922585' '0']\n",
      " ['184.5703125' '0.2899787266101455' '1953.0485341566464' '0']]\n",
      "\n",
      "Number of samples loaded: 200\n"
     ]
    }
   ],
   "source": [
    "# Load the dataset\n",
    "filename = 'data/music.csv'\n",
    "music = csv.reader(open(filename, newline='\\n'), delimiter=',')\n",
    "\n",
    "header = next(music) # skip first line\n",
    "print(f\"Header: {header}\\n\")\n",
    "\n",
    "dataset = np.array(list(music))\n",
    "print(f\"Data shape: {dataset.shape}\\n\")\n",
    "print(\"Dataset Example:\")\n",
    "print(dataset[:10,...])\n",
    "\n",
    "X = dataset[:,:-1].astype(float) # columns 0,1,2 contain the features\n",
    "Y = dataset[:,-1].astype(int)    # last column contains the labels\n",
    "\n",
    "Y = 2*Y-1                        # for the perceprton classical--> -1, metal-->1\n",
    "m = dataset.shape[0]\n",
    "print(\"\\nNumber of samples loaded:\", m)\n",
    "permutation = np.random.permutation(m) # random permutation\n",
    "\n",
    "X = X[permutation]\n",
    "Y = Y[permutation]"
   ]
  },
  {
   "cell_type": "markdown",
   "metadata": {},
   "source": [
    "**TO DO** As for the previous part, divide the data into training and test (75%-25%) and add a 1 as first component to each sample."
   ]
  },
  {
   "cell_type": "code",
   "execution_count": 12,
   "metadata": {},
   "outputs": [
    {
     "name": "stdout",
     "output_type": "stream",
     "text": [
      "There are at least 10 -1 in the training data\n",
      "There are at least 10 1 in the training data\n",
      "Number of samples in the test set: 50\n",
      "\n",
      "Number of classical instances in test: 23\n",
      "Number of metal instances in test: 27\n",
      "\n",
      "Shape of training set:  (150, 3)\n",
      "Shape of test set:  (50, 3)\n"
     ]
    }
   ],
   "source": [
    "#Divide in training and test: make sure that your training set\n",
    "#contains at least 10 elements from class 1 and at least 10 elements\n",
    "#from class -1! If it does not, modify the code so to apply more random\n",
    "#permutations (or the same permutation multiple times) until this happens.\n",
    "#IMPORTANT: do not change the random seed.\n",
    "\n",
    "m_training = m_training = math.floor(m*0.75)\n",
    "m_test = m-m_training\n",
    "\n",
    "# Here we split the data into testing and training\n",
    "X_training, X_test, Y_training, Y_test = sl.model_selection.train_test_split(X, Y, test_size=0.25)\n",
    "\n",
    "\n",
    "# Here we verify if the training data contains at least 10 1 and 10 -1\n",
    "if np.sum(Y_training==-1) >= 10:\n",
    "    print(\"There are at least 10 -1 in the training data\")\n",
    "else:\n",
    "    print(\"There are not at least 10 -1 in the training data\")\n",
    "if np.sum(Y_training==1) >= 10:\n",
    "    print(\"There are at least 10 1 in the training data\")\n",
    "else:\n",
    "    print(\"There are not at least 10 1 in the training data\")\n",
    "    \n",
    "print(\"Number of samples in the test set:\", m_test)\n",
    "print(\"\\nNumber of classical instances in test:\", np.sum(Y_test==-1))\n",
    "print(\"Number of metal instances in test:\", np.sum(Y_test==1))\n",
    "\n",
    "print(\"\\nShape of training set: \", X_training.shape)\n",
    "print(\"Shape of test set: \", X_test.shape)"
   ]
  },
  {
   "cell_type": "markdown",
   "metadata": {},
   "source": [
    "To define a logistic regression model in Scikit-learn use the instruction\n",
    "\n",
    "$linear\\_model.LogisticRegression(C=1e5)$\n",
    "\n",
    "($C$ is a parameter related to *regularization*, a technique that\n",
    "we will see later in the course. Setting it to a high value is almost\n",
    "as ignoring regularization, so the instruction above corresponds to the\n",
    "logistic regression you have seen in class.)\n",
    "\n",
    "To learn the model you need to use the $fit(...)$ instruction and to predict you need to use the $predict(...)$ function. See the Scikit-learn documentation for how to use it.\n",
    "\n",
    "**TO DO** Define the logistic regression model, then learn the model using the training set and predict on the test set. Then print the fraction of samples misclassified in the training set and in the test set."
   ]
  },
  {
   "cell_type": "code",
   "execution_count": 13,
   "metadata": {},
   "outputs": [
    {
     "name": "stdout",
     "output_type": "stream",
     "text": [
      "Error rate on training set:  0.006666666666666667\n",
      "Error rate on test set:  0.0\n"
     ]
    }
   ],
   "source": [
    "# part on logistic regression for 2 classes\n",
    "# We put fit_intercept = False because we're not working in homogeneus coordinates \n",
    "logreg = linear_model.LogisticRegression(C=1e5, fit_intercept=True) #a large C disables regularization\n",
    "\n",
    "#learn from training set\n",
    "regrfit = logreg.fit(X_training, Y_training)\n",
    "\n",
    "#predict on training set\n",
    "training_prediction = regrfit.predict(X_training)\n",
    "training_mistakes = 0\n",
    "#print the error rate = fraction of misclassified samples\n",
    "for i in range(m_training):\n",
    "    if Y_training[i] != training_prediction[i]:\n",
    "        training_mistakes += 1\n",
    "error_rate_training = training_mistakes/m_training\n",
    "print(\"Error rate on training set: \", error_rate_training)\n",
    "\n",
    "#predict on test set\n",
    "\n",
    "test_prediction = regrfit.predict(X_test)\n",
    "\n",
    "#print the error rate = fraction of misclassified samples\n",
    "test_mistakes = 0\n",
    "for i in range(m_test):\n",
    "    if Y_test[i] != test_prediction[i]:\n",
    "        test_mistakes += 1\n",
    "error_rate_test = test_mistakes/m_test\n",
    "print(\"Error rate on test set: \", error_rate_test)"
   ]
  },
  {
   "cell_type": "markdown",
   "metadata": {},
   "source": [
    "**TO DO** Now pick two features and restrict the dataset to include only two features, whose indices are specified in the $feature$ vector below. Then split into training and test. Which features are you going to select ?"
   ]
  },
  {
   "cell_type": "markdown",
   "metadata": {},
   "source": [
    "Now learn a model using the training data and measure the performances."
   ]
  },
  {
   "cell_type": "code",
   "execution_count": 14,
   "metadata": {},
   "outputs": [],
   "source": [
    "# To make the plot we need to reduce the data to 2D, so we choose two features\n",
    "features_list = ['tempo', 'chroma_stft', 'spectral_centroid']\n",
    "# We start choose the first and the last features because...\n",
    "index_feature1 = 0 \n",
    "index_feature2 =  2\n",
    "features = [index_feature1, index_feature2]\n",
    "\n",
    "feature_name0 = features_list[0]\n",
    "feature_name1 = features_list[2]\n",
    "\n",
    "X_reduced = X[:,features]\n",
    "X_training, X_test, Y_training, Y_test = sl.model_selection.train_test_split(X_reduced, Y, test_size=0.25)"
   ]
  },
  {
   "cell_type": "code",
   "execution_count": 15,
   "metadata": {},
   "outputs": [
    {
     "name": "stdout",
     "output_type": "stream",
     "text": [
      "Error rate on test set:  0.02\n"
     ]
    }
   ],
   "source": [
    "# Learning from training data\n",
    "# Here we've putfit_intercept = True because we've not used homogneus coordinates\n",
    "logreg = linear_model.LogisticRegression(C=1e5, fit_intercept=True)\n",
    "regrfit = logreg.fit(X_training, Y_training)\n",
    "test_prediction = regrfit.predict(X_test)\n",
    "#print the error rate = fraction of misclassified samples\n",
    "test_mistakes = 0\n",
    "for i in range(len(X_test)):\n",
    "    if Y_test[i] != test_prediction[i]:\n",
    "        test_mistakes += 1\n",
    "error_rate_test = test_mistakes/len(X_test)\n",
    "print(\"Error rate on test set: \", error_rate_test)"
   ]
  },
  {
   "cell_type": "code",
   "execution_count": 16,
   "metadata": {},
   "outputs": [],
   "source": [
    "# To make the plot we need to reduce the data to 2D, so we choose two features\n",
    "features_list = ['tempo', 'chroma_stft', 'spectral_centroid']\n",
    "# We start choose the first and the last features because...\n",
    "index_feature1 = 0 \n",
    "index_feature2 =  2\n",
    "features = [index_feature1, index_feature2]\n",
    "\n",
    "feature_name0 = features_list[0]\n",
    "feature_name1 = features_list[2]\n",
    "\n",
    "X_reduced = X[:,features]\n",
    "X_training, X_test, Y_training, Y_test = sl.model_selection.train_test_split(X_reduced, Y, test_size=0.25)"
   ]
  },
  {
   "cell_type": "code",
   "execution_count": 17,
   "metadata": {},
   "outputs": [
    {
     "name": "stdout",
     "output_type": "stream",
     "text": [
      "Error rate on test set:  0.0\n"
     ]
    }
   ],
   "source": [
    "# Learning from training data\n",
    "# Here we've putfit_intercept = True because we've not used homogneus coordinates\n",
    "logreg = linear_model.LogisticRegression(C=1e5, fit_intercept=True)\n",
    "regrfit = logreg.fit(X_training, Y_training)\n",
    "test_prediction = regrfit.predict(X_test)\n",
    "#print the error rate = fraction of misclassified samples\n",
    "test_mistakes = 0\n",
    "for i in range(len(X_test)):\n",
    "    if Y_test[i] != test_prediction[i]:\n",
    "        test_mistakes += 1\n",
    "error_rate_test = test_mistakes/len(X_test)\n",
    "print(\"Error rate on test set: \", error_rate_test)"
   ]
  },
  {
   "cell_type": "code",
   "execution_count": 18,
   "metadata": {},
   "outputs": [],
   "source": [
    "# To make the plot we need to reduce the data to 2D, so we choose two features\n",
    "features_list = ['tempo', 'chroma_stft', 'spectral_centroid']\n",
    "# We start choose the first and the last features because...\n",
    "index_feature1 = 1 \n",
    "index_feature2 =  2\n",
    "features = [index_feature1, index_feature2]\n",
    "\n",
    "feature_name0 = features_list[1]\n",
    "feature_name1 = features_list[2]\n",
    "\n",
    "X_reduced = X[:,features]\n",
    "X_training, X_test, Y_training, Y_test = sl.model_selection.train_test_split(X_reduced, Y, test_size=0.25)"
   ]
  },
  {
   "cell_type": "code",
   "execution_count": 19,
   "metadata": {},
   "outputs": [
    {
     "name": "stdout",
     "output_type": "stream",
     "text": [
      "Error rate on test set:  0.04\n"
     ]
    }
   ],
   "source": [
    "# Learning from training data\n",
    "# Here we've putfit_intercept = True because we've not used homogneus coordinates\n",
    "logreg = linear_model.LogisticRegression(C=1e5, fit_intercept=True)\n",
    "regrfit = logreg.fit(X_training, Y_training)\n",
    "test_prediction = regrfit.predict(X_test)\n",
    "#print the error rate = fraction of misclassified samples\n",
    "test_mistakes = 0\n",
    "for i in range(len(X_test)):\n",
    "    if Y_test[i] != test_prediction[i]:\n",
    "        test_mistakes += 1\n",
    "error_rate_test = test_mistakes/len(X_test)\n",
    "print(\"Error rate on test set: \", error_rate_test)"
   ]
  },
  {
   "cell_type": "markdown",
   "metadata": {},
   "source": [
    "**TO DO** [Answer the following] Which features did you select and why ? Compare the perfromances with the ones of the case with all the 3 features and comment about the results. [Write the answer in this cell]\n",
    "I chose the second and the third feature (index 1 and 2) due to the fact that they displayed the least errror between the three possible choiches of features, we see that the error is higher than the case of all the 3 features. That's maybe because we have less information in the 2 feature case.\n",
    "\n",
    "\n",
    "**ANSWER QUESTION 3**"
   ]
  },
  {
   "cell_type": "markdown",
   "metadata": {},
   "source": [
    "If everything is ok, the code below uses the model in $logreg$ to plot the decision region for the two features chosen above, with colors denoting the predicted value. It also plots the points (with correct labels) in the training set. It makes a similar plot for the test set."
   ]
  },
  {
   "cell_type": "code",
   "execution_count": 20,
   "metadata": {
    "scrolled": true
   },
   "outputs": [
    {
     "data": {
      "image/png": "[encoded data removed]",
      "text/plain": [
       "<Figure size 288x216 with 1 Axes>"
      ]
     },
     "metadata": {},
     "output_type": "display_data"
    },
    {
     "data": {
      "image/png": "[encoded data removed]",
      "text/plain": [
       "<Figure size 288x216 with 1 Axes>"
      ]
     },
     "metadata": {},
     "output_type": "display_data"
    }
   ],
   "source": [
    "# Plot the decision boundary. For that, we will assign a color to each\n",
    "# point in the mesh [x_min, x_max]x[y_min, y_max].\n",
    "\n",
    "# NOTICE: This visualization code has been developed for a \"standard\" solution of the notebook, \n",
    "# it could be necessary to make some fixes to adapt to your implementation\n",
    "\n",
    "h = .02  # step size in the mesh\n",
    "x_min, x_max = X_reduced[:, 0].min() - .5, X_reduced[:, 0].max() + .5\n",
    "y_min, y_max = X_reduced[:, 1].min() - .5, X_reduced[:, 1].max() + .5\n",
    "xx, yy = np.meshgrid(np.arange(x_min, x_max, h), np.arange(y_min, y_max, h))\n",
    "\n",
    "Z = logreg.predict(np.c_[xx.ravel(), yy.ravel()])\n",
    "\n",
    "# Put the result into a color plot\n",
    "Z = Z.reshape(xx.shape)\n",
    "\n",
    "plt.figure(1, figsize=(4, 3))\n",
    "plt.pcolormesh(xx, yy, Z, cmap=plt.cm.Paired, shading='auto')\n",
    "\n",
    "# Plot also the training points\n",
    "plt.scatter(X_training[:, 0], X_training[:, 1], c=Y_training, edgecolors='k', cmap=plt.cm.Paired)\n",
    "plt.xlabel(feature_name0)\n",
    "plt.ylabel(feature_name1)\n",
    "\n",
    "plt.xlim(xx.min(), xx.max())\n",
    "plt.ylim(yy.min(), yy.max())\n",
    "plt.xticks(())\n",
    "plt.yticks(())\n",
    "plt.title('Training set')\n",
    "\n",
    "plt.show()\n",
    "\n",
    "# Put the result into a color plot\n",
    "Z = Z.reshape(xx.shape)\n",
    "plt.figure(1, figsize=(4, 3))\n",
    "plt.pcolormesh(xx, yy, Z, cmap=plt.cm.Paired, shading='auto')\n",
    "\n",
    "# Plot also the test points \n",
    "plt.scatter(X_test[:, 0], X_test[:, 1], c=Y_test, edgecolors='k', cmap=plt.cm.Paired, marker='s')\n",
    "plt.xlabel(feature_name0)\n",
    "plt.ylabel(feature_name1)\n",
    "\n",
    "plt.xlim(xx.min(), xx.max())\n",
    "plt.ylim(yy.min(), yy.max())\n",
    "plt.xticks(())\n",
    "plt.yticks(())\n",
    "plt.title('Test set')\n",
    "plt.show()"
   ]
  },
  {
   "cell_type": "markdown",
   "metadata": {},
   "source": [
    "# 2) Linear Regression on the Boston House Price dataset\n",
    "\n",
    "### Dataset description: \n",
    "\n",
    "The Boston House Price Dataset involves the prediction of a house price in thousands of dollars given details about the house and its neighborhood.\n",
    "\n",
    "The dataset contains a total of 500 observations, which relate 13 input features to an output variable (house price).\n",
    "\n",
    "The variable names are as follows:\n",
    "\n",
    "CRIM: per capita crime rate by town.\n",
    "\n",
    "ZN: proportion of residential land zoned for lots over 25,000 sq.ft.\n",
    "\n",
    "INDUS: proportion of nonretail business acres per town.\n",
    "\n",
    "CHAS: Charles River dummy variable (= 1 if tract bounds river; 0 otherwise).\n",
    "\n",
    "NOX: nitric oxides concentration (parts per 10 million).\n",
    "\n",
    "RM: average number of rooms per dwelling.\n",
    "\n",
    "AGE: proportion of owner-occupied units built prior to 1940.\n",
    "\n",
    "DIS: weighted distances to five Boston employment centers.\n",
    "\n",
    "RAD: index of accessibility to radial highways.\n",
    "\n",
    "TAX: full-value property-tax rate per $10,000.\n",
    "\n",
    "PTRATIO: pupil-teacher ratio by town.\n",
    "\n",
    "B: 1000*(Bk – 0.63)2 where Bk is the proportion of blacks by town.\n",
    "\n",
    "LSTAT: % lower status of the population.\n",
    "\n",
    "MEDV: Median value of owner-occupied homes in $1000s.\n",
    "    "
   ]
  },
  {
   "cell_type": "code",
   "execution_count": 21,
   "metadata": {},
   "outputs": [],
   "source": [
    "#needed if you get the IPython/javascript error on the in-line plots\n",
    "%matplotlib nbagg  \n",
    "\n",
    "import matplotlib.pyplot as plt\n",
    "import numpy as np\n",
    "import scipy as sp\n",
    "from scipy import stats"
   ]
  },
  {
   "cell_type": "code",
   "execution_count": 22,
   "metadata": {},
   "outputs": [
    {
     "name": "stdout",
     "output_type": "stream",
     "text": [
      "DescribeResult(nobs=500, minmax=(array([6.3200e-03, 0.0000e+00, 4.6000e-01, 0.0000e+00, 3.8500e-01,\n",
      "       3.5610e+00, 2.9000e+00, 1.1296e+00, 1.0000e+00, 1.8700e+02,\n",
      "       1.2600e+01, 3.2000e-01, 1.7300e+00, 5.0000e+01]), array([ 88.9762, 100.    ,  27.74  ,   1.    ,   0.871 ,   8.78  ,\n",
      "       100.    ,  12.1265,  24.    , 711.    ,  22.    , 396.9   ,\n",
      "        37.97  , 500.    ])), mean=array([3.65578576e+00, 1.15000000e+01, 1.11317400e+01, 7.00000000e-02,\n",
      "       5.54451400e-01, 6.28297000e+00, 6.84246000e+01, 3.81193180e+00,\n",
      "       9.64200000e+00, 4.09624000e+02, 1.84286000e+01, 3.56208040e+02,\n",
      "       1.26987400e+01, 2.25680000e+02]), variance=array([7.47252195e+01, 5.48905812e+02, 4.76198228e+01, 6.52304609e-02,\n",
      "       1.35838329e-02, 4.97618330e-01, 7.99314163e+02, 4.46304043e+00,\n",
      "       7.59617595e+01, 2.85605197e+04, 4.67663531e+00, 8.41657137e+03,\n",
      "       5.13361942e+01, 8.52982926e+03]), skewness=array([ 5.17851447,  2.19924065,  0.29469001,  3.37060575,  0.72944382,\n",
      "        0.40691344, -0.58266003,  0.99061328,  0.9886802 ,  0.65098333,\n",
      "       -0.79127942, -2.85972639,  0.89051925,  1.09625625]), kurtosis=array([36.3384518 ,  3.88460431, -1.25254394,  9.3609831 , -0.10223624,\n",
      "        1.84311394, -0.99523636,  0.43299159, -0.90519243, -1.16696682,\n",
      "       -0.30903922,  7.00864873,  0.44527324,  1.4266838 ]))\n",
      "Shape of data array:  (500, 14)\n"
     ]
    }
   ],
   "source": [
    "#Import Data: Load the data from a .csv file\n",
    "\n",
    "filename = \"data/house.csv\"\n",
    "Data = np.genfromtxt(filename, delimiter=';',skip_header=1)\n",
    "\n",
    "#A quick overview of data, to inspect the data you can use the method describe()\n",
    "\n",
    "dataDescription = stats.describe(Data)\n",
    "print(dataDescription)\n",
    "print (\"Shape of data array: \", Data.shape)\n",
    "#for more interesting visualization: use Panda!"
   ]
  },
  {
   "cell_type": "markdown",
   "metadata": {},
   "source": [
    "# Split data in training and test sets\n",
    "\n",
    "\n",
    "\n",
    "Given $m$ total data, denote with $m_{t}$ the part used for training. Keep $m_t$ data as training data, and $m_{test}:= m-m_{t}$. For instance one can take $m_t=0.7m$ of the data as training and $m_{test}=0.3m$ as testing. Let us define as define\n",
    "\n",
    "$\\bullet$ $S_{t}$ the training data set\n",
    "\n",
    "$\\bullet$ $S_{test}$ the testing data set\n",
    "\n",
    "\n",
    "The reason for this splitting is as follows:\n",
    "\n",
    "TRAINING DATA: The training data are used to compute the empirical loss\n",
    "$$\n",
    "L_S(h) = \\frac{1}{m_t} \\sum_{z_i \\in S_{t}} \\ell(h,z_i)\n",
    "$$\n",
    "which is used to estimate $h$ in a given model class ${\\cal H}$.\n",
    "i.e. \n",
    "$$\n",
    "\\hat{h} = {\\rm arg\\; min}_{h \\in {\\cal H}} \\, L_S(h)\n",
    "$$\n",
    "\n",
    "TESTING DATA: The test data set can be used to estimate the performance of the final estimated model\n",
    "$\\hat h_{\\hat d_j}$ using:\n",
    "$$\n",
    "L_{{\\cal D}}(\\hat h_{\\hat d_j}) \\simeq \\frac{1}{m_{test}} \\sum_{ z_i \\in S_{test}} \\ell(\\hat h_{\\hat d_j},z_i)\n",
    "$$\n",
    "\n",
    "\n",
    "**TO DO**: split the data in training and test sets (70%-30%)"
   ]
  },
  {
   "cell_type": "code",
   "execution_count": 23,
   "metadata": {},
   "outputs": [
    {
     "name": "stdout",
     "output_type": "stream",
     "text": [
      "Total number of samples:  500\n",
      "Cardinality of Training Set:  350\n",
      "Test input data size:  (150, 13)\n",
      "Test output data size:  (150, 1)\n"
     ]
    }
   ],
   "source": [
    "#get number of total samples\n",
    "num_total_samples = Data.shape[0]\n",
    "\n",
    "print (\"Total number of samples: \", num_total_samples)\n",
    "\n",
    "m_t = int(num_total_samples*.7)\n",
    "print (\"Cardinality of Training Set: \", m_t)\n",
    "\n",
    "#shuffle the data\n",
    "np.random.shuffle(Data)\n",
    "\n",
    "#training data \n",
    "\n",
    "X_training, X_test, Y_training, Y_test = sl.model_selection.train_test_split(Data[:,:13], Data[:,13:], test_size=0.3)\n",
    "print (\"Test input data size: \", X_test.shape)\n",
    "print (\"Test output data size: \", Y_test.shape)"
   ]
  },
  {
   "cell_type": "markdown",
   "metadata": {},
   "source": [
    "# Data Normalization\n",
    "It is common practice in Statistics and Machine Learning to scale the data (= each variable) so that it is centered (zero mean) and has standard deviation equal to 1. This helps in terms of numerical conditioning of the (inverse) problems of estimating the model (the coefficients of the linear regression in this case), as well as to give the same scale to all the coefficients."
   ]
  },
  {
   "cell_type": "code",
   "execution_count": 24,
   "metadata": {},
   "outputs": [
    {
     "name": "stdout",
     "output_type": "stream",
     "text": [
      "Mean of the training input data: [-0.  0.  0. -0. -0. -0. -0. -0. -0.  0.  0.  0.  0.]\n",
      "Std of the training input data: [1. 1. 1. 1. 1. 1. 1. 1. 1. 1. 1. 1. 1.]\n",
      "Mean of the test input data: [-0.04525492 -0.02144379 -0.00116503 -0.01849001  0.02419081  0.04526494\n",
      "  0.010995    0.07902582 -0.1028403  -0.07914092 -0.02195708 -0.13414774\n",
      " -0.10569518]\n",
      "Std of the test input data: [0.94113586 0.98079729 0.96953225 0.96856577 1.04990958 1.00911991\n",
      " 0.98940499 0.94419401 0.95057023 0.97715711 1.06044836 1.10647641\n",
      " 0.84861997]\n"
     ]
    }
   ],
   "source": [
    "# scale the data\n",
    "\n",
    "# standardize the input matrix\n",
    "from sklearn import preprocessing\n",
    "# the transformation is computed on training data and then used on all the 3 sets\n",
    "scaler = preprocessing.StandardScaler().fit(X_training) \n",
    "\n",
    "np.set_printoptions(suppress=True) # sets to zero floating point numbers < min_float_eps\n",
    "X_training = scaler.transform(X_training)\n",
    "print (\"Mean of the training input data:\", X_training.mean(axis=0))\n",
    "print (\"Std of the training input data:\",X_training.std(axis=0))\n",
    "\n",
    "X_test = scaler.transform(X_test) # use the same transformation on test data\n",
    "print (\"Mean of the test input data:\", X_test.mean(axis=0))\n",
    "print (\"Std of the test input data:\", X_test.std(axis=0))"
   ]
  },
  {
   "cell_type": "markdown",
   "metadata": {},
   "source": [
    "# Model Training \n",
    "\n",
    "The model is trained (= estimated) minimizing the empirical error\n",
    "$$\n",
    "L_S(h) := \\frac{1}{m_t} \\sum_{z_i \\in S_{t}} \\ell(h,z_i)\n",
    "$$\n",
    "When the loss function is the quadratic loss\n",
    "$$\n",
    "\\ell(h,z) := (y - h(x))^2\n",
    "$$\n",
    "we define  the Residual Sum of Squares (RSS) as\n",
    "$$\n",
    "RSS(h):= \\sum_{z_i \\in S_{t}} \\ell(h,z_i) = \\sum_{z_i \\in S_{t}} (y_i - h(x_i))^2\n",
    "$$ so that the training error becomes\n",
    "$$\n",
    "L_S(h) = \\frac{RSS(h)}{m_t}\n",
    "$$\n",
    "\n",
    "We recal that, for linear models we have $h(x) = <w,x>$ and the Empirical error $L_S(h)$ can be written\n",
    "in terms of the vector of parameters $w$ in the form\n",
    "$$\n",
    "L_S(w) = \\frac{1}{m_t} \\|Y - X w\\|^2\n",
    "$$\n",
    "where $Y$ and $X$ are the matrices whose $i-$th row are, respectively, the output data $y_i$ and the input vectors $x_i^\\top$.\n",
    "\n",
    "\n",
    " **TO DO:** compute the linear regression coefficients using np.linalg.lstsq from scikitlear \n",
    " "
   ]
  },
  {
   "cell_type": "code",
   "execution_count": 25,
   "metadata": {},
   "outputs": [
    {
     "name": "stdout",
     "output_type": "stream",
     "text": [
      "LS coefficients with numpy lstsq: [[227.00571429]\n",
      " [ -9.50170493]\n",
      " [ 13.24761986]\n",
      " [  4.51602304]\n",
      " [  6.1880322 ]\n",
      " [-18.72942076]\n",
      " [ 23.71347975]\n",
      " [  1.32621655]\n",
      " [-33.2445228 ]\n",
      " [ 27.44786638]\n",
      " [-23.68651344]\n",
      " [-18.0254763 ]\n",
      " [  5.36322545]\n",
      " [-45.38854889]]\n",
      "RSS with numpy lstsq:  [823514.9890745]\n",
      "Empirical risk with numpy lstsq: [2352.89996878]\n",
      "RSS by hand:  [823514.9890745]\n"
     ]
    }
   ],
   "source": [
    "#compute linear regression coefficients for training data\n",
    "\n",
    "#add a 1 at the beginning of each sample for training, and testing (use homogeneous coordinates)\n",
    "m_training = X_training.shape[0]\n",
    "X_trainingH = np.hstack((np.ones((m_training,1)),X_training)) # H: in homogeneous coordinates\n",
    "\n",
    "m_test = X_test.shape[0]\n",
    "X_testH = np.hstack((np.ones((m_test,1)),X_test))  # H: in homogeneous coordinates\n",
    "\n",
    "# Compute the least-squares coefficients using linalg.lstsq\n",
    "w_np, RSStr_np, rank_Xtr, sv_Xtr = np.linalg.lstsq(X_trainingH, Y_training, rcond=None)\n",
    "print(\"LS coefficients with numpy lstsq:\", w_np)\n",
    "# Here we compute the Residual sums of squares by hand\n",
    "RSStr_hand = 0\n",
    "# We reshape w_np to perform the inner product\n",
    "w_np2 = np.reshape(w_np, (1, 14))\n",
    "for i in range(m_training):\n",
    "    RSStr_hand += (Y_training[i] - np.dot(w_np2, X_trainingH[i]))**2\n",
    "\n",
    "print(\"RSS with numpy lstsq: \", RSStr_np)\n",
    "print(\"Empirical risk with numpy lstsq:\", RSStr_np/m_training)\n",
    "print(\"RSS by hand: \", RSStr_hand)"
   ]
  },
  {
   "cell_type": "markdown",
   "metadata": {},
   "source": [
    "## Data prediction \n",
    "\n",
    "Compute the output predictions on both training and test set and compute the Residual Sum of Squares (RSS). \n",
    "\n",
    "**TO DO**: Compute these quantities on  training and test sets."
   ]
  },
  {
   "cell_type": "code",
   "execution_count": 26,
   "metadata": {},
   "outputs": [
    {
     "name": "stdout",
     "output_type": "stream",
     "text": [
      "RSS on test data: [2055206.32332278]\n",
      "Loss estimated from test data: [13701.37548882]\n",
      "(150, 1)\n",
      "(350, 1)\n"
     ]
    }
   ],
   "source": [
    "#compute predictions on training and test\n",
    "prediction_training_list = []\n",
    "for i in range(m_training):\n",
    "    prediction_training_list.append(np.dot(w_np2, X_trainingH[i]))\n",
    "prediction_training = np.array(prediction_training_list)\n",
    "prediction_test_list = []\n",
    "for i in range(m_test):\n",
    "    prediction_test_list.append(np.dot(w_np2, X_testH[i]))\n",
    "prediction_test = np.array(prediction_test_list)\n",
    "#what about the loss for points in the test data?\n",
    "RSS_test = 0\n",
    "for i in range(m_test):\n",
    "    RSS_test += (Y_training[i] - prediction_test[i])**2\n",
    "print(\"RSS on test data:\",  RSS_test)\n",
    "print(\"Loss estimated from test data:\", RSS_test/m_test)\n",
    "print(np.shape(prediction_test))\n",
    "print(np.shape(prediction_training))"
   ]
  },
  {
   "cell_type": "markdown",
   "metadata": {},
   "source": [
    "### QUESTION 4: Comment on the results you get and on the difference between the train and test errors.\n",
    "\n",
    "We see how the RSS computed by the algorithm and the one computed with the for cycle return roughly the same value hinting a correct algorithm implementantion. Furthermore we see how the loss estimated from the data is much bigger than the one computed with numpy lstsq algorithm."
   ]
  },
  {
   "cell_type": "markdown",
   "metadata": {},
   "source": [
    "## Ordinary Least-Squares using scikit-learn\n",
    "Another fast way to compute the LS estimate is through sklearn.linear_model (for this function homogeneous coordinates are not needed)."
   ]
  },
  {
   "cell_type": "code",
   "execution_count": 27,
   "metadata": {},
   "outputs": [
    {
     "name": "stdout",
     "output_type": "stream",
     "text": [
      "Intercept: [227.00571429]\n",
      "Least-Squares Coefficients: [[ -9.50170493  13.24761986   4.51602304   6.1880322  -18.72942076\n",
      "   23.71347975   1.32621655 -33.2445228   27.44786638 -23.68651344\n",
      "  -18.0254763    5.36322545 -45.38854889]]\n",
      "prediction_training sample :\n",
      " [[258.091289  ]\n",
      " [293.74077925]\n",
      " [228.48009667]\n",
      " [ 49.6288803 ]\n",
      " [185.09483272]\n",
      " [177.27107135]\n",
      " [237.11413294]\n",
      " [177.98962622]\n",
      " [174.98271395]\n",
      " [223.66645187]] \n",
      "\n",
      "prediction_test sample :\n",
      " [[ 85.35541274]\n",
      " [173.75964018]\n",
      " [341.55756872]\n",
      " [193.30678011]\n",
      " [115.90390592]\n",
      " [378.2417243 ]\n",
      " [250.84039783]\n",
      " [215.86496628]\n",
      " [218.32363867]\n",
      " [157.24247821]]\n",
      "Measure on training data: 0.26897065714147406\n"
     ]
    }
   ],
   "source": [
    "from sklearn import linear_model\n",
    "\n",
    "# build the LinearRegression() model and train it\n",
    "LinReg = sl.linear_model.LinearRegression().fit(X_training, Y_training)\n",
    "\n",
    "print(\"Intercept:\", LinReg.intercept_)\n",
    "print(\"Least-Squares Coefficients:\", LinReg.coef_)\n",
    "\n",
    "# predict output values on training and test sets\n",
    "\n",
    "prediction_training = LinReg.predict(X_training)\n",
    "prediction_test = LinReg.predict(X_test)\n",
    "print(\"prediction_training sample :\\n\", prediction_training[:10,],\"\\n\")\n",
    "print(\"prediction_test sample :\\n\", prediction_test[:10,])\n",
    "\n",
    "# return a prediction score based on the coefficient of determination\n",
    "print(\"Measure on training data:\", 1-LinReg.score(X_training, Y_training))"
   ]
  },
  {
   "cell_type": "code",
   "execution_count": null,
   "metadata": {},
   "outputs": [],
   "source": []
  }
 ],
 "metadata": {
  "anaconda-cloud": {},
  "kernelspec": {
   "display_name": "Python 3",
   "language": "python",
   "name": "python3"
  },
  "language_info": {
   "codemirror_mode": {
    "name": "ipython",
    "version": 3
   },
   "file_extension": ".py",
   "mimetype": "text/x-python",
   "name": "python",
   "nbconvert_exporter": "python",
   "pygments_lexer": "ipython3",
   "version": "3.8.8"
  }
 },
 "nbformat": 4,
 "nbformat_minor": 4
}
