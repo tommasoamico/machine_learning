{
 "cells": [
  {
   "cell_type": "markdown",
   "metadata": {},
   "source": [
    "# Kuzushiji Classification with Support Vector Machines\n",
    "\n",
    "In this notebook we are going to explore the use of Support Vector Machines (SVM) for image classification. We will use a variant of the famous MNIST dataset (the original is a dataset of handwritten digits). The version we are going to use is called Kuzushiji-MNIST or K-MNIST for short (https://github.com/rois-codh/kmnist) and is a dataset of traditional japanese handwritten kana.\n",
    "\n",
    "\n",
    "\n",
    "The dataset labels are the following:\n",
    "\n",
    "| Label | Hiragana Character | Romanji (Pronunciation) |\n",
    "| :-: | :-: | :-: |\n",
    "|   0   | お | o |\n",
    "| 1 | き | ki |\n",
    "| 2 | す | su |\n",
    "| 3 | つ | tsu |\n",
    "| 4 | な | na |\n",
    "| 5 | は | ha |\n",
    "| 6 | ま | ma |\n",
    "| 7 | や | ya |\n",
    "| 8 | れ | re |\n",
    "| 9 | を | wo |"
   ]
  },
  {
   "cell_type": "markdown",
   "metadata": {},
   "source": [
    "## TODO: Insert your surname, name and ID number\n",
    "\n",
    "Student surname: Amico\n",
    "\n",
    "Student name: Tommaso\n",
    "    \n",
    "ID:2054778"
   ]
  },
  {
   "cell_type": "code",
   "execution_count": 1,
   "metadata": {},
   "outputs": [],
   "source": [
    "#load the required packages\n",
    "\n",
    "%matplotlib inline  \n",
    "\n",
    "import numpy as np\n",
    "import scipy as sp\n",
    "import pandas as pd\n",
    "import matplotlib.pyplot as plt\n",
    "\n",
    "import sklearn\n",
    "from sklearn.datasets import fetch_openml\n",
    "from sklearn.neural_network import MLPClassifier\n",
    "from sklearn.decomposition import PCA\n",
    "import sklearn.metrics as skm"
   ]
  },
  {
   "cell_type": "code",
   "execution_count": 2,
   "metadata": {},
   "outputs": [],
   "source": [
    "# helper function to load Kuzushiji-MNIST dataset\n",
    "def load_mnist(path, kind='train'):\n",
    "    import os\n",
    "    import gzip\n",
    "    import numpy as np\n",
    "    labels_path = os.path.join(path, 'K%s-labels-idx1-ubyte.gz' % kind)\n",
    "    images_path = os.path.join(path, 'K%s-images-idx3-ubyte.gz' % kind)\n",
    "    with gzip.open(labels_path, 'rb') as lbpath:\n",
    "        labels = np.frombuffer(lbpath.read(), dtype=np.uint8,offset=8)\n",
    "    with gzip.open(images_path, 'rb') as imgpath:\n",
    "        images = np.frombuffer(imgpath.read(), dtype=np.uint8,offset=16).reshape(len(labels), 784)\n",
    "    return images, labels"
   ]
  },
  {
   "cell_type": "code",
   "execution_count": 3,
   "metadata": {},
   "outputs": [],
   "source": [
    "#fix your ID (\"numero di matricola\") and the seed for random generator (as usual you can try different seeds)\n",
    "ID = 2054778\n",
    "np.random.seed(ID)"
   ]
  },
  {
   "cell_type": "code",
   "execution_count": 4,
   "metadata": {},
   "outputs": [
    {
     "name": "stdout",
     "output_type": "stream",
     "text": [
      "(60000, 784) (60000,)\n"
     ]
    }
   ],
   "source": [
    "#load the K-MNIST dataset from the 'data' folder and let's normalize the features so that each value is in [0,1] \n",
    "\n",
    "X, y = load_mnist('data', kind='train')\n",
    "# rescale the data\n",
    "X, y = X / 255., y # original pixel values are between 0 and 255\n",
    "print(X.shape, y.shape)\n"
   ]
  },
  {
   "cell_type": "markdown",
   "metadata": {},
   "source": [
    "Now split into training and test. Make sure that each label is present at least 10 times\n",
    "in training. If it is not, then keep adding permutations to the initial data until this \n",
    "happens."
   ]
  },
  {
   "cell_type": "code",
   "execution_count": 5,
   "metadata": {},
   "outputs": [
    {
     "name": "stdout",
     "output_type": "stream",
     "text": [
      "(600, 784)\n",
      "(600,)\n",
      "Labels in training dataset:  [0 1 2 3 4 5 6 7 8 9]\n",
      "Frequencies in training dataset:  [55 70 65 49 53 55 58 54 71 70]\n"
     ]
    }
   ],
   "source": [
    "# Random permute the data and split into training and test taking the first 600\n",
    "# data samples as training and 4000 samples as test\n",
    "permutation = np.random.permutation(X.shape[0])\n",
    "\n",
    "X = X[permutation]\n",
    "y = y[permutation]\n",
    "\n",
    "m_training = 600\n",
    "m_test = 4000\n",
    "\n",
    "X_train, X_test = X[:m_training], X[m_training:m_training+m_test:]\n",
    "y_train, y_test = y[:m_training], y[m_training:m_training+m_test:]\n",
    "print(np.shape(X_train))\n",
    "print(np.shape(y_train))\n",
    "labels, freqs = np.unique(y_train, return_counts=True)\n",
    "print(\"Labels in training dataset: \", labels)\n",
    "print(\"Frequencies in training dataset: \", freqs)"
   ]
  },
  {
   "cell_type": "code",
   "execution_count": 6,
   "metadata": {},
   "outputs": [],
   "source": [
    "#function for plotting a image and printing the corresponding label\n",
    "def plot_input(X_matrix, labels, index):\n",
    "    print(\"INPUT:\")\n",
    "    plt.imshow(\n",
    "        X_matrix[index].reshape(28,28),\n",
    "        cmap          = plt.cm.gray_r,\n",
    "        interpolation = \"nearest\"\n",
    "    )\n",
    "    plt.show()\n",
    "    print(\"LABEL: %i\"%labels[index])\n",
    "    return"
   ]
  },
  {
   "cell_type": "code",
   "execution_count": 7,
   "metadata": {},
   "outputs": [
    {
     "name": "stdout",
     "output_type": "stream",
     "text": [
      "INPUT:\n"
     ]
    },
    {
     "data": {
      "image/png": "[encoded data removed]",
      "text/plain": [
       "<Figure size 432x288 with 1 Axes>"
      ]
     },
     "metadata": {
      "needs_background": "light"
     },
     "output_type": "display_data"
    },
    {
     "name": "stdout",
     "output_type": "stream",
     "text": [
      "LABEL: 2\n",
      "INPUT:\n"
     ]
    },
    {
     "data": {
      "image/png": "[encoded data removed]",
      "text/plain": [
       "<Figure size 432x288 with 1 Axes>"
      ]
     },
     "metadata": {
      "needs_background": "light"
     },
     "output_type": "display_data"
    },
    {
     "name": "stdout",
     "output_type": "stream",
     "text": [
      "LABEL: 8\n",
      "INPUT:\n"
     ]
    },
    {
     "data": {
      "image/png": "[encoded data removed]",
      "text/plain": [
       "<Figure size 432x288 with 1 Axes>"
      ]
     },
     "metadata": {
      "needs_background": "light"
     },
     "output_type": "display_data"
    },
    {
     "name": "stdout",
     "output_type": "stream",
     "text": [
      "LABEL: 2\n",
      "INPUT:\n"
     ]
    },
    {
     "data": {
      "image/png": "[encoded data removed]",
      "text/plain": [
       "<Figure size 432x288 with 1 Axes>"
      ]
     },
     "metadata": {
      "needs_background": "light"
     },
     "output_type": "display_data"
    },
    {
     "name": "stdout",
     "output_type": "stream",
     "text": [
      "LABEL: 4\n"
     ]
    }
   ],
   "source": [
    "#let's try the plotting function\n",
    "plot_input(X_train,y_train,5)\n",
    "plot_input(X_test,y_test,50)\n",
    "plot_input(X_test,y_test,500)\n",
    "plot_input(X_test,y_test,700)"
   ]
  },
  {
   "cell_type": "markdown",
   "metadata": {},
   "source": [
    "## TO DO 1\n",
    "Use a SVM classifier with cross validation to pick a model. Use a 4-fold cross-validation. Let's start with a Linear kernel:"
   ]
  },
  {
   "cell_type": "code",
   "execution_count": 8,
   "metadata": {},
   "outputs": [
    {
     "name": "stdout",
     "output_type": "stream",
     "text": [
      "RESULTS FOR LINEAR KERNEL:\n",
      "    mean_fit_time  std_fit_time  mean_score_time  std_score_time param_C  \\\n",
      "0       0.040242      0.008091         0.009534        0.000198    0.01   \n",
      "1       0.037353      0.000599         0.009129        0.000166     0.1   \n",
      "2       0.037283      0.000591         0.009023        0.000116       1   \n",
      "3       0.037209      0.000574         0.009035        0.000144      10   \n",
      "\n",
      "        params  split0_test_score  split1_test_score  split2_test_score  \\\n",
      "0  {'C': 0.01}           0.786667           0.766667           0.673333   \n",
      "1   {'C': 0.1}           0.793333           0.753333           0.720000   \n",
      "2     {'C': 1}           0.793333           0.753333           0.720000   \n",
      "3    {'C': 10}           0.793333           0.753333           0.720000   \n",
      "\n",
      "   split3_test_score  mean_test_score  std_test_score  rank_test_score  \n",
      "0           0.700000         0.731667        0.046518                4  \n",
      "1           0.766667         0.758333        0.026405                1  \n",
      "2           0.766667         0.758333        0.026405                1  \n",
      "3           0.766667         0.758333        0.026405                1   \n",
      "\n",
      "Best parameters set found: {'C': 0.1} \n",
      "\n",
      "Score with best parameters: 0.7583333333333333 \n",
      "\n",
      "All scores on the grid: \n",
      "\n",
      "[0.78666667 0.79333333 0.79333333 0.79333333]\n",
      "[0.76666667 0.75333333 0.75333333 0.75333333]\n",
      "[0.67333333 0.72       0.72       0.72      ]\n",
      "[0.7        0.76666667 0.76666667 0.76666667]\n",
      "\n",
      "\n",
      "\n",
      " Mean scores:\n",
      " [0.73166667 0.75833333 0.75833333 0.75833333]\n"
     ]
    }
   ],
   "source": [
    "#import SVC\n",
    "from sklearn.svm import SVC\n",
    "#import for Cross-Validation\n",
    "from sklearn.model_selection import GridSearchCV\n",
    "\n",
    "# parameters for linear SVM\n",
    "parameters = {'C': [0.01, 0.1, 1, 10]}\n",
    "#train linear SVM\n",
    "svm = SVC(kernel='linear')\n",
    "cross = GridSearchCV(svm, parameters, cv=4)\n",
    "cross.fit(X_train, y_train)\n",
    "\n",
    "# ADD YOUR CODE\n",
    "\n",
    "print ('RESULTS FOR LINEAR KERNEL:\\n', pd.DataFrame.from_dict(cross.cv_results_), \"\\n\")\n",
    "\n",
    "print(\"Best parameters set found:\", cross.best_params_, \"\\n\")\n",
    "# ADD YOUR CODE\n",
    "\n",
    "print(\"Score with best parameters:\", cross.best_score_, \"\\n\")\n",
    "# ADD YOUR CODE\n",
    "\n",
    "print(\"All scores on the grid:\", \"\\n\")\n",
    "print(cross.cv_results_['split0_test_score'])\n",
    "print(cross.cv_results_['split1_test_score'])\n",
    "print(cross.cv_results_['split2_test_score'])\n",
    "print(cross.cv_results_['split3_test_score'])\n",
    "print(\"\\n\")\n",
    "print('\\n Mean scores:\\n', cross.cv_results_['mean_test_score'])"
   ]
  },
  {
   "cell_type": "markdown",
   "metadata": {},
   "source": [
    "## TO DO 2\n",
    "Pick a model for the Polynomial kernel with degree=2:"
   ]
  },
  {
   "cell_type": "code",
   "execution_count": 9,
   "metadata": {},
   "outputs": [
    {
     "name": "stdout",
     "output_type": "stream",
     "text": [
      "RESULTS FOR POLY DEGREE=2 KERNEL \n",
      "    mean_fit_time  std_fit_time  mean_score_time  std_score_time param_C  \\\n",
      "0       0.059173      0.008746         0.012519        0.002438    0.01   \n",
      "1       0.044101      0.001070         0.009329        0.000087    0.01   \n",
      "2       0.047073      0.001486         0.008903        0.000155    0.01   \n",
      "3       0.051355      0.000156         0.010623        0.000051     0.1   \n",
      "4       0.046955      0.001560         0.008853        0.000067     0.1   \n",
      "5       0.046854      0.001312         0.008806        0.000128     0.1   \n",
      "6       0.044078      0.000949         0.009352        0.000132       1   \n",
      "7       0.047993      0.001277         0.010827        0.003321       1   \n",
      "8       0.074324      0.004702         0.017219        0.003133       1   \n",
      "\n",
      "  param_gamma                      params  split0_test_score  \\\n",
      "0        0.01  {'C': 0.01, 'gamma': 0.01}           0.200000   \n",
      "1         0.1   {'C': 0.01, 'gamma': 0.1}           0.793333   \n",
      "2           1     {'C': 0.01, 'gamma': 1}           0.820000   \n",
      "3        0.01   {'C': 0.1, 'gamma': 0.01}           0.480000   \n",
      "4         0.1    {'C': 0.1, 'gamma': 0.1}           0.820000   \n",
      "5           1      {'C': 0.1, 'gamma': 1}           0.820000   \n",
      "6        0.01     {'C': 1, 'gamma': 0.01}           0.793333   \n",
      "7         0.1      {'C': 1, 'gamma': 0.1}           0.820000   \n",
      "8           1        {'C': 1, 'gamma': 1}           0.820000   \n",
      "\n",
      "   split1_test_score  split2_test_score  split3_test_score  mean_test_score  \\\n",
      "0           0.200000           0.173333           0.113333         0.171667   \n",
      "1           0.773333           0.753333           0.726667         0.761667   \n",
      "2           0.766667           0.733333           0.773333         0.773333   \n",
      "3           0.460000           0.360000           0.400000         0.425000   \n",
      "4           0.766667           0.733333           0.773333         0.773333   \n",
      "5           0.766667           0.733333           0.773333         0.773333   \n",
      "6           0.773333           0.753333           0.726667         0.761667   \n",
      "7           0.766667           0.733333           0.773333         0.773333   \n",
      "8           0.766667           0.733333           0.773333         0.773333   \n",
      "\n",
      "   std_test_score  rank_test_score  \n",
      "0        0.035395                9  \n",
      "1        0.024664                6  \n",
      "2        0.030912                1  \n",
      "3        0.047697                8  \n",
      "4        0.030912                1  \n",
      "5        0.030912                1  \n",
      "6        0.024664                6  \n",
      "7        0.030912                1  \n",
      "8        0.030912                1   \n",
      "\n",
      "Best parameters set found: {'C': 0.01, 'gamma': 1} \n",
      "\n",
      "Score with best parameters: 0.7733333333333333\n",
      "\n",
      "All scores on the grid:\n",
      "[0.2   0.793 0.82  0.48  0.82  0.82  0.793 0.82  0.82 ]\n",
      "[0.2   0.773 0.767 0.46  0.767 0.767 0.773 0.767 0.767]\n",
      "[0.173 0.753 0.733 0.36  0.733 0.733 0.753 0.733 0.733]\n",
      "[0.113 0.727 0.773 0.4   0.773 0.773 0.727 0.773 0.773]\n",
      "\n",
      "\n",
      "\n",
      " Mean scores:\n",
      " [0.17166667 0.76166667 0.77333333 0.425      0.77333333 0.77333333\n",
      " 0.76166667 0.77333333 0.77333333]\n"
     ]
    }
   ],
   "source": [
    "# parameters for poly with degree 2 kernel\n",
    "parameters = {'C': [0.01, 0.1, 1],'gamma':[0.01,0.1,1]}\n",
    "\n",
    "#run SVM with poly of degree 2 kernel\n",
    "\n",
    "\n",
    "svm = SVC(kernel='poly', degree=2)\n",
    "cross2 = GridSearchCV(svm, parameters, cv=4)\n",
    "cross2.fit(X_train, y_train)\n",
    "\n",
    "print ('RESULTS FOR POLY DEGREE=2 KERNEL \\n', pd.DataFrame.from_dict(cross2.cv_results_), \"\\n\")\n",
    "\n",
    "print(\"Best parameters set found:\", cross2.best_params_, \"\\n\")\n",
    "# ADD YOUR CODE\n",
    "\n",
    "print(\"Score with best parameters:\", cross2.best_score_)\n",
    "# ADD YOUR CODE\n",
    "\n",
    "print(\"\\nAll scores on the grid:\")\n",
    "# ADD YOUR CODE\n",
    "print(np.around(cross2.cv_results_['split0_test_score'], decimals=3))\n",
    "print(np.around(cross2.cv_results_['split1_test_score'], decimals=3))\n",
    "print(np.around(cross2.cv_results_['split2_test_score'], decimals=3))\n",
    "print(np.around(cross2.cv_results_['split3_test_score'], decimals=3))\n",
    "print(\"\\n\")\n",
    "print('\\n Mean scores:\\n', cross2.cv_results_['mean_test_score'])"
   ]
  },
  {
   "cell_type": "markdown",
   "metadata": {},
   "source": [
    "## TO DO 3\n",
    "\n",
    "Now let's try a higher degree for the polynomial kernel (e.g., 3rd degree)."
   ]
  },
  {
   "cell_type": "code",
   "execution_count": 10,
   "metadata": {},
   "outputs": [
    {
     "name": "stdout",
     "output_type": "stream",
     "text": [
      "RESULTS FOR POLY DEGREE = 5  KERNEL    mean_fit_time  std_fit_time  mean_score_time  std_score_time param_C  \\\n",
      "0       0.063140      0.009103         0.011432        0.000233    0.01   \n",
      "1       0.062979      0.006748         0.012933        0.005725    0.01   \n",
      "2       0.083749      0.014683         0.015511        0.002480    0.01   \n",
      "3       0.082339      0.009723         0.016173        0.001856     0.1   \n",
      "4       0.058981      0.000942         0.009918        0.000515     0.1   \n",
      "5       0.075952      0.013752         0.013790        0.001915     0.1   \n",
      "6       0.071363      0.004112         0.015036        0.002798       1   \n",
      "7       0.080113      0.003047         0.019182        0.002955       1   \n",
      "8       0.064225      0.008769         0.010239        0.001040       1   \n",
      "\n",
      "  param_gamma                      params  split0_test_score  \\\n",
      "0        0.01  {'C': 0.01, 'gamma': 0.01}           0.133333   \n",
      "1         0.1   {'C': 0.01, 'gamma': 0.1}           0.566667   \n",
      "2           1     {'C': 0.01, 'gamma': 1}           0.566667   \n",
      "3        0.01   {'C': 0.1, 'gamma': 0.01}           0.253333   \n",
      "4         0.1    {'C': 0.1, 'gamma': 0.1}           0.566667   \n",
      "5           1      {'C': 0.1, 'gamma': 1}           0.566667   \n",
      "6        0.01     {'C': 1, 'gamma': 0.01}           0.573333   \n",
      "7         0.1      {'C': 1, 'gamma': 0.1}           0.566667   \n",
      "8           1        {'C': 1, 'gamma': 1}           0.566667   \n",
      "\n",
      "   split1_test_score  split2_test_score  split3_test_score  mean_test_score  \\\n",
      "0           0.140000           0.126667           0.113333         0.128333   \n",
      "1           0.526667           0.493333           0.600000         0.546667   \n",
      "2           0.526667           0.466667           0.600000         0.540000   \n",
      "3           0.300000           0.280000           0.240000         0.268333   \n",
      "4           0.526667           0.466667           0.600000         0.540000   \n",
      "5           0.526667           0.466667           0.600000         0.540000   \n",
      "6           0.573333           0.466667           0.500000         0.528333   \n",
      "7           0.526667           0.466667           0.600000         0.540000   \n",
      "8           0.526667           0.466667           0.600000         0.540000   \n",
      "\n",
      "   std_test_score  rank_test_score  \n",
      "0        0.009860                9  \n",
      "1        0.040277                1  \n",
      "2        0.049666                2  \n",
      "3        0.023274                8  \n",
      "4        0.049666                2  \n",
      "5        0.049666                2  \n",
      "6        0.046518                7  \n",
      "7        0.049666                2  \n",
      "8        0.049666                2   \n",
      "\n",
      "Best parameters set found: {'C': 0.01, 'gamma': 0.1} \n",
      "\n",
      "Score with best parameters: 0.5466666666666666 \n",
      "\n",
      "\n",
      "All scores on the grid:\n",
      "[0.133 0.567 0.567 0.253 0.567 0.567 0.573 0.567 0.567]\n",
      "[0.14  0.527 0.527 0.3   0.527 0.527 0.573 0.527 0.527]\n",
      "[0.127 0.493 0.467 0.28  0.467 0.467 0.467 0.467 0.467]\n",
      "[0.113 0.6   0.6   0.24  0.6   0.6   0.5   0.6   0.6  ]\n",
      "\n",
      "\n",
      "\n",
      " Mean scores:\n",
      " [0.12833333 0.54666667 0.54       0.26833333 0.54       0.54\n",
      " 0.52833333 0.54       0.54      ]\n"
     ]
    }
   ],
   "source": [
    "# parameters for poly with higher degree kernel\n",
    "parameters = {'C': [0.01, 0.1, 1],'gamma':[0.01,0.1,1]}\n",
    "\n",
    "#run SVM with poly of higher degree kernel\n",
    "degree = 5\n",
    "svm = SVC(kernel='poly', degree=5)\n",
    "cross3 = GridSearchCV(svm, parameters, cv=4)\n",
    "cross3.fit(X_train, y_train)\n",
    "# ADD YOUR CODE\n",
    "\n",
    "print ('RESULTS FOR POLY DEGREE =', degree, ' KERNEL', pd.DataFrame.from_dict(cross3.cv_results_), \"\\n\")\n",
    "\n",
    "print(\"Best parameters set found:\", cross3.best_params_, \"\\n\")\n",
    "# ADD YOUR CODE\n",
    "\n",
    "print(\"Score with best parameters:\", cross3.best_score_, \"\\n\")\n",
    "# ADD YOUR CODE\n",
    "\n",
    "print(\"\\nAll scores on the grid:\")\n",
    "# ADD YOUR CODE\n",
    "print(np.around(cross3.cv_results_['split0_test_score'], decimals=3))\n",
    "print(np.around(cross3.cv_results_['split1_test_score'], decimals=3))\n",
    "print(np.around(cross3.cv_results_['split2_test_score'], decimals=3))\n",
    "print(np.around(cross3.cv_results_['split3_test_score'], decimals=3))\n",
    "print(\"\\n\")\n",
    "print('\\n Mean scores:\\n', cross3.cv_results_['mean_test_score'])"
   ]
  },
  {
   "cell_type": "markdown",
   "metadata": {},
   "source": [
    "## TO DO 4\n",
    "Pick a model for the Radial Basis Function kernel:"
   ]
  },
  {
   "cell_type": "code",
   "execution_count": 11,
   "metadata": {},
   "outputs": [
    {
     "name": "stdout",
     "output_type": "stream",
     "text": [
      "RESULTS FOR rbf KERNEL     mean_fit_time  std_fit_time  mean_score_time  std_score_time param_C  \\\n",
      "0        0.063525      0.006591         0.025804        0.000283     0.1   \n",
      "1        0.060892      0.000307         0.027023        0.001257     0.1   \n",
      "2        0.085954      0.016583         0.039959        0.009461     0.1   \n",
      "3        0.071321      0.010777         0.030877        0.006974     0.1   \n",
      "4        0.062280      0.009464         0.030091        0.006416       1   \n",
      "5        0.062817      0.001843         0.026474        0.001478       1   \n",
      "6        0.087128      0.012308         0.031961        0.006348       1   \n",
      "7        0.082820      0.011820         0.035487        0.004306       1   \n",
      "8        0.042565      0.002094         0.023439        0.000651      10   \n",
      "9        0.070800      0.010704         0.027922        0.002826      10   \n",
      "10       0.087563      0.018179         0.039160        0.012756      10   \n",
      "11       0.068877      0.002335         0.025872        0.000522      10   \n",
      "12       0.058823      0.011802         0.032972        0.008543     100   \n",
      "13       0.077952      0.008286         0.039627        0.008098     100   \n",
      "14       0.082147      0.010189         0.035925        0.009804     100   \n",
      "15       0.069162      0.000937         0.027346        0.000362     100   \n",
      "\n",
      "   param_gamma                      params  split0_test_score  \\\n",
      "0        0.001  {'C': 0.1, 'gamma': 0.001}           0.186667   \n",
      "1         0.01   {'C': 0.1, 'gamma': 0.01}           0.226667   \n",
      "2          0.1    {'C': 0.1, 'gamma': 0.1}           0.133333   \n",
      "3            1      {'C': 0.1, 'gamma': 1}           0.120000   \n",
      "4        0.001    {'C': 1, 'gamma': 0.001}           0.653333   \n",
      "5         0.01     {'C': 1, 'gamma': 0.01}           0.840000   \n",
      "6          0.1      {'C': 1, 'gamma': 0.1}           0.180000   \n",
      "7            1        {'C': 1, 'gamma': 1}           0.120000   \n",
      "8        0.001   {'C': 10, 'gamma': 0.001}           0.806667   \n",
      "9         0.01    {'C': 10, 'gamma': 0.01}           0.860000   \n",
      "10         0.1     {'C': 10, 'gamma': 0.1}           0.206667   \n",
      "11           1       {'C': 10, 'gamma': 1}           0.120000   \n",
      "12       0.001  {'C': 100, 'gamma': 0.001}           0.840000   \n",
      "13        0.01   {'C': 100, 'gamma': 0.01}           0.860000   \n",
      "14         0.1    {'C': 100, 'gamma': 0.1}           0.206667   \n",
      "15           1      {'C': 100, 'gamma': 1}           0.120000   \n",
      "\n",
      "    split1_test_score  split2_test_score  split3_test_score  mean_test_score  \\\n",
      "0            0.240000           0.173333           0.113333         0.178333   \n",
      "1            0.280000           0.273333           0.140000         0.230000   \n",
      "2            0.166667           0.160000           0.113333         0.143333   \n",
      "3            0.213333           0.120000           0.113333         0.141667   \n",
      "4            0.653333           0.546667           0.626667         0.620000   \n",
      "5            0.793333           0.726667           0.740000         0.775000   \n",
      "6            0.220000           0.206667           0.146667         0.188333   \n",
      "7            0.126667           0.120000           0.113333         0.120000   \n",
      "8            0.780000           0.740000           0.746667         0.768333   \n",
      "9            0.806667           0.786667           0.806667         0.815000   \n",
      "10           0.233333           0.226667           0.173333         0.210000   \n",
      "11           0.126667           0.133333           0.113333         0.123333   \n",
      "12           0.753333           0.733333           0.780000         0.776667   \n",
      "13           0.806667           0.786667           0.806667         0.815000   \n",
      "14           0.233333           0.226667           0.173333         0.210000   \n",
      "15           0.126667           0.133333           0.113333         0.123333   \n",
      "\n",
      "    std_test_score  rank_test_score  \n",
      "0         0.045062               11  \n",
      "1         0.055877                7  \n",
      "2         0.021344               12  \n",
      "3         0.041466               13  \n",
      "4         0.043716                6  \n",
      "5         0.045062                4  \n",
      "6         0.028038               10  \n",
      "7         0.004714               16  \n",
      "8         0.026822                5  \n",
      "9         0.027234                1  \n",
      "10        0.023333                8  \n",
      "11        0.007454               14  \n",
      "12        0.040139                3  \n",
      "13        0.027234                1  \n",
      "14        0.023333                8  \n",
      "15        0.007454               14   \n",
      "\n",
      "Best parameters set found: {'C': 10, 'gamma': 0.01} \n",
      "\n",
      "Score with best parameters: 0.815 \n",
      "\n",
      "\n",
      "All scores on the grid:\n",
      "[0.187 0.227 0.133 0.12  0.653 0.84  0.18  0.12  0.807 0.86  0.207 0.12\n",
      " 0.84  0.86  0.207 0.12 ]\n",
      "[0.24  0.28  0.167 0.213 0.653 0.793 0.22  0.127 0.78  0.807 0.233 0.127\n",
      " 0.753 0.807 0.233 0.127]\n",
      "[0.173 0.273 0.16  0.12  0.547 0.727 0.207 0.12  0.74  0.787 0.227 0.133\n",
      " 0.733 0.787 0.227 0.133]\n",
      "[0.113 0.14  0.113 0.113 0.627 0.74  0.147 0.113 0.747 0.807 0.173 0.113\n",
      " 0.78  0.807 0.173 0.113]\n",
      "\n",
      "\n",
      "\n",
      " Mean scores:\n",
      " [0.178 0.23  0.143 0.142 0.62  0.775 0.188 0.12  0.768 0.815 0.21  0.123\n",
      " 0.777 0.815 0.21  0.123]\n"
     ]
    }
   ],
   "source": [
    "# parameters for rbf SVM\n",
    "parameters = {'C': [0.1, 1, 10, 100],'gamma':[0.001, 0.01, 0.1,1]}\n",
    "\n",
    "#run SVM with rbf kernel\n",
    "\n",
    "# ADD YOUR CODE\n",
    "svm = SVC(kernel='rbf')\n",
    "cross4 = GridSearchCV(svm, parameters, cv=4)\n",
    "cross4.fit(X_train, y_train)\n",
    "\n",
    "print ('RESULTS FOR rbf KERNEL', pd.DataFrame.from_dict(cross4.cv_results_) , \"\\n\")\n",
    "\n",
    "print(\"Best parameters set found:\", cross4.best_params_, \"\\n\")\n",
    "# ADD YOUR CODE\n",
    "\n",
    "print(\"Score with best parameters:\", cross4.best_score_, \"\\n\")\n",
    "# ADD YOUR CODE\n",
    "\n",
    "print(\"\\nAll scores on the grid:\")\n",
    "# ADD YOUR CODE\n",
    "print(np.around(cross4.cv_results_['split0_test_score'], decimals=3))\n",
    "print(np.around(cross4.cv_results_['split1_test_score'], decimals=3))\n",
    "print(np.around(cross4.cv_results_['split2_test_score'], decimals=3))\n",
    "print(np.around(cross4.cv_results_['split3_test_score'], decimals=3))\n",
    "print(\"\\n\")\n",
    "print('\\n Mean scores:\\n', np.around(cross4.cv_results_['mean_test_score'], decimals=3))"
   ]
  },
  {
   "cell_type": "markdown",
   "metadata": {},
   "source": [
    "## QUESTION 1\n",
    "What do you observe when using linear, polynomial and RBF kernels on this dataset ?"
   ]
  },
  {
   "cell_type": "markdown",
   "metadata": {},
   "source": [
    "I observe that the score with the best parameters increase up to the degree 2 case, after that it starts decreasing.\n",
    "The highest score prediction comes with the rbf kernel."
   ]
  },
  {
   "cell_type": "markdown",
   "metadata": {},
   "source": [
    "## TO DO 5\n",
    "Report here the best SVM kernel and parameters"
   ]
  },
  {
   "cell_type": "code",
   "execution_count": 12,
   "metadata": {},
   "outputs": [
    {
     "name": "stdout",
     "output_type": "stream",
     "text": [
      "Best SVM training error: 0.000000\n",
      "Best SVM test error: 0.181500\n"
     ]
    }
   ],
   "source": [
    "#get training and test error for the best SVM model from CV\n",
    "best_SVM = SVC(kernel='rbf', C=10, gamma=0.01)\n",
    "best_SVM.fit(X_train, y_train)\n",
    "training_error = 1 - best_SVM.score(X_train, y_train)\n",
    "test_error = 1 - best_SVM.score(X_test, y_test)\n",
    "\n",
    "\n",
    "# (error is 1 - svm.score)\n",
    "\n",
    "print (\"Best SVM training error: %f\" % training_error)\n",
    "print (\"Best SVM test error: %f\" % test_error)"
   ]
  },
  {
   "cell_type": "markdown",
   "metadata": {},
   "source": [
    "## TO DO 6\n",
    "\n",
    "Analyze how the gamma parameter (inversely proportional to standard deviation of Gaussian Kernel) impact the performances of the classifier"
   ]
  },
  {
   "cell_type": "code",
   "execution_count": 13,
   "metadata": {},
   "outputs": [],
   "source": [
    "#Test with different values of gamma\n",
    "\n",
    "# Set gamma values\n",
    "gamma_values = np.logspace(-5,2,8)"
   ]
  },
  {
   "cell_type": "code",
   "execution_count": 14,
   "metadata": {},
   "outputs": [
    {
     "data": {
      "image/png": "[encoded data removed]",
      "text/plain": [
       "<Figure size 1080x360 with 2 Axes>"
      ]
     },
     "metadata": {
      "needs_background": "light"
     },
     "output_type": "display_data"
    }
   ],
   "source": [
    "# Try the SVM with the previously set values of gamma\n",
    "# use rbf kernel and C=1\n",
    "\n",
    "train_acc_list, test_acc_list = [], []\n",
    "\n",
    "    \n",
    "# ADD YOUR CODE TO TRAIN THE SVM MULTIPLE TIMES WITH THE DIFFERENT VALUES OF GAMMA\n",
    "# PLACE THE TRAIN AND TEST ACCURACY FOR EACH TEST IN THE TRAIN AND TEST ACCURACY LISTS\n",
    "for i in gamma_values:\n",
    "    svm = SVC(kernel='rbf', C=1, gamma=i)\n",
    "    svm.fit(X_train, y_train)\n",
    "    #parameters= {'C': [1],'gamma':[i]}\n",
    "    #cross = GridSearchCV(svm, parameters, cv=4)\n",
    "    #cross.fit(X_train, y_train)\n",
    "    train_acc_list.append(svm.score(X_train, y_train))\n",
    "    test_acc_list.append(svm.score(X_test, y_test))\n",
    "# Plot\n",
    "fig, ax = plt.subplots(1,2, figsize=(15,5))\n",
    "\n",
    "ax[0].plot(gamma_values, train_acc_list)\n",
    "ax[0].set_xscale('log')\n",
    "ax[0].set_xlabel('gamma')\n",
    "ax[0].set_ylabel('Train accuracy')\n",
    "ax[0].grid(True)\n",
    "\n",
    "ax[1].plot(gamma_values, test_acc_list)\n",
    "ax[1].set_xscale('log')\n",
    "ax[1].set_xlabel('gamma')\n",
    "ax[1].set_ylabel('Test accuracy')\n",
    "ax[1].grid(True)\n",
    "\n",
    "\n",
    "plt.show()"
   ]
  },
  {
   "cell_type": "markdown",
   "metadata": {},
   "source": [
    "## QUESTION 2\n",
    "How do the train and test error change when changing gamma ? Which is the best value of gamma ? \n",
    "Connect your answers to the discussion about the overfitting issue."
   ]
  },
  {
   "cell_type": "markdown",
   "metadata": {},
   "source": [
    "We see from the plots that the training accuracy is a monotonic increasing fuinction of gamma.\n",
    "As far as the test accuracy we see that it has a maximum for gamma=10^{-2}, so we take as the best value of gamma 10^{-2}.\n",
    "We can interpret the increasing training accuracy with gamma > 10^{-2} as overfitting, with the rbf that tends to fit every point perfectly but with poor generalization capabilities."
   ]
  },
  {
   "cell_type": "markdown",
   "metadata": {},
   "source": [
    "## More data\n",
    "Now let's do the same but using more data points for training.\n",
    "\n",
    "\n",
    "Choose a new number of data points."
   ]
  },
  {
   "cell_type": "code",
   "execution_count": 15,
   "metadata": {},
   "outputs": [
    {
     "name": "stdout",
     "output_type": "stream",
     "text": [
      "Labels in training dataset:  [0 1 2 3 4 5 6 7 8 9]\n",
      "Frequencies in training dataset:  [208 190 210 199 209 216 175 217 193 183]\n"
     ]
    }
   ],
   "source": [
    "X = X[permutation]\n",
    "y = y[permutation]\n",
    "\n",
    "m_training = 2000 # TODO number of data points, adjust depending on the capabilities of your PC\n",
    "\n",
    "X_train, X_test = X[:m_training], X[m_training:]\n",
    "y_train, y_test = y[:m_training], y[m_training:]\n",
    "\n",
    "labels, freqs = np.unique(y_train, return_counts=True)\n",
    "print(\"Labels in training dataset: \", labels)\n",
    "print(\"Frequencies in training dataset: \", freqs)"
   ]
  },
  {
   "cell_type": "markdown",
   "metadata": {},
   "source": [
    "## TO DO 7\n",
    "\n",
    "Let's try to use SVM with parameters obtained from the best model for $m_{training} =  2000$. Since it may take a long time to run, you can decide to just let it run for some time and stop it if it does not complete. If you decide to do this, report it in the cell below."
   ]
  },
  {
   "cell_type": "code",
   "execution_count": 16,
   "metadata": {
    "scrolled": true
   },
   "outputs": [
    {
     "name": "stdout",
     "output_type": "stream",
     "text": [
      "Best SVM training error: 0.000000\n",
      "Best SVM test error: 0.112172\n"
     ]
    }
   ],
   "source": [
    "#get training and test error for the best SVM model from CV\n",
    "\n",
    "svm = SVC(kernel='rbf', C=10, gamma=0.01)\n",
    "svm.fit(X_train, y_train)\n",
    "training_error = 1 - svm.score(X_train, y_train)\n",
    "test_error = 1 - svm.score(X_test, y_test)\n",
    "\n",
    "print (\"Best SVM training error: %f\" % training_error)\n",
    "print (\"Best SVM test error: %f\" % test_error)"
   ]
  },
  {
   "cell_type": "markdown",
   "metadata": {},
   "source": [
    "Just for comparison, let's also use logistic regression \n",
    "\n",
    "## TO DO 8 Try first without regularization (use a very large large C)¶"
   ]
  },
  {
   "cell_type": "code",
   "execution_count": 17,
   "metadata": {},
   "outputs": [
    {
     "name": "stdout",
     "output_type": "stream",
     "text": [
      "Best logistic regression training error: 0.000000\n",
      "Best logistic regression test error: 0.269224\n"
     ]
    }
   ],
   "source": [
    "from sklearn import linear_model\n",
    "\n",
    "logreg = linear_model.LogisticRegression(C=1e5, max_iter=1000)\n",
    "logreg.fit(X_train, y_train)\n",
    "training_error = 1-logreg.score(X_train, y_train)\n",
    "test_error = 1-logreg.score(X_test, y_test)\n",
    "print (\"Best logistic regression training error: %f\" % training_error)\n",
    "print (\"Best logistic regression test error: %f\" % test_error)"
   ]
  },
  {
   "cell_type": "markdown",
   "metadata": {},
   "source": [
    "## TO DO 9 Try  with regularization (use C=1)¶"
   ]
  },
  {
   "cell_type": "code",
   "execution_count": 18,
   "metadata": {},
   "outputs": [
    {
     "name": "stdout",
     "output_type": "stream",
     "text": [
      "Best logistic regression training error: 0.000000\n",
      "Best logistic regression test error: 0.246655\n"
     ]
    }
   ],
   "source": [
    "logreg = linear_model.LogisticRegression(C=1, max_iter=1000)\n",
    "logreg.fit(X_train, y_train)\n",
    "training_error = 1-logreg.score(X_train, y_train)\n",
    "test_error = 1-logreg.score(X_test, y_test)\n",
    "print (\"Best logistic regression training error: %f\" % training_error)\n",
    "print (\"Best logistic regression test error: %f\" % test_error)"
   ]
  },
  {
   "cell_type": "markdown",
   "metadata": {},
   "source": [
    "## QUESTION 3\n",
    "Compare and discuss:\n",
    "- the results from SVM with m=600 and with m=2000 training data points. If you stopped the SVM, include such aspect in your comparison.\n",
    "- the results of SVM and of Logistic Regression"
   ]
  },
  {
   "cell_type": "markdown",
   "metadata": {},
   "source": [
    "We see how the test error with 2000 training data points is nearly half of what it was with 600 data points.\n",
    "As far as logistic regression we have that the test error is higher of both the m=2000 and m=600 cases treated with SVM, suggesting that the logistic regression performs worse."
   ]
  },
  {
   "cell_type": "markdown",
   "metadata": {},
   "source": [
    "## TO DO 10\n",
    "Plot an item of clothing that is missclassified by logistic regression and correctly classified by SVM."
   ]
  },
  {
   "cell_type": "code",
   "execution_count": 19,
   "metadata": {},
   "outputs": [
    {
     "name": "stdout",
     "output_type": "stream",
     "text": [
      "INPUT:\n"
     ]
    },
    {
     "data": {
      "image/png": "[encoded data removed]",
      "text/plain": [
       "<Figure size 432x288 with 1 Axes>"
      ]
     },
     "metadata": {
      "needs_background": "light"
     },
     "output_type": "display_data"
    },
    {
     "name": "stdout",
     "output_type": "stream",
     "text": [
      "LABEL: 2\n"
     ]
    }
   ],
   "source": [
    "misclassified_index = 0\n",
    "LR_prediction = logreg.predict(X_test)\n",
    "SVM_prediction = svm.predict(X_test)\n",
    "for i in range(len(y_test)):\n",
    "    if SVM_prediction[i] == y_test[i] and LR_prediction[i] != y_test[i]:\n",
    "        misclassified_index = i\n",
    "        break\n",
    "plot_input(X_test,y_test, misclassified_index)"
   ]
  },
  {
   "cell_type": "markdown",
   "metadata": {},
   "source": [
    "**Here we plot the sample that the logistic regression predicted (failing). We can see that, as we can expect, that the two samples display some similarities**"
   ]
  },
  {
   "cell_type": "code",
   "execution_count": 20,
   "metadata": {},
   "outputs": [
    {
     "name": "stdout",
     "output_type": "stream",
     "text": [
      "INPUT:\n"
     ]
    },
    {
     "data": {
      "image/png": "[encoded data removed]",
      "text/plain": [
       "<Figure size 432x288 with 1 Axes>"
      ]
     },
     "metadata": {
      "needs_background": "light"
     },
     "output_type": "display_data"
    },
    {
     "name": "stdout",
     "output_type": "stream",
     "text": [
      "LABEL: 8\n"
     ]
    }
   ],
   "source": [
    "index2 = 0\n",
    "for i in range(len(y_test)):\n",
    "    if LR_prediction[misclassified_index] == y_test[i]:\n",
    "        index2 = i\n",
    "        break\n",
    "plot_input(X_test, y_test, index2)"
   ]
  },
  {
   "cell_type": "markdown",
   "metadata": {},
   "source": [
    "## TO DO 11\n",
    "Plot the confusion matrix for the SVM classifier and for logistic regression.\n",
    "The confusion matrix has one column for each predicted label and one row for each true label. \n",
    "It shows for each class in the corresponding row how many samples belonging to that class gets each possible output label.\n",
    "Notice that the diagonal contains the correctly classified samples, while the other cells correspond to errors.\n",
    "You can obtain it with the sklearn.metrics.confusion_matrix function (see the documentation).\n",
    "Try also to normalize the confusion matrix by the number of samples in each class in order to measure the accuracy on each single class.\n"
   ]
  },
  {
   "cell_type": "code",
   "execution_count": 21,
   "metadata": {},
   "outputs": [
    {
     "name": "stdout",
     "output_type": "stream",
     "text": [
      "Labels and frequencies in test set:  [5792 5810 5790 5801 5791 5784 5825 5783 5807 5817]\n",
      "\n",
      " Confusion matrix SVM  \n",
      " \n",
      " [[5417    4    5   15  105   48   13   83   52   50]\n",
      " [  19 5010  149   41  137    6  125    5  104  214]\n",
      " [   0  147 4866  105   79   23  322   16  152   80]\n",
      " [  15   85  133 5352   45   26   16   36   70   23]\n",
      " [ 178  139   88   43 5049   12   62   35   95   90]\n",
      " [  39   52  143  168   66 5163   33   17   83   20]\n",
      " [  11  136  387   36  207   18 4850   75   80   25]\n",
      " [  57   19   74   34  163   13   78 5274   49   22]\n",
      " [  27  123  105   46   21   42  103    6 5306   28]\n",
      " [  18  112  215   23  142    9    9   29   53 5207]]\n",
      "\n",
      " Confusion matrix SVM (normalized)   \n",
      " \n",
      " [[0.94 0.   0.   0.   0.02 0.01 0.   0.01 0.01 0.01]\n",
      " [0.   0.86 0.03 0.01 0.02 0.   0.02 0.   0.02 0.04]\n",
      " [0.   0.03 0.84 0.02 0.01 0.   0.06 0.   0.03 0.01]\n",
      " [0.   0.01 0.02 0.92 0.01 0.   0.   0.01 0.01 0.  ]\n",
      " [0.03 0.02 0.02 0.01 0.87 0.   0.01 0.01 0.02 0.02]\n",
      " [0.01 0.01 0.02 0.03 0.01 0.89 0.01 0.   0.01 0.  ]\n",
      " [0.   0.02 0.07 0.01 0.04 0.   0.83 0.01 0.01 0.  ]\n",
      " [0.01 0.   0.01 0.01 0.03 0.   0.01 0.91 0.01 0.  ]\n",
      " [0.   0.02 0.02 0.01 0.   0.01 0.02 0.   0.91 0.  ]\n",
      " [0.   0.02 0.04 0.   0.02 0.   0.   0.   0.01 0.9 ]]\n",
      "\n",
      " Confusion matrix LR  \n",
      " \n",
      " [[4948   14   21   30  275  156   22  174   53   99]\n",
      " [  17 4237  454   79  221   38  228   28  205  303]\n",
      " [   4  317 3693  238  189  153  506   92  385  213]\n",
      " [  12  161  130 4709  100  229   49  112  242   57]\n",
      " [ 238  340  241  110 4054   85  157  136  114  316]\n",
      " [  85  157  206  243   84 4551   90  132  179   57]\n",
      " [  17  281  538   81  233   84 4107  144  265   75]\n",
      " [  90   52  140  131  218  109  118 4723  124   78]\n",
      " [  78  289  496  117   98  153  208   44 4247   77]\n",
      " [ 120  257  416   36  222   41   41  114  145 4425]]\n",
      "\n",
      " Confusion matrix LR (normalized)   \n",
      " \n",
      " [[0.85 0.   0.   0.01 0.05 0.03 0.   0.03 0.01 0.02]\n",
      " [0.   0.73 0.08 0.01 0.04 0.01 0.04 0.   0.04 0.05]\n",
      " [0.   0.05 0.64 0.04 0.03 0.03 0.09 0.02 0.07 0.04]\n",
      " [0.   0.03 0.02 0.81 0.02 0.04 0.01 0.02 0.04 0.01]\n",
      " [0.04 0.06 0.04 0.02 0.7  0.01 0.03 0.02 0.02 0.05]\n",
      " [0.01 0.03 0.04 0.04 0.01 0.79 0.02 0.02 0.03 0.01]\n",
      " [0.   0.05 0.09 0.01 0.04 0.01 0.71 0.02 0.05 0.01]\n",
      " [0.02 0.01 0.02 0.02 0.04 0.02 0.02 0.82 0.02 0.01]\n",
      " [0.01 0.05 0.09 0.02 0.02 0.03 0.04 0.01 0.73 0.01]\n",
      " [0.02 0.04 0.07 0.01 0.04 0.01 0.01 0.02 0.02 0.76]]\n"
     ]
    }
   ],
   "source": [
    "np.set_printoptions(precision=2, suppress=True) # for better aligned printing of confusion matrix use floatmode='fixed'\n",
    "\n",
    "u, counts = np.unique(y_test, return_counts=True)\n",
    "print(\"Labels and frequencies in test set: \", counts)\n",
    "\n",
    "confusion_SVM = skm.confusion_matrix(y_test, svm.predict(X_test))\n",
    "print(\"\\n Confusion matrix SVM  \\n \\n\", confusion_SVM)\n",
    "print(\"\\n Confusion matrix SVM (normalized)   \\n \\n\", confusion_SVM /counts[:,None] )\n",
    "\n",
    "confusion_LR =  skm.confusion_matrix(y_test, LR_prediction)\n",
    "print(\"\\n Confusion matrix LR  \\n \\n\", confusion_LR)\n",
    "print(\"\\n Confusion matrix LR (normalized)   \\n \\n\", confusion_LR /counts[:,None] )"
   ]
  },
  {
   "cell_type": "code",
   "execution_count": 22,
   "metadata": {},
   "outputs": [
    {
     "name": "stdout",
     "output_type": "stream",
     "text": [
      "[[0.94 0.   0.   0.   0.02 0.01 0.   0.01 0.01 0.01]\n",
      " [0.   0.86 0.03 0.01 0.02 0.   0.02 0.   0.02 0.04]\n",
      " [0.   0.03 0.84 0.02 0.01 0.   0.06 0.   0.03 0.01]\n",
      " [0.   0.01 0.02 0.92 0.01 0.   0.   0.01 0.01 0.  ]\n",
      " [0.03 0.02 0.02 0.01 0.87 0.   0.01 0.01 0.02 0.02]\n",
      " [0.01 0.01 0.02 0.03 0.01 0.89 0.01 0.   0.01 0.  ]\n",
      " [0.   0.02 0.07 0.01 0.04 0.   0.83 0.01 0.01 0.  ]\n",
      " [0.01 0.   0.01 0.01 0.03 0.   0.01 0.91 0.01 0.  ]\n",
      " [0.   0.02 0.02 0.01 0.   0.01 0.02 0.   0.91 0.  ]\n",
      " [0.   0.02 0.04 0.   0.02 0.   0.   0.   0.01 0.9 ]]\n"
     ]
    }
   ],
   "source": [
    "# ADD CODE TO NORMALIZE CONFUSION MATRIX AND PRINT THE NORMALIZED MATRIX\n",
    "confusion_SVM2 = skm.confusion_matrix(y_test, svm.predict(X_test), normalize='true')\n",
    "print(confusion_SVM2)"
   ]
  },
  {
   "cell_type": "code",
   "execution_count": 23,
   "metadata": {},
   "outputs": [
    {
     "name": "stdout",
     "output_type": "stream",
     "text": [
      "[[0.85 0.   0.   0.01 0.05 0.03 0.   0.03 0.01 0.02]\n",
      " [0.   0.73 0.08 0.01 0.04 0.01 0.04 0.   0.04 0.05]\n",
      " [0.   0.05 0.64 0.04 0.03 0.03 0.09 0.02 0.07 0.04]\n",
      " [0.   0.03 0.02 0.81 0.02 0.04 0.01 0.02 0.04 0.01]\n",
      " [0.04 0.06 0.04 0.02 0.7  0.01 0.03 0.02 0.02 0.05]\n",
      " [0.01 0.03 0.04 0.04 0.01 0.79 0.02 0.02 0.03 0.01]\n",
      " [0.   0.05 0.09 0.01 0.04 0.01 0.71 0.02 0.05 0.01]\n",
      " [0.02 0.01 0.02 0.02 0.04 0.02 0.02 0.82 0.02 0.01]\n",
      " [0.01 0.05 0.09 0.02 0.02 0.03 0.04 0.01 0.73 0.01]\n",
      " [0.02 0.04 0.07 0.01 0.04 0.01 0.01 0.02 0.02 0.76]]\n"
     ]
    }
   ],
   "source": [
    "confusion_LR =  skm.confusion_matrix(y_test, LR_prediction, normalize='true')\n",
    "print(confusion_LR)"
   ]
  },
  {
   "cell_type": "markdown",
   "metadata": {},
   "source": [
    "## QUESTION 4\n",
    "Have a look at the confusion matrices and comment on the obtained accuracies. Why some classes have lower accuracies and others an higher one ? Make some guesses on the possible causes.\n"
   ]
  },
  {
   "cell_type": "markdown",
   "metadata": {},
   "source": [
    "We see how the confusion matrix for SVM at around 0.8 for every label. On the other hand, in the confusion matrix for logistic regression the accuracy are, on average, lower.\n",
    "The fact that some accuracies are lower for some classes could be dictated by the fact that some simbols are similar between each other. Another reason could be that some symbols are less clearly written than other."
   ]
  },
  {
   "cell_type": "code",
   "execution_count": null,
   "metadata": {},
   "outputs": [],
   "source": []
  }
 ],
 "metadata": {
  "kernelspec": {
   "display_name": "Python 3",
   "language": "python",
   "name": "python3"
  },
  "language_info": {
   "codemirror_mode": {
    "name": "ipython",
    "version": 3
   },
   "file_extension": ".py",
   "mimetype": "text/x-python",
   "name": "python",
   "nbconvert_exporter": "python",
   "pygments_lexer": "ipython3",
   "version": "3.8.8"
  }
 },
 "nbformat": 4,
 "nbformat_minor": 4
}
