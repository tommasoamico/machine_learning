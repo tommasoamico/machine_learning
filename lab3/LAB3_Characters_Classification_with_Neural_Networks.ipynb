{
 "cells": [
  {
   "cell_type": "markdown",
   "metadata": {},
   "source": [
    "# Characters Classification with Neural Networks\n",
    "\n",
    "In this notebook we are going to use the Neural Networks for image classification. We are going to use the same dataset of the lab on SVM: Kuzushiji-MNIST or K-MNIST for short (https://github.com/rois-codh/kmnist) a dataset of traditional japanese handwritten kana.\n",
    "\n",
    "The dataset labels are the following:\n",
    "\n",
    "| Label | Hiragana Character | Romanji (Pronunciation) |\n",
    "| :-: | :-: | :-: |\n",
    "|   0   | お | o |\n",
    "| 1 | き | ki |\n",
    "| 2 | す | su |\n",
    "| 3 | つ | tsu |\n",
    "| 4 | な | na |\n",
    "| 5 | は | ha |\n",
    "| 6 | ま | ma |\n",
    "| 7 | や | ya |\n",
    "| 8 | れ | re |\n",
    "| 9 | を | wo |"
   ]
  },
  {
   "cell_type": "markdown",
   "metadata": {},
   "source": [
    "**Name:** Tommaso\n",
    "\n",
    "**Surname:** Amico"
   ]
  },
  {
   "cell_type": "code",
   "execution_count": 67,
   "metadata": {},
   "outputs": [
    {
     "name": "stdout",
     "output_type": "stream",
     "text": [
      "scikit-learn version:  0.24.1\n"
     ]
    }
   ],
   "source": [
    "#load the required packages and check Scikit-learn version\n",
    "\n",
    "%matplotlib inline  \n",
    "\n",
    "import numpy as np\n",
    "import scipy as sp\n",
    "import matplotlib.pyplot as plt\n",
    "import math\n",
    "\n",
    "import sklearn\n",
    "print ('scikit-learn version: ', sklearn.__version__)\n",
    "from sklearn.neural_network import MLPClassifier\n",
    "from sklearn.model_selection import GridSearchCV\n",
    "from sklearn.svm import SVC\n",
    "import pandas as pd"
   ]
  },
  {
   "cell_type": "code",
   "execution_count": 68,
   "metadata": {},
   "outputs": [],
   "source": [
    "# helper function to load KMNIST dataset from disk\n",
    "def load_mnist(path, kind='train'):\n",
    "    import os\n",
    "    import gzip\n",
    "    import numpy as np\n",
    "    labels_path = os.path.join(path, 'K%s-labels-idx1-ubyte.gz' % kind)\n",
    "    images_path = os.path.join(path, 'K%s-images-idx3-ubyte.gz' % kind)\n",
    "    with gzip.open(labels_path, 'rb') as lbpath:\n",
    "        labels = np.frombuffer(lbpath.read(), dtype=np.uint8,offset=8)\n",
    "    with gzip.open(images_path, 'rb') as imgpath:\n",
    "        images = np.frombuffer(imgpath.read(), dtype=np.uint8,offset=16).reshape(len(labels), 784)\n",
    "    return images, labels"
   ]
  },
  {
   "cell_type": "markdown",
   "metadata": {},
   "source": [
    "# TODO \n",
    "Set as seed for the random generator your Student ID (you can use your \"numero di matricola\"). Try to change the seed to see the impact of the randomization."
   ]
  },
  {
   "cell_type": "code",
   "execution_count": 69,
   "metadata": {},
   "outputs": [],
   "source": [
    "ID = 2054778\n",
    "np.random.seed(ID)"
   ]
  },
  {
   "cell_type": "code",
   "execution_count": 70,
   "metadata": {},
   "outputs": [
    {
     "name": "stdout",
     "output_type": "stream",
     "text": [
      "Number of samples in the K-MNIST dataset: 60000\n"
     ]
    }
   ],
   "source": [
    "#load the MNIST dataset and let's normalize the features so that each value is in [0,1]\n",
    "X, y = load_mnist(\"data\")\n",
    "print(\"Number of samples in the K-MNIST dataset:\", X.shape[0])\n",
    "# rescale the data\n",
    "X = X / 255.0"
   ]
  },
  {
   "cell_type": "markdown",
   "metadata": {},
   "source": [
    "Now split into training and test. We start with a small training set of 600 samples to reduce computation time while 4000 samples will be used for testing. Make sure that each label is present at least 10 times in train and test set frequencies."
   ]
  },
  {
   "cell_type": "code",
   "execution_count": 71,
   "metadata": {},
   "outputs": [
    {
     "name": "stdout",
     "output_type": "stream",
     "text": [
      "Labels in training dataset:  [0 1 2 3 4 5 6 7 8 9]\n",
      "Frequencies in training dataset:  [55 70 65 49 53 55 58 54 71 70]\n",
      "Labels in test set:  [0 1 2 3 4 5 6 7 8 9]\n",
      "Frequencies in test set:  [394 396 393 426 428 421 386 390 407 359]\n"
     ]
    }
   ],
   "source": [
    "#random permute the data and split into training and test taking the first 600\n",
    "#data samples as training and 4000 as test set\n",
    "permutation = np.random.permutation(X.shape[0])\n",
    "\n",
    "X = X[permutation]\n",
    "y = y[permutation]\n",
    "\n",
    "m_training = 600\n",
    "m_test = 4000\n",
    "\n",
    "X_train, X_test = X[:m_training], X[m_training:m_training+m_test]\n",
    "y_train, y_test = y[:m_training], y[m_training:m_training+m_test]\n",
    "\n",
    "labels, freqs = np.unique(y_train, return_counts=True)\n",
    "print(\"Labels in training dataset: \", labels)\n",
    "print(\"Frequencies in training dataset: \", freqs)\n",
    "\n",
    "labelsT, freqsT = np.unique(y_test, return_counts=True)\n",
    "print(\"Labels in test set: \", labelsT)\n",
    "print(\"Frequencies in test set: \", freqsT)\n"
   ]
  },
  {
   "cell_type": "code",
   "execution_count": 72,
   "metadata": {},
   "outputs": [],
   "source": [
    "#function for plotting a image and printing the corresponding label\n",
    "def plot_input(X_matrix, labels, index):\n",
    "    print(\"INPUT:\")\n",
    "    plt.imshow(\n",
    "        X_matrix[index].reshape(28,28),\n",
    "        cmap          = plt.cm.gray_r,\n",
    "        interpolation = \"nearest\"\n",
    "    )\n",
    "    plt.show()\n",
    "    print(\"LABEL: %i\"%labels[index])\n",
    "    return"
   ]
  },
  {
   "cell_type": "code",
   "execution_count": 73,
   "metadata": {},
   "outputs": [
    {
     "name": "stdout",
     "output_type": "stream",
     "text": [
      "INPUT:\n"
     ]
    },
    {
     "data": {
      "image/png": "[encoded data removed]",
      "text/plain": [
       "<Figure size 432x288 with 1 Axes>"
      ]
     },
     "metadata": {
      "needs_background": "light"
     },
     "output_type": "display_data"
    },
    {
     "name": "stdout",
     "output_type": "stream",
     "text": [
      "LABEL: 9\n",
      "INPUT:\n"
     ]
    },
    {
     "data": {
      "image/png": "[encoded data removed]",
      "text/plain": [
       "<Figure size 432x288 with 1 Axes>"
      ]
     },
     "metadata": {
      "needs_background": "light"
     },
     "output_type": "display_data"
    },
    {
     "name": "stdout",
     "output_type": "stream",
     "text": [
      "LABEL: 9\n",
      "INPUT:\n"
     ]
    },
    {
     "data": {
      "image/png": "[encoded data removed]",
      "text/plain": [
       "<Figure size 432x288 with 1 Axes>"
      ]
     },
     "metadata": {
      "needs_background": "light"
     },
     "output_type": "display_data"
    },
    {
     "name": "stdout",
     "output_type": "stream",
     "text": [
      "LABEL: 1\n"
     ]
    }
   ],
   "source": [
    "#let's try the plotting function\n",
    "plot_input(X_train,y_train,10)\n",
    "plot_input(X_test,y_test,100)\n",
    "plot_input(X_test,y_test,1000)"
   ]
  },
  {
   "cell_type": "markdown",
   "metadata": {},
   "source": [
    "### TO DO 1\n",
    "\n",
    "Now use a feed-forward Neural Network for prediction. Use the multi-layer perceptron classifier, with the following parameters: max_iter=100, alpha=1e-4, solver='sgd', tol=1e-4, learning_rate_init=.1, random_state=ID (this last parameter ensures the run is the same even if you run it more than once). The alpha parameter is the regularization term.\n",
    "\n",
    "Then, using the default activation function, pick four or five architectures to consider, with different numbers of hidden layers and different sizes. It is not necessary to create huge neural networks, you can limit to 3 layers and, for each layer, its maximum size can be of 50. Evaluate the architectures you chose using GridSearchCV with cv=5.\n",
    "\n",
    "You can reduce the number of iterations if the running time is too long on your computer.\n"
   ]
  },
  {
   "cell_type": "code",
   "execution_count": 74,
   "metadata": {},
   "outputs": [
    {
     "name": "stdout",
     "output_type": "stream",
     "text": [
      "RESULTS FOR NN\n",
      "    mean_fit_time  std_fit_time  mean_score_time  std_score_time  \\\n",
      "0       0.185011      0.011342         0.000481        0.000020   \n",
      "1       0.173816      0.005175         0.000499        0.000013   \n",
      "2       0.204728      0.006286         0.000561        0.000005   \n",
      "3       0.125890      0.008234         0.000514        0.000004   \n",
      "4       0.191940      0.013130         0.000607        0.000015   \n",
      "\n",
      "  param_hidden_layer_sizes                                params  \\\n",
      "0                    (10,)         {'hidden_layer_sizes': (10,)}   \n",
      "1                    (20,)         {'hidden_layer_sizes': (20,)}   \n",
      "2                    (40,)         {'hidden_layer_sizes': (40,)}   \n",
      "3                 (20, 20)      {'hidden_layer_sizes': (20, 20)}   \n",
      "4             (40, 20, 10)  {'hidden_layer_sizes': (40, 20, 10)}   \n",
      "\n",
      "   split0_test_score  split1_test_score  split2_test_score  split3_test_score  \\\n",
      "0           0.700000           0.708333           0.691667           0.658333   \n",
      "1           0.791667           0.716667           0.708333           0.716667   \n",
      "2           0.766667           0.716667           0.716667           0.691667   \n",
      "3           0.783333           0.741667           0.700000           0.691667   \n",
      "4           0.650000           0.725000           0.650000           0.675000   \n",
      "\n",
      "   split4_test_score  mean_test_score  std_test_score  rank_test_score  \n",
      "0           0.741667         0.700000        0.026874                4  \n",
      "1           0.725000         0.731667        0.030459                1  \n",
      "2           0.758333         0.730000        0.028186                2  \n",
      "3           0.708333         0.725000        0.033747                3  \n",
      "4           0.708333         0.681667        0.030459                5   \n",
      "\n",
      "Best parameters set found: {'hidden_layer_sizes': (20,)} \n",
      "\n",
      "Score with best parameters: 0.7316666666666667 \n",
      "\n",
      "\n",
      "All scores on the grid:\n",
      "[0.7        0.79166667 0.76666667 0.78333333 0.65      ]\n",
      "[0.70833333 0.71666667 0.71666667 0.74166667 0.725     ]\n",
      "[0.69166667 0.70833333 0.71666667 0.7        0.65      ]\n",
      "[0.65833333 0.71666667 0.69166667 0.69166667 0.675     ]\n",
      "\n",
      "\n",
      "\n",
      " Mean scores:\n",
      " [0.7   0.732 0.73  0.725 0.682]\n"
     ]
    }
   ],
   "source": [
    "# these are sample values but feel free to change them as you like, try to experiment with different sizes!!\n",
    "parameters = {'hidden_layer_sizes': [(10,), (20,), (40,), (20,20,), (40,20,10) ]}\n",
    "\n",
    "mlp = MLPClassifier(max_iter=100, activation='relu', alpha=1e-4, solver='sgd',\n",
    "                    tol=1e-4, random_state=ID,\n",
    "                    learning_rate_init=.1)\n",
    "\n",
    "cross = GridSearchCV(mlp, parameters, cv=5)\n",
    "cross.fit(X_train, y_train)\n",
    "print ('RESULTS FOR NN\\n', pd.DataFrame.from_dict(cross.cv_results_), \"\\n\")\n",
    "\n",
    "print(\"Best parameters set found:\", cross.best_params_, \"\\n\")\n",
    "best_hidden_layer=cross.best_params_\n",
    "\n",
    "print(\"Score with best parameters:\", cross.best_score_, \"\\n\")\n",
    "#ADD YOUR CODE\n",
    "\n",
    "print(\"\\nAll scores on the grid:\")\n",
    "print(cross.cv_results_['split0_test_score'])\n",
    "print(cross.cv_results_['split1_test_score'])\n",
    "print(cross.cv_results_['split2_test_score'])\n",
    "print(cross.cv_results_['split3_test_score'])\n",
    "print(\"\\n\")\n",
    "print('\\n Mean scores:\\n', cross.cv_results_['mean_test_score'].round(3))"
   ]
  },
  {
   "cell_type": "markdown",
   "metadata": {},
   "source": [
    "### TO DO 2\n",
    "\n",
    "Now try also different batch sizes, while keeping the best NN architecture you have found above. Remember that the batch size was previously set to the default value, i.e., min(200, n_samples). \n",
    "Recall that a batch size of 1 corresponds to baseline SGD, while using all the 480 training samples (there are 600 samples but in cross validation with 5 folders we use 1/5 of them for validation at each round) corresponds to standard GD and using a different mini-batch size lies in the middle between the two extreme cases."
   ]
  },
  {
   "cell_type": "code",
   "execution_count": 75,
   "metadata": {},
   "outputs": [
    {
     "name": "stderr",
     "output_type": "stream",
     "text": [
      "/Applications/anaconda3/lib/python3.8/site-packages/sklearn/neural_network/_multilayer_perceptron.py:614: ConvergenceWarning: Stochastic Optimizer: Maximum iterations (100) reached and the optimization hasn't converged yet.\n",
      "  warnings.warn(\n",
      "/Applications/anaconda3/lib/python3.8/site-packages/sklearn/neural_network/_multilayer_perceptron.py:614: ConvergenceWarning: Stochastic Optimizer: Maximum iterations (100) reached and the optimization hasn't converged yet.\n",
      "  warnings.warn(\n",
      "/Applications/anaconda3/lib/python3.8/site-packages/sklearn/neural_network/_multilayer_perceptron.py:614: ConvergenceWarning: Stochastic Optimizer: Maximum iterations (100) reached and the optimization hasn't converged yet.\n",
      "  warnings.warn(\n",
      "/Applications/anaconda3/lib/python3.8/site-packages/sklearn/neural_network/_multilayer_perceptron.py:614: ConvergenceWarning: Stochastic Optimizer: Maximum iterations (100) reached and the optimization hasn't converged yet.\n",
      "  warnings.warn(\n",
      "/Applications/anaconda3/lib/python3.8/site-packages/sklearn/neural_network/_multilayer_perceptron.py:614: ConvergenceWarning: Stochastic Optimizer: Maximum iterations (100) reached and the optimization hasn't converged yet.\n",
      "  warnings.warn(\n",
      "/Applications/anaconda3/lib/python3.8/site-packages/sklearn/neural_network/_multilayer_perceptron.py:614: ConvergenceWarning: Stochastic Optimizer: Maximum iterations (100) reached and the optimization hasn't converged yet.\n",
      "  warnings.warn(\n"
     ]
    },
    {
     "name": "stdout",
     "output_type": "stream",
     "text": [
      "RESULTS FOR NN\n",
      "    mean_fit_time  std_fit_time  mean_score_time  std_score_time  \\\n",
      "0      10.319755      5.731683         0.000683        0.000106   \n",
      "1       0.475360      0.162663         0.000590        0.000043   \n",
      "2       0.296162      0.085978         0.000700        0.000304   \n",
      "3       0.300245      0.090441         0.001025        0.000594   \n",
      "4       0.281674      0.106977         0.001736        0.001333   \n",
      "\n",
      "  param_batch_size               params  split0_test_score  split1_test_score  \\\n",
      "0                1    {'batch_size': 1}           0.058333           0.066667   \n",
      "1                8    {'batch_size': 8}           0.300000           0.375000   \n",
      "2               32   {'batch_size': 32}           0.808333           0.683333   \n",
      "3               80   {'batch_size': 80}           0.783333           0.683333   \n",
      "4              480  {'batch_size': 480}           0.808333           0.650000   \n",
      "\n",
      "   split2_test_score  split3_test_score  split4_test_score  mean_test_score  \\\n",
      "0           0.100000           0.133333           0.083333         0.088333   \n",
      "1           0.400000           0.325000           0.325000         0.345000   \n",
      "2           0.675000           0.741667           0.733333         0.728333   \n",
      "3           0.675000           0.700000           0.741667         0.716667   \n",
      "4           0.691667           0.733333           0.675000         0.711667   \n",
      "\n",
      "   std_test_score  rank_test_score  \n",
      "0        0.026667                5  \n",
      "1        0.036742                4  \n",
      "2        0.047900                1  \n",
      "3        0.040483                2  \n",
      "4        0.055428                3   \n",
      "\n",
      "Best parameters set found: {'batch_size': 32} \n",
      "\n",
      "Score with best parameters: 0.7283333333333334 \n",
      "\n",
      "[0.05833333 0.3        0.80833333 0.78333333 0.80833333]\n",
      "[0.06666667 0.375      0.68333333 0.68333333 0.65      ]\n",
      "[0.1        0.4        0.675      0.675      0.69166667]\n",
      "[0.13333333 0.325      0.74166667 0.7        0.73333333]\n",
      "\n",
      "\n",
      "\n",
      " Mean scores:\n",
      " [0.088 0.345 0.728 0.717 0.712]\n"
     ]
    }
   ],
   "source": [
    "# these are sample values corresponding to baseline SGD, a reasonable mini-batch size and standard GD\n",
    "# again feel free to change them as you like, try to experiment with different batch sizes!!\n",
    "parameters = {'batch_size': [1, 8, 32, 80, 480]}\n",
    "\n",
    "# need to specify that you would like to use the standard k-fold split otherwise sklearn create splits of different sizes\n",
    "kf = sklearn.model_selection.KFold(n_splits=5)\n",
    "mlp = MLPClassifier(hidden_layer_sizes=(20,), max_iter=100, activation='relu', alpha=1e-4, solver='sgd',\n",
    "                    tol=1e-4, random_state=ID,\n",
    "                    learning_rate_init=.1)\n",
    "cross = GridSearchCV(mlp, parameters, cv=kf)\n",
    "cross.fit(X_train, y_train)\n",
    "# recall to use cv=kf to use the k-fold subdivision seen in the lectures\n",
    "\n",
    "#ADD YOUR CODE\n",
    "\n",
    "\n",
    "print ('RESULTS FOR NN\\n', pd.DataFrame.from_dict(cross.cv_results_), \"\\n\")\n",
    "\n",
    "print(\"Best parameters set found:\", cross.best_params_, \"\\n\")\n",
    "best_batch_size=cross.best_params_\n",
    "\n",
    "print(\"Score with best parameters:\", cross.best_score_, \"\\n\")\n",
    "\n",
    "\n",
    "print(cross.cv_results_['split0_test_score'])\n",
    "print(cross.cv_results_['split1_test_score'])\n",
    "print(cross.cv_results_['split2_test_score'])\n",
    "print(cross.cv_results_['split3_test_score'])\n",
    "print(\"\\n\")\n",
    "print('\\n Mean scores:\\n', cross.cv_results_['mean_test_score'].round(3))\n",
    "#ADD YOUR CODE"
   ]
  },
  {
   "cell_type": "markdown",
   "metadata": {},
   "source": [
    "### QUESTION 1\n",
    "\n",
    "What do you observe for different architectures and batch sizes? How do the number of layers and their sizes affect the performances? What do you observe for different batch sizes, in particular what happens to the training convergence for different batch sizes (notice that the algorithm could not converge for some batch sizes)?"
   ]
  },
  {
   "cell_type": "markdown",
   "metadata": {},
   "source": [
    "## [ANSWER TO QUESTION 1]"
   ]
  },
  {
   "cell_type": "markdown",
   "metadata": {},
   "source": [
    "### TODO 3:\n",
    "\n",
    "Plot the train and test accuracies as a function of the number of learnable parameters in your neural network. Print also the computation time for the various configurations you try (the code for getting the computation time is already provided). You can use 100 iterations (if you get a warning on convergence not reached it is not an issue for this lab)"
   ]
  },
  {
   "cell_type": "code",
   "execution_count": 76,
   "metadata": {},
   "outputs": [
    {
     "name": "stdout",
     "output_type": "stream",
     "text": [
      "Training MLP of size (10,) ...\n",
      "Done, training time: 0.30 sec\n",
      "\n",
      "Training MLP of size (20,) ...\n",
      "Done, training time: 0.32 sec\n",
      "\n",
      "Training MLP of size (40,) ...\n",
      "Done, training time: 0.62 sec\n",
      "\n",
      "Training MLP of size (20, 20) ...\n",
      "Done, training time: 0.29 sec\n",
      "\n",
      "Training MLP of size (40, 20, 10) ...\n",
      "Done, training time: 0.46 sec\n",
      "\n"
     ]
    },
    {
     "data": {
      "image/png": "[encoded data removed]",
      "text/plain": [
       "<Figure size 1080x360 with 2 Axes>"
      ]
     },
     "metadata": {
      "needs_background": "light"
     },
     "output_type": "display_data"
    }
   ],
   "source": [
    "import time\n",
    "from functools import reduce\n",
    "\n",
    "# Function to compute the number of learnable parameters of a mlp given the size of its hidden layers\n",
    "def param_count(hl_size):\n",
    "    tot = 0\n",
    "    input_size, output_size = X_train.shape[1], len(labels)\n",
    "    tot += (input_size+1)*hl_size[0]\n",
    "    for i in range(1,len(hl_size)):\n",
    "        tot += (hl_size[i-1]+1)*hl_size[i]\n",
    "    tot += (hl_size[-1]+1)*output_size\n",
    "    return tot\n",
    "\n",
    "hl_sizes = [(10,), (20,), (40,), (20,20,), (40,20,10)]\n",
    "hl_labels = [param_count(t) for t in hl_sizes]\n",
    "\n",
    "ti = time.time()\n",
    "train_acc_list, test_acc_list = [], []\n",
    "for hl_size in hl_sizes:\n",
    "    print('Training MLP of size {} ...'.format(hl_size))\n",
    "    mlp =  MLPClassifier(hidden_layer_sizes=hl_size, max_iter=100, activation='relu', alpha=1e-4, solver='sgd',\n",
    "                    tol=1e-4, random_state=ID,\n",
    "                    learning_rate_init=.1)\n",
    "    \n",
    "    mlp.fit(X_train, y_train)\n",
    "    \n",
    "    train_acc_list.append(mlp.score(X_train, y_train))\n",
    "    test_acc_list.append(mlp.score(X_test, y_test))\n",
    "    print('Done, training time: {:.2f} sec\\n'.format(time.time()-ti))\n",
    "    ti = time.time()\n",
    "\n",
    "fig, ax = plt.subplots(1,2, figsize=(15,5))\n",
    "\n",
    "\n",
    "ax[0].plot(train_acc_list)\n",
    "ax[0].set_xlabel('Number of learnable params')\n",
    "ax[0].set_title('Train accuracy')\n",
    "ax[0].set_xticks(np.arange(0,len(hl_labels)))\n",
    "ax[0].set_xticklabels(hl_labels)\n",
    "ax[0].grid(True)\n",
    "\n",
    "ax[1].plot(test_acc_list)\n",
    "ax[1].set_xlabel('Number of learnable params')\n",
    "ax[1].set_title('Test accuracy')\n",
    "ax[1].set_xticks(np.arange(0,len(hl_labels)))\n",
    "ax[1].set_xticklabels(hl_labels)\n",
    "ax[1].grid(True)\n"
   ]
  },
  {
   "cell_type": "markdown",
   "metadata": {},
   "source": [
    "## Question 2:\n",
    "\n",
    "Comment about the training and test accuracies referring to the discussion on underfitting and overfitting we did in the course"
   ]
  },
  {
   "cell_type": "markdown",
   "metadata": {},
   "source": [
    "## [ANSWER TO QUESTION 2]"
   ]
  },
  {
   "cell_type": "markdown",
   "metadata": {},
   "source": [
    "### TO DO 4\n",
    "\n",
    "Now try also to use different learning rates, while keeping the best NN architecture and batch size you have found above. Plot the learning curves (i.e., the variation of the loss over the steps, you can get it from the loss_curve_ object of sklearn) for the different values of the learning rate. Try to run each training for 100 iterations. "
   ]
  },
  {
   "cell_type": "code",
   "execution_count": 77,
   "metadata": {},
   "outputs": [
    {
     "name": "stderr",
     "output_type": "stream",
     "text": [
      "/Applications/anaconda3/lib/python3.8/site-packages/sklearn/neural_network/_multilayer_perceptron.py:614: ConvergenceWarning: Stochastic Optimizer: Maximum iterations (100) reached and the optimization hasn't converged yet.\n",
      "  warnings.warn(\n",
      "/Applications/anaconda3/lib/python3.8/site-packages/sklearn/neural_network/_multilayer_perceptron.py:614: ConvergenceWarning: Stochastic Optimizer: Maximum iterations (100) reached and the optimization hasn't converged yet.\n",
      "  warnings.warn(\n",
      "/Applications/anaconda3/lib/python3.8/site-packages/sklearn/neural_network/_multilayer_perceptron.py:614: ConvergenceWarning: Stochastic Optimizer: Maximum iterations (100) reached and the optimization hasn't converged yet.\n",
      "  warnings.warn(\n",
      "/Applications/anaconda3/lib/python3.8/site-packages/sklearn/neural_network/_multilayer_perceptron.py:614: ConvergenceWarning: Stochastic Optimizer: Maximum iterations (100) reached and the optimization hasn't converged yet.\n",
      "  warnings.warn(\n",
      "/Applications/anaconda3/lib/python3.8/site-packages/sklearn/neural_network/_multilayer_perceptron.py:614: ConvergenceWarning: Stochastic Optimizer: Maximum iterations (100) reached and the optimization hasn't converged yet.\n",
      "  warnings.warn(\n",
      "/Applications/anaconda3/lib/python3.8/site-packages/sklearn/neural_network/_multilayer_perceptron.py:614: ConvergenceWarning: Stochastic Optimizer: Maximum iterations (100) reached and the optimization hasn't converged yet.\n",
      "  warnings.warn(\n",
      "/Applications/anaconda3/lib/python3.8/site-packages/sklearn/neural_network/_multilayer_perceptron.py:614: ConvergenceWarning: Stochastic Optimizer: Maximum iterations (100) reached and the optimization hasn't converged yet.\n",
      "  warnings.warn(\n",
      "/Applications/anaconda3/lib/python3.8/site-packages/sklearn/neural_network/_multilayer_perceptron.py:614: ConvergenceWarning: Stochastic Optimizer: Maximum iterations (100) reached and the optimization hasn't converged yet.\n",
      "  warnings.warn(\n",
      "/Applications/anaconda3/lib/python3.8/site-packages/sklearn/neural_network/_multilayer_perceptron.py:614: ConvergenceWarning: Stochastic Optimizer: Maximum iterations (100) reached and the optimization hasn't converged yet.\n",
      "  warnings.warn(\n",
      "/Applications/anaconda3/lib/python3.8/site-packages/sklearn/neural_network/_multilayer_perceptron.py:614: ConvergenceWarning: Stochastic Optimizer: Maximum iterations (100) reached and the optimization hasn't converged yet.\n",
      "  warnings.warn(\n",
      "/Applications/anaconda3/lib/python3.8/site-packages/sklearn/neural_network/_multilayer_perceptron.py:614: ConvergenceWarning: Stochastic Optimizer: Maximum iterations (100) reached and the optimization hasn't converged yet.\n",
      "  warnings.warn(\n"
     ]
    },
    {
     "name": "stdout",
     "output_type": "stream",
     "text": [
      "Training MLP of size (40, 20, 10) ...\n"
     ]
    },
    {
     "name": "stderr",
     "output_type": "stream",
     "text": [
      "/Applications/anaconda3/lib/python3.8/site-packages/sklearn/neural_network/_multilayer_perceptron.py:614: ConvergenceWarning: Stochastic Optimizer: Maximum iterations (100) reached and the optimization hasn't converged yet.\n",
      "  warnings.warn(\n"
     ]
    },
    {
     "name": "stdout",
     "output_type": "stream",
     "text": [
      "1.193775122650737\n",
      "Training MLP of size (40, 20, 10) ...\n"
     ]
    },
    {
     "name": "stderr",
     "output_type": "stream",
     "text": [
      "/Applications/anaconda3/lib/python3.8/site-packages/sklearn/neural_network/_multilayer_perceptron.py:614: ConvergenceWarning: Stochastic Optimizer: Maximum iterations (100) reached and the optimization hasn't converged yet.\n",
      "  warnings.warn(\n"
     ]
    },
    {
     "name": "stdout",
     "output_type": "stream",
     "text": [
      "0.07783723039179659\n",
      "Training MLP of size (40, 20, 10) ...\n",
      "0.003433551625067728\n",
      "Training MLP of size (40, 20, 10) ...\n",
      "0.4593978014942447\n",
      "RESULTS FOR NN\n",
      "    mean_fit_time  std_fit_time  mean_score_time  std_score_time  \\\n",
      "0       0.926758      0.082582         0.000788        0.000027   \n",
      "1       0.925781      0.045961         0.000803        0.000053   \n",
      "2       0.789928      0.094543         0.000684        0.000146   \n",
      "3       0.234429      0.058327         0.000608        0.000073   \n",
      "\n",
      "  param_learning_rate_init                          params  split0_test_score  \\\n",
      "0                   0.0002  {'learning_rate_init': 0.0002}           0.550000   \n",
      "1                    0.002   {'learning_rate_init': 0.002}           0.816667   \n",
      "2                     0.02    {'learning_rate_init': 0.02}           0.791667   \n",
      "3                      0.2     {'learning_rate_init': 0.2}           0.750000   \n",
      "\n",
      "   split1_test_score  split2_test_score  split3_test_score  split4_test_score  \\\n",
      "0           0.508333           0.550000           0.575000           0.450000   \n",
      "1           0.675000           0.733333           0.725000           0.716667   \n",
      "2           0.666667           0.708333           0.725000           0.691667   \n",
      "3           0.558333           0.616667           0.666667           0.550000   \n",
      "\n",
      "   mean_test_score  std_test_score  rank_test_score  \n",
      "0         0.526667        0.043906                4  \n",
      "1         0.733333        0.046248                1  \n",
      "2         0.716667        0.042164                2  \n",
      "3         0.628333        0.074087                3   \n",
      "\n",
      "Best parameters set found: {'learning_rate_init': 0.002} \n",
      "\n",
      "Score with best parameters: 0.7333333333333334 \n",
      "\n"
     ]
    },
    {
     "data": {
      "image/png": "[encoded data removed]",
      "text/plain": [
       "<Figure size 360x360 with 1 Axes>"
      ]
     },
     "metadata": {
      "needs_background": "light"
     },
     "output_type": "display_data"
    }
   ],
   "source": [
    "import matplotlib.pyplot as plt\n",
    "import operator\n",
    "\n",
    "lr_list = [0.0002, 0.002, 0.02, 0.2]\n",
    "scores = {}\n",
    "\n",
    "min_loss = float('inf')\n",
    "mlp = MLPClassifier(hidden_layer_sizes=(20,), batch_size=32, max_iter=100, activation='relu', alpha=1e-4, solver='sgd',\n",
    "                    tol=1e-4, random_state=ID)\n",
    "parameters = {'learning_rate_init': lr_list}\n",
    "cross = GridSearchCV(mlp, parameters, cv=kf)\n",
    "cross.fit(X_train, y_train)\n",
    "\n",
    "fig, ax = plt.subplots(1,1, figsize=(5,5))\n",
    "for lr in lr_list:\n",
    "    print('Training MLP of size {} ...'.format(hl_size))\n",
    "    mlp =  MLPClassifier(hidden_layer_sizes=(20,), batch_size=32, max_iter=100, activation='relu', alpha=1e-4, solver='sgd',\n",
    "                    tol=1e-4, random_state=ID,\n",
    "                    learning_rate_init=lr)\n",
    "    \n",
    "    mlp.fit(X_train, y_train)\n",
    "    ax.plot(mlp.loss_curve_, label=f'{lr}')\n",
    "    print(mlp.loss_curve_[-1])\n",
    "    if mlp.loss_curve_[-1] < min_loss:\n",
    "        min_loss = mlp.loss_curve_[-1]\n",
    "        best_param = lr\n",
    "    ax.legend()\n",
    "    \n",
    "\n",
    "print ('RESULTS FOR NN\\n', pd.DataFrame.from_dict(cross.cv_results_), \"\\n\")\n",
    "\n",
    "print(\"Best parameters set found:\", cross.best_params_, \"\\n\")\n",
    "\n",
    "\n",
    "print(\"Score with best parameters:\", cross.best_score_, \"\\n\")\n"
   ]
  },
  {
   "cell_type": "markdown",
   "metadata": {},
   "source": [
    "### QUESTION 3\n",
    "\n",
    "Comment about the learning curves (i.e. the variation of the loss over the steps). How does the curve changes for different learning rates in terms of stability and speed of convergence ?"
   ]
  },
  {
   "cell_type": "markdown",
   "metadata": {},
   "source": [
    "## [ANSWER TO QUESTION 3]"
   ]
  },
  {
   "cell_type": "markdown",
   "metadata": {},
   "source": [
    "### TO DO 5\n",
    "\n",
    "Now get training and test error for a NN with best parameters (architecture, batch size and learning rate) from above. Plot the learning curve also for this case (you can run the training for 500 iterations)."
   ]
  },
  {
   "cell_type": "code",
   "execution_count": 78,
   "metadata": {
    "scrolled": true
   },
   "outputs": [
    {
     "name": "stdout",
     "output_type": "stream",
     "text": [
      "\n",
      "RESULTS FOR BEST NN\n",
      " 1.0 0.7255\n",
      "Best NN training error: 0.000000\n",
      "Best NN test error: 0.274500\n"
     ]
    }
   ],
   "source": [
    "#get training and test error for the best NN model from CV\n",
    "\n",
    "\n",
    "mlp = MLPClassifier(hidden_layer_sizes=(20,), batch_size=32, max_iter=100, learning_rate_init=0.02,activation='relu', alpha=1e-4, solver='sgd', \n",
    "                    tol=1e-4, random_state=ID)\n",
    "mlp.fit(X_train, y_train)\n",
    "training_error = 1-mlp.score(X_train,y_train)\n",
    "test_error = 1-mlp.score(X_test,y_test)\n",
    "print ('\\nRESULTS FOR BEST NN\\n', mlp.score(X_train, y_train), mlp.score(X_test, y_test))\n",
    "\n",
    "print (\"Best NN training error: %f\" % training_error)\n",
    "print (\"Best NN test error: %f\" % test_error)\n",
    "\n"
   ]
  },
  {
   "cell_type": "code",
   "execution_count": 79,
   "metadata": {},
   "outputs": [
    {
     "data": {
      "image/png": "[encoded data removed]",
      "text/plain": [
       "<Figure size 360x360 with 1 Axes>"
      ]
     },
     "metadata": {
      "needs_background": "light"
     },
     "output_type": "display_data"
    }
   ],
   "source": [
    "fig, ax = plt.subplots(1,1, figsize=(5,5))\n",
    "ax.plot(mlp.loss_curve_)\n",
    "fig.tight_layout()"
   ]
  },
  {
   "cell_type": "markdown",
   "metadata": {},
   "source": [
    "## More data \n",
    "Now let's do the same but using 4000 (or less if it takes too long on your machine) data points for training. Use the same NN architecture as before, but you can try more if you like and have a powerful computer!!"
   ]
  },
  {
   "cell_type": "code",
   "execution_count": null,
   "metadata": {},
   "outputs": [],
   "source": []
  },
  {
   "cell_type": "code",
   "execution_count": 80,
   "metadata": {},
   "outputs": [
    {
     "name": "stdout",
     "output_type": "stream",
     "text": [
      "Labels in training dataset:  [0 1 2 3 4 5 6 7 8 9]\n",
      "Frequencies in training dataset:  [410 383 397 402 405 424 391 414 385 389]\n"
     ]
    }
   ],
   "source": [
    "X = X[permutation]\n",
    "y = y[permutation]\n",
    "\n",
    "m_training = 4000\n",
    "\n",
    "X_train, X_test = X[:m_training], X[m_training:]\n",
    "y_train, y_test = y[:m_training], y[m_training:]\n",
    "\n",
    "labels, freqs = np.unique(y_train, return_counts=True)\n",
    "print(\"Labels in training dataset: \", labels)\n",
    "print(\"Frequencies in training dataset: \", freqs)"
   ]
  },
  {
   "cell_type": "markdown",
   "metadata": {},
   "source": [
    "### TO DO 6\n",
    "\n",
    "Now train the NNs with the added data points using the optimum parameters found above. Eventually, feel free to try different architectures if you like. We suggest that you use 'verbose=True' so have an idea of how long it takes to run 1 iteration (eventually reduce also the number of iterations to 50)."
   ]
  },
  {
   "cell_type": "code",
   "execution_count": 82,
   "metadata": {},
   "outputs": [
    {
     "name": "stdout",
     "output_type": "stream",
     "text": [
      "Iteration 1, loss = 1.22727053\n",
      "Iteration 2, loss = 0.59909046\n",
      "Iteration 3, loss = 0.45801726\n",
      "Iteration 4, loss = 0.38449958\n",
      "Iteration 5, loss = 0.32251903\n",
      "Iteration 6, loss = 0.27719893\n",
      "Iteration 7, loss = 0.23387079\n",
      "Iteration 8, loss = 0.20394362\n",
      "Iteration 9, loss = 0.17717379\n",
      "Iteration 10, loss = 0.15510079\n",
      "Iteration 11, loss = 0.12831039\n",
      "Iteration 12, loss = 0.10709945\n",
      "Iteration 13, loss = 0.09561656\n",
      "Iteration 14, loss = 0.07624277\n",
      "Iteration 15, loss = 0.06425835\n",
      "Iteration 16, loss = 0.06139245\n",
      "Iteration 17, loss = 0.04562243\n",
      "Iteration 18, loss = 0.04077835\n",
      "Iteration 19, loss = 0.03504499\n",
      "Iteration 20, loss = 0.03016730\n",
      "Iteration 21, loss = 0.02630468\n",
      "Iteration 22, loss = 0.02230419\n",
      "Iteration 23, loss = 0.01990995\n",
      "Iteration 24, loss = 0.01845734\n",
      "Iteration 25, loss = 0.01601285\n",
      "Iteration 26, loss = 0.01479490\n",
      "Iteration 27, loss = 0.01336195\n",
      "Iteration 28, loss = 0.01212387\n",
      "Iteration 29, loss = 0.01146153\n",
      "Iteration 30, loss = 0.01061915\n",
      "Iteration 31, loss = 0.00987914\n",
      "Iteration 32, loss = 0.00935827\n",
      "Iteration 33, loss = 0.00886797\n",
      "Iteration 34, loss = 0.00832274\n",
      "Iteration 35, loss = 0.00799316\n",
      "Iteration 36, loss = 0.00761183\n",
      "Iteration 37, loss = 0.00716515\n",
      "Iteration 38, loss = 0.00695822\n",
      "Iteration 39, loss = 0.00663207\n",
      "Iteration 40, loss = 0.00643625\n",
      "Iteration 41, loss = 0.00615250\n",
      "Iteration 42, loss = 0.00589390\n",
      "Iteration 43, loss = 0.00568791\n",
      "Iteration 44, loss = 0.00553196\n",
      "Iteration 45, loss = 0.00530141\n",
      "Iteration 46, loss = 0.00517928\n",
      "Iteration 47, loss = 0.00501556\n",
      "Iteration 48, loss = 0.00485575\n",
      "Iteration 49, loss = 0.00472965\n",
      "Iteration 50, loss = 0.00460584\n",
      "Iteration 51, loss = 0.00448183\n",
      "Iteration 52, loss = 0.00438626\n",
      "Iteration 53, loss = 0.00426185\n",
      "Iteration 54, loss = 0.00415941\n",
      "Iteration 55, loss = 0.00407549\n",
      "Iteration 56, loss = 0.00397400\n",
      "Iteration 57, loss = 0.00388008\n",
      "Iteration 58, loss = 0.00382487\n",
      "Iteration 59, loss = 0.00372699\n",
      "Iteration 60, loss = 0.00366337\n",
      "Iteration 61, loss = 0.00358212\n",
      "Iteration 62, loss = 0.00351564\n",
      "Iteration 63, loss = 0.00345064\n",
      "Iteration 64, loss = 0.00339691\n",
      "Iteration 65, loss = 0.00332560\n",
      "Iteration 66, loss = 0.00328921\n",
      "Iteration 67, loss = 0.00322038\n",
      "Training loss did not improve more than tol=0.000100 for 10 consecutive epochs. Stopping.\n",
      "\n",
      "RESULTS FOR NN\n",
      " train_score:  1.0 test_score:  0.8326428571428571\n",
      "NN training error: 0.000000\n",
      "NN test error: 0.167357\n"
     ]
    }
   ],
   "source": [
    "# use best architecture and params from before\n",
    "\n",
    "mlp = MLPClassifier(hidden_layer_sizes=(20,), batch_size=32, max_iter=100, verbose=True, learning_rate_init=0.02,activation='relu', alpha=1e-4, solver='sgd', \n",
    "                    tol=1e-4, random_state=ID)\n",
    "mlp.fit(X_train, y_train)\n",
    "\n",
    "print ('\\nRESULTS FOR NN\\n', 'train_score: ', mlp.score(X_train, y_train), 'test_score: ', mlp.score(X_test, y_test))\n",
    "\n",
    "#get training and test error for the NN\n",
    "\n",
    "training_error = 1-mlp.score(X_train,y_train)\n",
    "test_error = 1-mlp.score(X_test,y_test)\n",
    "\n",
    "print (\"NN training error: %f\" % training_error)\n",
    "print (\"NN test error: %f\" % test_error)\n"
   ]
  },
  {
   "cell_type": "markdown",
   "metadata": {},
   "source": [
    "## QUESTION 4\n",
    "Compare the train and test error you got with a large number of samples with the best one you obtained with only 600 data points. Comment about the results you obtained."
   ]
  },
  {
   "cell_type": "markdown",
   "metadata": {},
   "source": [
    "#### [ANSWER TO QUESTION 4]"
   ]
  },
  {
   "cell_type": "markdown",
   "metadata": {},
   "source": [
    "### TO DO 7\n",
    "\n",
    "Plot an example that was missclassified by NN with m=600 training data points and it is now instead correctly classified by NN with m=4000 training data points."
   ]
  },
  {
   "cell_type": "code",
   "execution_count": null,
   "metadata": {},
   "outputs": [],
   "source": [
    "NN_prediction = #ADD YOUR CODE\n",
    "large_NN_prediction = #ADD YOUR CODE\n",
    "\n",
    "#ADD YOUR CODE\n",
    "        "
   ]
  },
  {
   "cell_type": "markdown",
   "metadata": {},
   "source": [
    "### TO DO 8\n",
    "\n",
    "Let's plot the weigths of the multi-layer perceptron classifier, for the best NN we get with 600 data points and with 4000 data points. The code is already provided, just fix variable names (e.g., replace mlp , mlp_large with your estimators) in order to have it working with your implementation\n",
    "\n"
   ]
  },
  {
   "cell_type": "code",
   "execution_count": null,
   "metadata": {},
   "outputs": [],
   "source": [
    "print(\"Weights with 600 data points:\")\n",
    "\n",
    "fig, axes = plt.subplots(4, 4)\n",
    "vmin, vmax = mlp.coefs_[0].min(), mlp.coefs_[0].max()\n",
    "for coef, ax in zip(mlp.coefs_[0].T, axes.ravel()):\n",
    "    ax.matshow(coef.reshape(28, 28), cmap=plt.cm.gray, vmin=.5 * vmin,\n",
    "               vmax=.5 * vmax)\n",
    "    ax.set_xticks(())\n",
    "    ax.set_yticks(())\n",
    "\n",
    "plt.show()\n",
    "\n",
    "print(\"Weights with 4000 data points:\")\n",
    "\n",
    "fig, axes = plt.subplots(4, 4)\n",
    "vmin, vmax = mlp_large.coefs_[0].min(), mlp_large.coefs_[0].max()\n",
    "for coef, ax in zip(mlp.coefs_[0].T, axes.ravel()):\n",
    "    ax.matshow(coef.reshape(28, 28), cmap=plt.cm.gray, vmin=.5 * vmin,\n",
    "               vmax=.5 * vmax)\n",
    "    ax.set_xticks(())\n",
    "    ax.set_yticks(())\n",
    "plt.show()"
   ]
  },
  {
   "cell_type": "markdown",
   "metadata": {},
   "source": [
    "## QUESTION 5\n",
    "\n",
    "Describe what do you observe by looking at the weights."
   ]
  },
  {
   "cell_type": "markdown",
   "metadata": {},
   "source": [
    "##### [ANSWER TO QUESTION 5]"
   ]
  },
  {
   "cell_type": "markdown",
   "metadata": {},
   "source": [
    "### TO DO 9\n",
    "\n",
    "Take the best SVM model and its parameters, you found in the last notebook. Fit it on a few data points and compute its training and test scores. Then fit also a logistic regression model with C=1. "
   ]
  },
  {
   "cell_type": "code",
   "execution_count": null,
   "metadata": {},
   "outputs": [],
   "source": [
    "m_training = 5000\n",
    "\n",
    "X_train, X_test = X[:m_training], X[m_training:2*m_training]\n",
    "y_train, y_test = y[:m_training], y[m_training:2*m_training]\n",
    "\n",
    "# use best parameters found in the SVM notebook, create SVM and perform fitting\n",
    "\n",
    "#ADD YOUR CODE\n",
    "\n",
    "print ('RESULTS FOR SVM')\n",
    "\n",
    "SVM_training_error =  #ADD YOUR CODE\n",
    "\n",
    "print(\"Training score SVM:\")\n",
    "print(SVM_training_error)\n",
    "\n",
    "SVM_test_error = #ADD YOUR CODE\n",
    "print(\"Test score SVM:\")\n",
    "print(SVM_test_error)"
   ]
  },
  {
   "cell_type": "code",
   "execution_count": null,
   "metadata": {},
   "outputs": [],
   "source": [
    "from sklearn import linear_model\n",
    "\n",
    "regL2 = #ADD YOUR CODE\n",
    "\n",
    "# you can re-use your code from Lab 2\n",
    "\n",
    "#ADD YOUR CODE\n",
    "\n",
    "print ('\\nRESULTS FOR LOGISTIC REGRESSION WITH REGULARIZATION')\n",
    "\n",
    "training_error =  #ADD YOUR CODE\n",
    "test_error =  #ADD YOUR CODE\n",
    "\n",
    "print (\"Training error (reg): %f\" % training_error)\n",
    "print (\"Test error (reg): %f\" % test_error)"
   ]
  },
  {
   "cell_type": "markdown",
   "metadata": {},
   "source": [
    "## QUESTION 6\n",
    "Compare the results of Logistic Regression, SVM and NN. Which one achieve the best results? "
   ]
  },
  {
   "cell_type": "markdown",
   "metadata": {},
   "source": [
    "###### [ANSWER TO QUESTION 6]"
   ]
  },
  {
   "cell_type": "code",
   "execution_count": null,
   "metadata": {},
   "outputs": [],
   "source": []
  }
 ],
 "metadata": {
  "kernelspec": {
   "display_name": "Python 3",
   "language": "python",
   "name": "python3"
  },
  "language_info": {
   "codemirror_mode": {
    "name": "ipython",
    "version": 3
   },
   "file_extension": ".py",
   "mimetype": "text/x-python",
   "name": "python",
   "nbconvert_exporter": "python",
   "pygments_lexer": "ipython3",
   "version": "3.8.8"
  }
 },
 "nbformat": 4,
 "nbformat_minor": 4
}
