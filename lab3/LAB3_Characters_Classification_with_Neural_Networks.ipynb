{
 "cells": [
  {
   "cell_type": "markdown",
   "metadata": {},
   "source": [
    "# Characters Classification with Neural Networks\n",
    "\n",
    "In this notebook we are going to use the Neural Networks for image classification. We are going to use the same dataset of the lab on SVM: Kuzushiji-MNIST or K-MNIST for short (https://github.com/rois-codh/kmnist) a dataset of traditional japanese handwritten kana.\n",
    "\n",
    "The dataset labels are the following:\n",
    "\n",
    "| Label | Hiragana Character | Romanji (Pronunciation) |\n",
    "| :-: | :-: | :-: |\n",
    "|   0   | お | o |\n",
    "| 1 | き | ki |\n",
    "| 2 | す | su |\n",
    "| 3 | つ | tsu |\n",
    "| 4 | な | na |\n",
    "| 5 | は | ha |\n",
    "| 6 | ま | ma |\n",
    "| 7 | や | ya |\n",
    "| 8 | れ | re |\n",
    "| 9 | を | wo |"
   ]
  },
  {
   "cell_type": "markdown",
   "metadata": {},
   "source": [
    "**Name:** Tommaso\n",
    "\n",
    "**Surname:** Amico"
   ]
  },
  {
   "cell_type": "code",
   "execution_count": 1,
   "metadata": {},
   "outputs": [
    {
     "name": "stdout",
     "output_type": "stream",
     "text": [
      "scikit-learn version:  0.24.1\n"
     ]
    }
   ],
   "source": [
    "#load the required packages and check Scikit-learn version\n",
    "\n",
    "%matplotlib inline  \n",
    "\n",
    "import numpy as np\n",
    "import scipy as sp\n",
    "import matplotlib.pyplot as plt\n",
    "import math\n",
    "\n",
    "import sklearn\n",
    "print ('scikit-learn version: ', sklearn.__version__)\n",
    "from sklearn.neural_network import MLPClassifier\n",
    "from sklearn.model_selection import GridSearchCV\n",
    "from sklearn.svm import SVC\n",
    "import pandas as pd"
   ]
  },
  {
   "cell_type": "code",
   "execution_count": 2,
   "metadata": {},
   "outputs": [],
   "source": [
    "# helper function to load KMNIST dataset from disk\n",
    "def load_mnist(path, kind='train'):\n",
    "    import os\n",
    "    import gzip\n",
    "    import numpy as np\n",
    "    labels_path = os.path.join(path, 'K%s-labels-idx1-ubyte.gz' % kind)\n",
    "    images_path = os.path.join(path, 'K%s-images-idx3-ubyte.gz' % kind)\n",
    "    with gzip.open(labels_path, 'rb') as lbpath:\n",
    "        labels = np.frombuffer(lbpath.read(), dtype=np.uint8,offset=8)\n",
    "    with gzip.open(images_path, 'rb') as imgpath:\n",
    "        images = np.frombuffer(imgpath.read(), dtype=np.uint8,offset=16).reshape(len(labels), 784)\n",
    "    return images, labels"
   ]
  },
  {
   "cell_type": "markdown",
   "metadata": {},
   "source": [
    "# TODO \n",
    "Set as seed for the random generator your Student ID (you can use your \"numero di matricola\"). Try to change the seed to see the impact of the randomization."
   ]
  },
  {
   "cell_type": "code",
   "execution_count": 3,
   "metadata": {},
   "outputs": [],
   "source": [
    "ID = 2054778\n",
    "np.random.seed(ID)"
   ]
  },
  {
   "cell_type": "code",
   "execution_count": 4,
   "metadata": {},
   "outputs": [
    {
     "name": "stdout",
     "output_type": "stream",
     "text": [
      "Number of samples in the K-MNIST dataset: 60000\n"
     ]
    }
   ],
   "source": [
    "#load the MNIST dataset and let's normalize the features so that each value is in [0,1]\n",
    "X, y = load_mnist(\"data\")\n",
    "print(\"Number of samples in the K-MNIST dataset:\", X.shape[0])\n",
    "# rescale the data\n",
    "X = X / 255.0"
   ]
  },
  {
   "cell_type": "markdown",
   "metadata": {},
   "source": [
    "Now split into training and test. We start with a small training set of 600 samples to reduce computation time while 4000 samples will be used for testing. Make sure that each label is present at least 10 times in train and test set frequencies."
   ]
  },
  {
   "cell_type": "code",
   "execution_count": 5,
   "metadata": {},
   "outputs": [
    {
     "name": "stdout",
     "output_type": "stream",
     "text": [
      "Labels in training dataset:  [0 1 2 3 4 5 6 7 8 9]\n",
      "Frequencies in training dataset:  [55 70 65 49 53 55 58 54 71 70]\n",
      "Labels in test set:  [0 1 2 3 4 5 6 7 8 9]\n",
      "Frequencies in test set:  [394 396 393 426 428 421 386 390 407 359]\n"
     ]
    }
   ],
   "source": [
    "#random permute the data and split into training and test taking the first 600\n",
    "#data samples as training and 4000 as test set\n",
    "permutation = np.random.permutation(X.shape[0])\n",
    "\n",
    "X = X[permutation]\n",
    "y = y[permutation]\n",
    "\n",
    "m_training = 600\n",
    "m_test = 4000\n",
    "\n",
    "X_train, X_test = X[:m_training], X[m_training:m_training+m_test]\n",
    "y_train, y_test = y[:m_training], y[m_training:m_training+m_test]\n",
    "\n",
    "labels, freqs = np.unique(y_train, return_counts=True)\n",
    "print(\"Labels in training dataset: \", labels)\n",
    "print(\"Frequencies in training dataset: \", freqs)\n",
    "\n",
    "labelsT, freqsT = np.unique(y_test, return_counts=True)\n",
    "print(\"Labels in test set: \", labelsT)\n",
    "print(\"Frequencies in test set: \", freqsT)\n"
   ]
  },
  {
   "cell_type": "code",
   "execution_count": 6,
   "metadata": {},
   "outputs": [],
   "source": [
    "#function for plotting a image and printing the corresponding label\n",
    "def plot_input(X_matrix, labels, index):\n",
    "    print(\"INPUT:\")\n",
    "    plt.imshow(\n",
    "        X_matrix[index].reshape(28,28),\n",
    "        cmap          = plt.cm.gray_r,\n",
    "        interpolation = \"nearest\"\n",
    "    )\n",
    "    plt.show()\n",
    "    print(\"LABEL: %i\"%labels[index])\n",
    "    return"
   ]
  },
  {
   "cell_type": "code",
   "execution_count": 7,
   "metadata": {},
   "outputs": [
    {
     "name": "stdout",
     "output_type": "stream",
     "text": [
      "INPUT:\n"
     ]
    },
    {
     "data": {
      "image/png": "[encoded data removed]",
      "text/plain": [
       "<Figure size 432x288 with 1 Axes>"
      ]
     },
     "metadata": {
      "needs_background": "light"
     },
     "output_type": "display_data"
    },
    {
     "name": "stdout",
     "output_type": "stream",
     "text": [
      "LABEL: 9\n",
      "INPUT:\n"
     ]
    },
    {
     "data": {
      "image/png": "[encoded data removed]",
      "text/plain": [
       "<Figure size 432x288 with 1 Axes>"
      ]
     },
     "metadata": {
      "needs_background": "light"
     },
     "output_type": "display_data"
    },
    {
     "name": "stdout",
     "output_type": "stream",
     "text": [
      "LABEL: 9\n",
      "INPUT:\n"
     ]
    },
    {
     "data": {
      "image/png": "[encoded data removed]",
      "text/plain": [
       "<Figure size 432x288 with 1 Axes>"
      ]
     },
     "metadata": {
      "needs_background": "light"
     },
     "output_type": "display_data"
    },
    {
     "name": "stdout",
     "output_type": "stream",
     "text": [
      "LABEL: 1\n"
     ]
    }
   ],
   "source": [
    "#let's try the plotting function\n",
    "plot_input(X_train,y_train,10)\n",
    "plot_input(X_test,y_test,100)\n",
    "plot_input(X_test,y_test,1000)"
   ]
  },
  {
   "cell_type": "markdown",
   "metadata": {},
   "source": [
    "### TO DO 1\n",
    "\n",
    "Now use a feed-forward Neural Network for prediction. Use the multi-layer perceptron classifier, with the following parameters: max_iter=100, alpha=1e-4, solver='sgd', tol=1e-4, learning_rate_init=.1, random_state=ID (this last parameter ensures the run is the same even if you run it more than once). The alpha parameter is the regularization term.\n",
    "\n",
    "Then, using the default activation function, pick four or five architectures to consider, with different numbers of hidden layers and different sizes. It is not necessary to create huge neural networks, you can limit to 3 layers and, for each layer, its maximum size can be of 50. Evaluate the architectures you chose using GridSearchCV with cv=5.\n",
    "\n",
    "You can reduce the number of iterations if the running time is too long on your computer.\n"
   ]
  },
  {
   "cell_type": "code",
   "execution_count": 8,
   "metadata": {},
   "outputs": [
    {
     "name": "stdout",
     "output_type": "stream",
     "text": [
      "RESULTS FOR NN\n",
      "    mean_fit_time  std_fit_time  mean_score_time  std_score_time  \\\n",
      "0       0.187117      0.009588         0.000484        0.000026   \n",
      "1       0.181145      0.008396         0.000502        0.000016   \n",
      "2       0.240093      0.007395         0.000613        0.000033   \n",
      "3       0.206102      0.006808         0.000569        0.000018   \n",
      "4       0.127145      0.008249         0.000505        0.000002   \n",
      "5       0.191474      0.012753         0.000598        0.000004   \n",
      "\n",
      "  param_hidden_layer_sizes                                params  \\\n",
      "0                    (10,)         {'hidden_layer_sizes': (10,)}   \n",
      "1                    (20,)         {'hidden_layer_sizes': (20,)}   \n",
      "2                    (50,)         {'hidden_layer_sizes': (50,)}   \n",
      "3                    (40,)         {'hidden_layer_sizes': (40,)}   \n",
      "4                 (20, 20)      {'hidden_layer_sizes': (20, 20)}   \n",
      "5             (40, 20, 10)  {'hidden_layer_sizes': (40, 20, 10)}   \n",
      "\n",
      "   split0_test_score  split1_test_score  split2_test_score  split3_test_score  \\\n",
      "0           0.700000           0.708333           0.691667           0.658333   \n",
      "1           0.791667           0.716667           0.708333           0.716667   \n",
      "2           0.766667           0.750000           0.733333           0.691667   \n",
      "3           0.766667           0.716667           0.716667           0.691667   \n",
      "4           0.783333           0.741667           0.700000           0.691667   \n",
      "5           0.650000           0.725000           0.650000           0.675000   \n",
      "\n",
      "   split4_test_score  mean_test_score  std_test_score  rank_test_score  \n",
      "0           0.741667         0.700000        0.026874                5  \n",
      "1           0.725000         0.731667        0.030459                2  \n",
      "2           0.766667         0.741667        0.027889                1  \n",
      "3           0.758333         0.730000        0.028186                3  \n",
      "4           0.708333         0.725000        0.033747                4  \n",
      "5           0.708333         0.681667        0.030459                6   \n",
      "\n",
      "Best parameters set found: {'hidden_layer_sizes': (50,)} \n",
      "\n",
      "Score with best parameters: 0.7416666666666666 \n",
      "\n",
      "\n",
      "All scores on the grid:\n",
      "[0.7        0.79166667 0.76666667 0.76666667 0.78333333 0.65      ]\n",
      "[0.70833333 0.71666667 0.75       0.71666667 0.74166667 0.725     ]\n",
      "[0.69166667 0.70833333 0.73333333 0.71666667 0.7        0.65      ]\n",
      "[0.65833333 0.71666667 0.69166667 0.69166667 0.69166667 0.675     ]\n",
      "\n",
      "\n",
      "\n",
      " Mean scores:\n",
      " [0.7   0.732 0.742 0.73  0.725 0.682]\n"
     ]
    }
   ],
   "source": [
    "# these are sample values but feel free to change them as you like, try to experiment with different sizes!!\n",
    "parameters = {'hidden_layer_sizes': [(10,), (20,),(50,), (40,), (20,20,), (40,20,10) ]}\n",
    "\n",
    "mlp = MLPClassifier(max_iter=100, activation='relu', alpha=1e-4, solver='sgd',\n",
    "                    tol=1e-4, random_state=ID,\n",
    "                    learning_rate_init=.1)\n",
    "\n",
    "cross = GridSearchCV(mlp, parameters, cv=5)\n",
    "cross.fit(X_train, y_train)\n",
    "print ('RESULTS FOR NN\\n', pd.DataFrame.from_dict(cross.cv_results_), \"\\n\")\n",
    "\n",
    "print(\"Best parameters set found:\", cross.best_params_, \"\\n\")\n",
    "\n",
    "\n",
    "print(\"Score with best parameters:\", cross.best_score_, \"\\n\")\n",
    "\n",
    "\n",
    "print(\"\\nAll scores on the grid:\")\n",
    "print(cross.cv_results_['split0_test_score'])\n",
    "print(cross.cv_results_['split1_test_score'])\n",
    "print(cross.cv_results_['split2_test_score'])\n",
    "print(cross.cv_results_['split3_test_score'])\n",
    "print(\"\\n\")\n",
    "print('\\n Mean scores:\\n', cross.cv_results_['mean_test_score'].round(3))"
   ]
  },
  {
   "cell_type": "markdown",
   "metadata": {},
   "source": [
    "### TO DO 2\n",
    "\n",
    "Now try also different batch sizes, while keeping the best NN architecture you have found above. Remember that the batch size was previously set to the default value, i.e., min(200, n_samples). \n",
    "Recall that a batch size of 1 corresponds to baseline SGD, while using all the 480 training samples (there are 600 samples but in cross validation with 5 folders we use 1/5 of them for validation at each round) corresponds to standard GD and using a different mini-batch size lies in the middle between the two extreme cases."
   ]
  },
  {
   "cell_type": "code",
   "execution_count": 9,
   "metadata": {},
   "outputs": [
    {
     "name": "stderr",
     "output_type": "stream",
     "text": [
      "/Applications/anaconda3/lib/python3.8/site-packages/sklearn/neural_network/_multilayer_perceptron.py:614: ConvergenceWarning: Stochastic Optimizer: Maximum iterations (100) reached and the optimization hasn't converged yet.\n",
      "  warnings.warn(\n",
      "/Applications/anaconda3/lib/python3.8/site-packages/sklearn/neural_network/_multilayer_perceptron.py:614: ConvergenceWarning: Stochastic Optimizer: Maximum iterations (100) reached and the optimization hasn't converged yet.\n",
      "  warnings.warn(\n",
      "/Applications/anaconda3/lib/python3.8/site-packages/sklearn/neural_network/_multilayer_perceptron.py:614: ConvergenceWarning: Stochastic Optimizer: Maximum iterations (100) reached and the optimization hasn't converged yet.\n",
      "  warnings.warn(\n",
      "/Applications/anaconda3/lib/python3.8/site-packages/sklearn/neural_network/_multilayer_perceptron.py:614: ConvergenceWarning: Stochastic Optimizer: Maximum iterations (100) reached and the optimization hasn't converged yet.\n",
      "  warnings.warn(\n",
      "/Applications/anaconda3/lib/python3.8/site-packages/sklearn/neural_network/_multilayer_perceptron.py:614: ConvergenceWarning: Stochastic Optimizer: Maximum iterations (100) reached and the optimization hasn't converged yet.\n",
      "  warnings.warn(\n"
     ]
    },
    {
     "name": "stdout",
     "output_type": "stream",
     "text": [
      "RESULTS FOR NN\n",
      "    mean_fit_time  std_fit_time  mean_score_time  std_score_time  \\\n",
      "0      15.688834      6.815445         0.000639        0.000006   \n",
      "1       0.609053      0.137697         0.000594        0.000032   \n",
      "2       0.260294      0.012283         0.000599        0.000022   \n",
      "3       0.232910      0.006562         0.000587        0.000007   \n",
      "4       0.275521      0.008191         0.000872        0.000026   \n",
      "\n",
      "  param_batch_size               params  split0_test_score  split1_test_score  \\\n",
      "0                1    {'batch_size': 1}           0.083333           0.108333   \n",
      "1                8    {'batch_size': 8}           0.541667           0.366667   \n",
      "2               32   {'batch_size': 32}           0.825000           0.725000   \n",
      "3               80   {'batch_size': 80}           0.833333           0.733333   \n",
      "4              480  {'batch_size': 480}           0.816667           0.716667   \n",
      "\n",
      "   split2_test_score  split3_test_score  split4_test_score  mean_test_score  \\\n",
      "0           0.116667           0.108333           0.100000         0.103333   \n",
      "1           0.408333           0.483333           0.425000         0.445000   \n",
      "2           0.741667           0.741667           0.725000         0.751667   \n",
      "3           0.700000           0.725000           0.733333         0.745000   \n",
      "4           0.700000           0.708333           0.725000         0.733333   \n",
      "\n",
      "   std_test_score  rank_test_score  \n",
      "0        0.011304                5  \n",
      "1        0.061146                4  \n",
      "2        0.037417                1  \n",
      "3        0.045826                2  \n",
      "4        0.042492                3   \n",
      "\n",
      "Best parameters set found: {'batch_size': 32} \n",
      "\n",
      "Score with best parameters: 0.7516666666666667 \n",
      "\n",
      "[0.08333333 0.54166667 0.825      0.83333333 0.81666667]\n",
      "[0.10833333 0.36666667 0.725      0.73333333 0.71666667]\n",
      "[0.11666667 0.40833333 0.74166667 0.7        0.7       ]\n",
      "[0.10833333 0.48333333 0.74166667 0.725      0.70833333]\n",
      "\n",
      "\n",
      "\n",
      " Mean scores:\n",
      " [0.103 0.445 0.752 0.745 0.733]\n"
     ]
    }
   ],
   "source": [
    "# these are sample values corresponding to baseline SGD, a reasonable mini-batch size and standard GD\n",
    "# again feel free to change them as you like, try to experiment with different batch sizes!!\n",
    "parameters = {'batch_size': [1, 8, 32, 80, 480]}\n",
    "\n",
    "# need to specify that you would like to use the standard k-fold split otherwise sklearn create splits of different sizes\n",
    "kf = sklearn.model_selection.KFold(n_splits=5)\n",
    "mlp = MLPClassifier(hidden_layer_sizes=(50,), max_iter=100, activation='relu', alpha=1e-4, solver='sgd',\n",
    "                    tol=1e-4, random_state=ID,\n",
    "                    learning_rate_init=.1)\n",
    "cross = GridSearchCV(mlp, parameters, cv=kf)\n",
    "cross.fit(X_train, y_train)\n",
    "# recall to use cv=kf to use the k-fold subdivision seen in the lectures\n",
    "\n",
    "\n",
    "\n",
    "\n",
    "print ('RESULTS FOR NN\\n', pd.DataFrame.from_dict(cross.cv_results_), \"\\n\")\n",
    "\n",
    "print(\"Best parameters set found:\", cross.best_params_, \"\\n\")\n",
    "\n",
    "\n",
    "print(\"Score with best parameters:\", cross.best_score_, \"\\n\")\n",
    "\n",
    "\n",
    "print(cross.cv_results_['split0_test_score'])\n",
    "print(cross.cv_results_['split1_test_score'])\n",
    "print(cross.cv_results_['split2_test_score'])\n",
    "print(cross.cv_results_['split3_test_score'])\n",
    "print(\"\\n\")\n",
    "print('\\n Mean scores:\\n', cross.cv_results_['mean_test_score'].round(3))\n"
   ]
  },
  {
   "cell_type": "markdown",
   "metadata": {},
   "source": [
    "### QUESTION 1\n",
    "\n",
    "What do you observe for different architectures and batch sizes? How do the number of layers and their sizes affect the performances? What do you observe for different batch sizes, in particular what happens to the training convergence for different batch sizes (notice that the algorithm could not converge for some batch sizes)?"
   ]
  },
  {
   "cell_type": "markdown",
   "metadata": {},
   "source": [
    "## [ANSWER TO QUESTION 1]"
   ]
  },
  {
   "cell_type": "markdown",
   "metadata": {},
   "source": [
    "We see that the best architechture is always with one hidden layer, the cross validation process gives us an hidden layer with the most neurons (between the ones given), 50. This configuration is preferred over more layers with less neurons.\n",
    "As far as the batch sizes, the one chosen is always an halfway solution between the standard gradient descent and sgd. The mini batch size found by cross validation is 32, a good trade-off between stability of the algorithm and how computationally demanding it is.\n",
    "The convergence with this configuration is not reached."
   ]
  },
  {
   "cell_type": "markdown",
   "metadata": {},
   "source": [
    "### TODO 3:\n",
    "\n",
    "Plot the train and test accuracies as a function of the number of learnable parameters in your neural network. Print also the computation time for the various configurations you try (the code for getting the computation time is already provided). You can use 100 iterations (if you get a warning on convergence not reached it is not an issue for this lab)"
   ]
  },
  {
   "cell_type": "code",
   "execution_count": 10,
   "metadata": {},
   "outputs": [
    {
     "name": "stdout",
     "output_type": "stream",
     "text": [
      "Training MLP of size (10,) ...\n"
     ]
    },
    {
     "name": "stderr",
     "output_type": "stream",
     "text": [
      "<ipython-input-10-731edc924bb4>:19: VisibleDeprecationWarning: Creating an ndarray from ragged nested sequences (which is a list-or-tuple of lists-or-tuples-or ndarrays with different lengths or shapes) is deprecated. If you meant to do this, you must specify 'dtype=object' when creating the ndarray.\n",
      "  hl_sizes = np.array(hl_sizes)[sorting]\n"
     ]
    },
    {
     "name": "stdout",
     "output_type": "stream",
     "text": [
      "Test score:  0.66975\n",
      "Done, training time: 0.33 sec\n",
      "\n",
      "Training MLP of size (20,) ...\n",
      "Test score:  0.7255\n",
      "Done, training time: 0.25 sec\n",
      "\n",
      "Training MLP of size (20, 20) ...\n",
      "Test score:  0.729\n",
      "Done, training time: 0.17 sec\n",
      "\n",
      "Training MLP of size (40,) ...\n",
      "Test score:  0.7465\n",
      "Done, training time: 0.30 sec\n",
      "\n",
      "Training MLP of size (40, 20, 10) ...\n",
      "Test score:  0.6745\n",
      "Done, training time: 0.30 sec\n",
      "\n",
      "Training MLP of size (50,) ...\n",
      "Test score:  0.7515\n",
      "Done, training time: 0.34 sec\n",
      "\n"
     ]
    },
    {
     "data": {
      "image/png": "[encoded data removed]",
      "text/plain": [
       "<Figure size 1080x360 with 2 Axes>"
      ]
     },
     "metadata": {
      "needs_background": "light"
     },
     "output_type": "display_data"
    }
   ],
   "source": [
    "import time\n",
    "from functools import reduce\n",
    "\n",
    "# Function to compute the number of learnable parameters of a mlp given the size of its hidden layers\n",
    "def param_count(hl_size):\n",
    "    tot = 0\n",
    "    input_size, output_size = X_train.shape[1], len(labels)\n",
    "    tot += (input_size+1)*hl_size[0]\n",
    "    for i in range(1,len(hl_size)):\n",
    "        tot += (hl_size[i-1]+1)*hl_size[i]\n",
    "    tot += (hl_size[-1]+1)*output_size\n",
    "    return tot\n",
    "\n",
    "hl_sizes = [(10,), (20,), (40,), (50,), (20,20,), (40,20,10)]\n",
    "hl_labels = [param_count(t) for t in hl_sizes]\n",
    "# Here we sort in ascending order the learnable parameters.\n",
    "sorting = np.argsort(hl_labels)\n",
    "hl_labels = np.array(hl_labels)[sorting]\n",
    "hl_sizes = np.array(hl_sizes)[sorting]\n",
    "ti = time.time()\n",
    "train_acc_list, test_acc_list = [], []\n",
    "for hl_size in hl_sizes:\n",
    "    print('Training MLP of size {} ...'.format(hl_size))\n",
    "    mlp =  MLPClassifier(hidden_layer_sizes=hl_size, max_iter=100, activation='relu', alpha=1e-4, solver='sgd',\n",
    "                    tol=1e-4, random_state=ID,\n",
    "                    learning_rate_init=.1)\n",
    "    \n",
    "    mlp.fit(X_train, y_train)\n",
    "    print('Test score: ', mlp.score(X_test, y_test))\n",
    "    train_acc_list.append(mlp.score(X_train, y_train))\n",
    "    test_acc_list.append(mlp.score(X_test, y_test))\n",
    "    print('Done, training time: {:.2f} sec\\n'.format(time.time()-ti))\n",
    "    ti = time.time()\n",
    "\n",
    "fig, ax = plt.subplots(1,2, figsize=(15,5))\n",
    "\n",
    "\n",
    "ax[0].plot(train_acc_list, label='train accuracy')\n",
    "ax[0].set_xlabel('Number of learnable params')\n",
    "ax[0].set_title('Train accuracy')\n",
    "ax[0].set_xticks(np.arange(0,len(hl_labels)))\n",
    "ax[0].set_xticklabels(hl_labels)\n",
    "ax[0].grid(True)\n",
    "ax[0].set_title('Train accuracy')\n",
    "ax[0].legend(shadow=True, framealpha=1, facecolor='gainsboro', edgecolor='black', prop={'size':11})   \n",
    "\n",
    "\n",
    "ax[1].plot(test_acc_list, label='Test accuracy')\n",
    "ax[1].set_xlabel('Number of learnable params')\n",
    "ax[1].set_title('Test accuracy')\n",
    "ax[1].set_xticks(np.arange(0,len(hl_labels)))\n",
    "ax[1].set_xticklabels(hl_labels)\n",
    "ax[1].grid(True)\n",
    "ax[1].legend(shadow=True, framealpha=1, facecolor='gainsboro', edgecolor='black', prop={'size':11}) \n",
    "fig.tight_layout()"
   ]
  },
  {
   "cell_type": "markdown",
   "metadata": {},
   "source": [
    "## Question 2:\n",
    "\n",
    "Comment about the training and test accuracies referring to the discussion on underfitting and overfitting we did in the course"
   ]
  },
  {
   "cell_type": "markdown",
   "metadata": {},
   "source": [
    "## [ANSWER TO QUESTION 2]"
   ]
  },
  {
   "cell_type": "markdown",
   "metadata": {},
   "source": [
    "We observe that the training error stays fixed at one while the test error varies through the range of learnable parameters.\n",
    "We see how the test accuracy has a maximum for 39760 paramers corresponding to the architecture chosen: (50,).\n",
    "We see cases of undefitting for example for the case of a single hidden layer with only 10 neurons with the system having too little parameters.\n"
   ]
  },
  {
   "cell_type": "markdown",
   "metadata": {},
   "source": [
    "### TO DO 4\n",
    "\n",
    "Now try also to use different learning rates, while keeping the best NN architecture and batch size you have found above. Plot the learning curves (i.e., the variation of the loss over the steps, you can get it from the loss_curve_ object of sklearn) for the different values of the learning rate. Try to run each training for 100 iterations. "
   ]
  },
  {
   "cell_type": "code",
   "execution_count": 11,
   "metadata": {},
   "outputs": [
    {
     "name": "stdout",
     "output_type": "stream",
     "text": [
      "Training MLP of size (50,) ...\n"
     ]
    },
    {
     "name": "stderr",
     "output_type": "stream",
     "text": [
      "/Applications/anaconda3/lib/python3.8/site-packages/sklearn/neural_network/_multilayer_perceptron.py:614: ConvergenceWarning: Stochastic Optimizer: Maximum iterations (100) reached and the optimization hasn't converged yet.\n",
      "  warnings.warn(\n"
     ]
    },
    {
     "name": "stdout",
     "output_type": "stream",
     "text": [
      "0.9308002097886904\n",
      "Training MLP of size (50,) ...\n"
     ]
    },
    {
     "name": "stderr",
     "output_type": "stream",
     "text": [
      "/Applications/anaconda3/lib/python3.8/site-packages/sklearn/neural_network/_multilayer_perceptron.py:614: ConvergenceWarning: Stochastic Optimizer: Maximum iterations (100) reached and the optimization hasn't converged yet.\n",
      "  warnings.warn(\n"
     ]
    },
    {
     "name": "stdout",
     "output_type": "stream",
     "text": [
      "0.06526139814639811\n",
      "Training MLP of size (50,) ...\n"
     ]
    },
    {
     "name": "stderr",
     "output_type": "stream",
     "text": [
      "/Applications/anaconda3/lib/python3.8/site-packages/sklearn/neural_network/_multilayer_perceptron.py:614: ConvergenceWarning: Stochastic Optimizer: Maximum iterations (100) reached and the optimization hasn't converged yet.\n",
      "  warnings.warn(\n"
     ]
    },
    {
     "name": "stdout",
     "output_type": "stream",
     "text": [
      "0.002649969188411271\n",
      "Training MLP of size (50,) ...\n",
      "0.057872521808968444\n",
      "\n",
      " Test scores for each learning rate:\n",
      " {'0.0002': 0.66675, '0.002': 0.7475, '0.02': 0.75425, '0.2': 0.7185}\n",
      "RESULTS FOR NN\n",
      "\n",
      "\n",
      "Best parameters set found:  0.02\n",
      "Test score with best parameters: 0.75425 \n",
      "\n"
     ]
    },
    {
     "name": "stderr",
     "output_type": "stream",
     "text": [
      "/Applications/anaconda3/lib/python3.8/site-packages/sklearn/neural_network/_multilayer_perceptron.py:614: ConvergenceWarning: Stochastic Optimizer: Maximum iterations (100) reached and the optimization hasn't converged yet.\n",
      "  warnings.warn(\n"
     ]
    },
    {
     "data": {
      "image/png": "[encoded data removed]",
      "text/plain": [
       "<Figure size 360x360 with 1 Axes>"
      ]
     },
     "metadata": {
      "needs_background": "light"
     },
     "output_type": "display_data"
    }
   ],
   "source": [
    "import matplotlib.pyplot as plt\n",
    "import operator\n",
    "\n",
    "lr_list = [0.0002, 0.002, 0.02, 0.2]\n",
    "scores={}\n",
    "min_loss = float('inf')\n",
    "mlp = MLPClassifier(hidden_layer_sizes=(50,), batch_size=32, max_iter=100, activation='relu', alpha=1e-4, solver='sgd',\n",
    "                    tol=1e-4, random_state=ID, n_iter_no_change=50)\n",
    "\n",
    "fig, ax = plt.subplots(1,1, figsize=(5,5))\n",
    "for lr in lr_list:\n",
    "    print('Training MLP of size {} ...'.format(hl_size))\n",
    "    mlp =  MLPClassifier(hidden_layer_sizes=(50,), batch_size=32, max_iter=100, activation='relu', alpha=1e-4, solver='sgd',\n",
    "                    tol=1e-4, random_state=ID,\n",
    "                    learning_rate_init=lr, n_iter_no_change=50)\n",
    "    \n",
    "    mlp.fit(X_train, y_train)\n",
    "    ax.plot(mlp.loss_curve_, label=f'learning rate: {lr}')\n",
    "    scores[f'{lr}']=mlp.score(X_test,y_test)\n",
    "    print(mlp.loss_curve_[-1])\n",
    "# Here we define best_params the parameter with the lowest error at the end of the process, answering the \n",
    "# question though other things are taken into account for the choice of the best learning rate.\n",
    "    if mlp.loss_curve_[-1] < min_loss:\n",
    "        min_loss = mlp.loss_curve_[-1]\n",
    "        best_param = lr\n",
    "ax.legend(shadow=True, framealpha=1, facecolor='gainsboro', edgecolor='black', prop={'size':'11', 'weight': 'bold'}, title='Loss curves', title_fontsize='large')   \n",
    "ax.set_title('Learning curves for the NN')\n",
    "ax.set_ylabel('Loss') \n",
    "ax.set_xlabel('Iterations')\n",
    "fig.tight_layout()\n",
    "print('\\n Test scores for each learning rate:\\n',scores)\n",
    "print ('RESULTS FOR NN\\n'\"\\n\")\n",
    "\n",
    "print(\"Best parameters set found: \", best_param)\n",
    "\n",
    "\n",
    "print(\"Test score with best parameters:\", scores[f'{best_param}'], \"\\n\")\n"
   ]
  },
  {
   "cell_type": "markdown",
   "metadata": {},
   "source": [
    "### QUESTION 3\n",
    "\n",
    "Comment about the learning curves (i.e. the variation of the loss over the steps). How does the curve changes for different learning rates in terms of stability and speed of convergence ?"
   ]
  },
  {
   "cell_type": "markdown",
   "metadata": {},
   "source": [
    "## [ANSWER TO QUESTION 3]"
   ]
  },
  {
   "cell_type": "markdown",
   "metadata": {},
   "source": [
    "The highest learning rate: 0.2 is by far the most unstable of the bunch. The lowest of the learning rates is stable but doesn't converge in 100 iterations. The last two (0.02 ans 0.002) seem both to converge but with 0.02 doing it much faster than 0.002. We also see that the learning parameter 0.02 is smooth and has the best test score, therefore we choose 0.02 has the best learning rate."
   ]
  },
  {
   "cell_type": "markdown",
   "metadata": {},
   "source": [
    "### TO DO 5\n",
    "\n",
    "Now get training and test error for a NN with best parameters (architecture, batch size and learning rate) from above. Plot the learning curve also for this case (you can run the training for 500 iterations)."
   ]
  },
  {
   "cell_type": "code",
   "execution_count": 12,
   "metadata": {
    "scrolled": true
   },
   "outputs": [
    {
     "name": "stdout",
     "output_type": "stream",
     "text": [
      "\n",
      "RESULTS FOR BEST NN\n",
      " 1.0 0.75525\n",
      "Best NN training error: 0.000000\n",
      "Best NN test error: 0.244750\n"
     ]
    }
   ],
   "source": [
    "#get training and test error for the best NN model from CV\n",
    "\n",
    "\n",
    "mlp600 = MLPClassifier(hidden_layer_sizes=(50,), batch_size=32, max_iter=100, learning_rate_init=0.02, activation='relu', alpha=1e-4, solver='sgd', \n",
    "                    tol=1e-4, random_state=ID)\n",
    "mlp600.fit(X_train, y_train)\n",
    "training_error = 1-mlp600.score(X_train,y_train)\n",
    "test_error = 1-mlp600.score(X_test,y_test)\n",
    "print ('\\nRESULTS FOR BEST NN\\n', mlp600.score(X_train, y_train), mlp600.score(X_test, y_test))\n",
    "\n",
    "print (\"Best NN training error: %f\" % training_error)\n",
    "print (\"Best NN test error: %f\" % test_error)\n",
    "\n"
   ]
  },
  {
   "cell_type": "code",
   "execution_count": 13,
   "metadata": {},
   "outputs": [
    {
     "data": {
      "image/png": "[encoded data removed]",
      "text/plain": [
       "<Figure size 360x360 with 1 Axes>"
      ]
     },
     "metadata": {
      "needs_background": "light"
     },
     "output_type": "display_data"
    }
   ],
   "source": [
    "fig, ax = plt.subplots(1,1, figsize=(5,5))\n",
    "ax.plot(mlp600.loss_curve_, label='Learning curve')\n",
    "ax.legend(shadow=True, framealpha=1, facecolor='gainsboro', edgecolor='black', prop={'size':'11'})\n",
    "ax.set_title('Learning curve for a NN with best parameters')\n",
    "ax.set_ylabel('Loss') \n",
    "ax.set_xlabel('Iterations')\n",
    "ax.minorticks_on()\n",
    "fig.tight_layout()"
   ]
  },
  {
   "cell_type": "markdown",
   "metadata": {},
   "source": [
    "## More data \n",
    "Now let's do the same but using 4000 (or less if it takes too long on your machine) data points for training. Use the same NN architecture as before, but you can try more if you like and have a powerful computer!!"
   ]
  },
  {
   "cell_type": "code",
   "execution_count": 14,
   "metadata": {},
   "outputs": [
    {
     "name": "stdout",
     "output_type": "stream",
     "text": [
      "Labels in training dataset:  [0 1 2 3 4 5 6 7 8 9]\n",
      "Frequencies in training dataset:  [410 383 397 402 405 424 391 414 385 389]\n"
     ]
    }
   ],
   "source": [
    "X = X[permutation]\n",
    "y = y[permutation]\n",
    "\n",
    "m_training = 4000\n",
    "\n",
    "X_train, X_test = X[:m_training], X[m_training:]\n",
    "y_train, y_test = y[:m_training], y[m_training:]\n",
    "\n",
    "labels, freqs = np.unique(y_train, return_counts=True)\n",
    "print(\"Labels in training dataset: \", labels)\n",
    "print(\"Frequencies in training dataset: \", freqs)"
   ]
  },
  {
   "cell_type": "markdown",
   "metadata": {},
   "source": [
    "### TO DO 6\n",
    "\n",
    "Now train the NNs with the added data points using the optimum parameters found above. Eventually, feel free to try different architectures if you like. We suggest that you use 'verbose=True' so have an idea of how long it takes to run 1 iteration (eventually reduce also the number of iterations to 50)."
   ]
  },
  {
   "cell_type": "code",
   "execution_count": 15,
   "metadata": {},
   "outputs": [
    {
     "name": "stdout",
     "output_type": "stream",
     "text": [
      "Iteration 1, loss = 1.02906807\n",
      "Iteration 2, loss = 0.50325784\n",
      "Iteration 3, loss = 0.35728263\n",
      "Iteration 4, loss = 0.27759896\n",
      "Iteration 5, loss = 0.21575389\n",
      "Iteration 6, loss = 0.16024725\n",
      "Iteration 7, loss = 0.12656359\n",
      "Iteration 8, loss = 0.09408157\n",
      "Iteration 9, loss = 0.07426083\n",
      "Iteration 10, loss = 0.05533276\n",
      "Iteration 11, loss = 0.04355016\n",
      "Iteration 12, loss = 0.03441364\n",
      "Iteration 13, loss = 0.02937502\n",
      "Iteration 14, loss = 0.02367792\n",
      "Iteration 15, loss = 0.01991157\n",
      "Iteration 16, loss = 0.01726110\n",
      "Iteration 17, loss = 0.01475317\n",
      "Iteration 18, loss = 0.01353466\n",
      "Iteration 19, loss = 0.01180457\n",
      "Iteration 20, loss = 0.01096327\n",
      "Iteration 21, loss = 0.00989189\n",
      "Iteration 22, loss = 0.00917180\n",
      "Iteration 23, loss = 0.00850967\n",
      "Iteration 24, loss = 0.00802857\n",
      "Iteration 25, loss = 0.00743396\n",
      "Iteration 26, loss = 0.00703199\n",
      "Iteration 27, loss = 0.00667586\n",
      "Iteration 28, loss = 0.00628446\n",
      "Iteration 29, loss = 0.00597255\n",
      "Iteration 30, loss = 0.00570471\n",
      "Iteration 31, loss = 0.00548905\n",
      "Iteration 32, loss = 0.00526290\n",
      "Iteration 33, loss = 0.00504582\n",
      "Iteration 34, loss = 0.00483924\n",
      "Iteration 35, loss = 0.00468229\n",
      "Iteration 36, loss = 0.00451319\n",
      "Iteration 37, loss = 0.00437552\n",
      "Iteration 38, loss = 0.00422797\n",
      "Iteration 39, loss = 0.00410845\n",
      "Iteration 40, loss = 0.00395565\n",
      "Iteration 41, loss = 0.00387052\n",
      "Iteration 42, loss = 0.00375700\n",
      "Iteration 43, loss = 0.00365552\n",
      "Iteration 44, loss = 0.00355711\n",
      "Iteration 45, loss = 0.00347075\n",
      "Iteration 46, loss = 0.00338987\n",
      "Iteration 47, loss = 0.00331410\n",
      "Iteration 48, loss = 0.00324122\n",
      "Iteration 49, loss = 0.00317067\n",
      "Iteration 50, loss = 0.00310268\n",
      "Iteration 51, loss = 0.00304225\n",
      "Iteration 52, loss = 0.00298384\n",
      "Iteration 53, loss = 0.00291978\n",
      "Iteration 54, loss = 0.00286141\n",
      "Training loss did not improve more than tol=0.000100 for 10 consecutive epochs. Stopping.\n",
      "\n",
      "RESULTS FOR NN\n",
      " train_score:  1.0 test_score:  0.8657857142857143\n",
      "NN training error: 0.000000\n",
      "NN test error: 0.134214\n"
     ]
    }
   ],
   "source": [
    "# use best architecture and params from before\n",
    "\n",
    "mlp4000 = MLPClassifier(hidden_layer_sizes=(50,), batch_size=32, max_iter=100, verbose=True, learning_rate_init=0.02,activation='relu', alpha=1e-4, solver='sgd', \n",
    "                    tol=1e-4, random_state=ID)\n",
    "mlp4000.fit(X_train, y_train)\n",
    "\n",
    "print ('\\nRESULTS FOR NN\\n', 'train_score: ', mlp4000.score(X_train, y_train), 'test_score: ', mlp4000.score(X_test, y_test))\n",
    "\n",
    "#get training and test error for the NN\n",
    "\n",
    "training_error = 1-mlp4000.score(X_train,y_train)\n",
    "test_error = 1-mlp4000.score(X_test,y_test)\n",
    "\n",
    "print (\"NN training error: %f\" % training_error)\n",
    "print (\"NN test error: %f\" % test_error)\n"
   ]
  },
  {
   "cell_type": "markdown",
   "metadata": {},
   "source": [
    "## QUESTION 4\n",
    "Compare the train and test error you got with a large number of samples with the best one you obtained with only 600 data points. Comment about the results you obtained."
   ]
  },
  {
   "cell_type": "markdown",
   "metadata": {},
   "source": [
    "#### [ANSWER TO QUESTION 4]"
   ]
  },
  {
   "cell_type": "markdown",
   "metadata": {},
   "source": [
    "We have that for both the 600 samples case and for the 4000 samples case the training error is 0. We can see that, speaking of the test error, as we can expect, the neural network trained with 4000 samples has a significant drop in the test error with respect to the test error of the 600 samples' neural network. "
   ]
  },
  {
   "cell_type": "markdown",
   "metadata": {},
   "source": [
    "### TO DO 7\n",
    "\n",
    "Plot an example that was missclassified by NN with m=600 training data points and it is now instead correctly classified by NN with m=4000 training data points."
   ]
  },
  {
   "cell_type": "code",
   "execution_count": 16,
   "metadata": {},
   "outputs": [
    {
     "name": "stdout",
     "output_type": "stream",
     "text": [
      "INPUT:\n"
     ]
    },
    {
     "data": {
      "image/png": "[encoded data removed]",
      "text/plain": [
       "<Figure size 432x288 with 1 Axes>"
      ]
     },
     "metadata": {
      "needs_background": "light"
     },
     "output_type": "display_data"
    },
    {
     "name": "stdout",
     "output_type": "stream",
     "text": [
      "LABEL: 6\n"
     ]
    }
   ],
   "source": [
    "NN_prediction = mlp600.predict(X_test)\n",
    "large_NN_prediction = mlp4000.predict(X_test)\n",
    "missclassified_index = 0\n",
    "for i in range(len(X_test)):\n",
    "    if large_NN_prediction[i] == y_test[i] and NN_prediction[i] != y_test[i]:\n",
    "        missclassified_index = i\n",
    "        break\n",
    "\n",
    "        \n",
    "plot_input(X_test,y_test, missclassified_index)\n",
    "\n"
   ]
  },
  {
   "cell_type": "markdown",
   "metadata": {},
   "source": [
    "### TO DO 8\n",
    "\n",
    "Let's plot the weigths of the multi-layer perceptron classifier, for the best NN we get with 600 data points and with 4000 data points. The code is already provided, just fix variable names (e.g., replace mlp , mlp_large with your estimators) in order to have it working with your implementation\n",
    "\n"
   ]
  },
  {
   "cell_type": "code",
   "execution_count": 17,
   "metadata": {},
   "outputs": [
    {
     "name": "stdout",
     "output_type": "stream",
     "text": [
      "Weights with 600 data points:\n"
     ]
    },
    {
     "data": {
      "image/png": "[encoded data removed]",
      "text/plain": [
       "<Figure size 432x288 with 16 Axes>"
      ]
     },
     "metadata": {},
     "output_type": "display_data"
    },
    {
     "name": "stdout",
     "output_type": "stream",
     "text": [
      "Weights with 4000 data points:\n"
     ]
    },
    {
     "data": {
      "image/png": "[encoded data removed]",
      "text/plain": [
       "<Figure size 432x288 with 16 Axes>"
      ]
     },
     "metadata": {},
     "output_type": "display_data"
    }
   ],
   "source": [
    "print(\"Weights with 600 data points:\")\n",
    "\n",
    "fig, axes = plt.subplots(4, 4)\n",
    "vmin, vmax = mlp600.coefs_[0].min(), mlp600.coefs_[0].max()\n",
    "for coef, ax in zip(mlp600.coefs_[0].T, axes.ravel()):\n",
    "    ax.matshow(coef.reshape(28, 28), cmap=plt.cm.gray, vmin=.5 * vmin,\n",
    "               vmax=.5 * vmax)\n",
    "    ax.set_xticks(())\n",
    "    ax.set_yticks(())\n",
    "\n",
    "plt.show()\n",
    "\n",
    "print(\"Weights with 4000 data points:\")\n",
    "\n",
    "fig, axes = plt.subplots(4, 4)\n",
    "vmin, vmax = mlp4000.coefs_[0].min(), mlp4000.coefs_[0].max()\n",
    "for coef, ax in zip(mlp4000.coefs_[0].T, axes.ravel()):\n",
    "    ax.matshow(coef.reshape(28, 28), cmap=plt.cm.gray, vmin=.5 * vmin,\n",
    "               vmax=.5 * vmax)\n",
    "    ax.set_xticks(())\n",
    "    ax.set_yticks(())\n",
    "plt.show()"
   ]
  },
  {
   "cell_type": "markdown",
   "metadata": {},
   "source": [
    "## QUESTION 5\n",
    "\n",
    "Describe what do you observe by looking at the weights."
   ]
  },
  {
   "cell_type": "markdown",
   "metadata": {},
   "source": [
    "##### [ANSWER TO QUESTION 5]"
   ]
  },
  {
   "cell_type": "markdown",
   "metadata": {},
   "source": [
    "We observe that we cannot say much looking at the weights, we cannot tell a lot on what they represent regarding the original image.\n",
    "The weights for the 4000 samples' neural network appear smoother, as they should be, than the weights for the 600 samples' neural network."
   ]
  },
  {
   "cell_type": "markdown",
   "metadata": {},
   "source": [
    "### TO DO 9\n",
    "\n",
    "Take the best SVM model and its parameters, you found in the last notebook. Fit it on a few data points and compute its training and test scores. Then fit also a logistic regression model with C=1. "
   ]
  },
  {
   "cell_type": "code",
   "execution_count": 18,
   "metadata": {},
   "outputs": [
    {
     "name": "stdout",
     "output_type": "stream",
     "text": [
      "\n",
      "RESULTS FOR LOGISTIC REGRESSION WITH REGULARIZATION: training score:\n",
      " 0.99 test score:\n",
      " 0.753125\n",
      "Training error : 0.010000000000000009\n",
      "Test error : 0.24687499999999996\n"
     ]
    }
   ],
   "source": [
    "from sklearn import linear_model\n",
    "\n",
    "\n",
    "regL2 = linear_model.LogisticRegression(C=1, max_iter=1000)\n",
    "regL2.fit(X_train, y_train)\n",
    "\n",
    "\n",
    "# you can re-use your code from Lab 2\n",
    "\n",
    "\n",
    "\n",
    "print ('\\nRESULTS FOR LOGISTIC REGRESSION WITH REGULARIZATION:', 'training score:\\n', regL2.score(X_train, y_train), 'test score:\\n',regL2.score(X_test, y_test))\n",
    "\n",
    "training_error = 1-regL2.score(X_train, y_train)\n",
    "test_error = 1-regL2.score(X_test, y_test)\n",
    "\n",
    "print (\"Training error :\",  training_error)\n",
    "print (\"Test error :\",  test_error)"
   ]
  },
  {
   "cell_type": "code",
   "execution_count": 19,
   "metadata": {},
   "outputs": [
    {
     "name": "stdout",
     "output_type": "stream",
     "text": [
      "RESULTS FOR SVM\n",
      " training score:\n",
      " 1.0 \n",
      " test score:\n",
      " 0.9085\n",
      "Training error:  0.0\n",
      "Test error:  0.09150000000000003\n"
     ]
    }
   ],
   "source": [
    "m_training = 4000\n",
    "\n",
    "X_train, X_test = X[:m_training], X[m_training:2*m_training]\n",
    "y_train, y_test = y[:m_training], y[m_training:2*m_training]\n",
    "\n",
    "svm = SVC(kernel='rbf', C=10, gamma=0.01)\n",
    "svm.fit(X_train, y_train)\n",
    "\n",
    "# use best parameters found in the SVM notebook, create SVM and perform fitting\n",
    "\n",
    "\n",
    "\n",
    "print ('RESULTS FOR SVM\\n', 'training score:\\n', svm.score(X_train, y_train), '\\n test score:\\n',svm.score(X_test, y_test))\n",
    "\n",
    "SVM_training_error =  1 - svm.score(X_train, y_train)\n",
    "\n",
    "\n",
    "print('Training error: ',SVM_training_error)\n",
    "\n",
    "SVM_test_error = 1 - svm.score(X_test, y_test)\n",
    "\n",
    "print('Test error: ',SVM_test_error)"
   ]
  },
  {
   "cell_type": "markdown",
   "metadata": {},
   "source": [
    "## QUESTION 6\n",
    "Compare the results of Logistic Regression, SVM and NN. Which one achieve the best results? "
   ]
  },
  {
   "cell_type": "markdown",
   "metadata": {},
   "source": [
    "###### [ANSWER TO QUESTION 6]"
   ]
  },
  {
   "cell_type": "markdown",
   "metadata": {},
   "source": [
    "We see that SVM achieve the best results with a slight margin over NN. The worst of them all is logistic regression with a score of $\\approx 0.7$"
   ]
  },
  {
   "cell_type": "code",
   "execution_count": null,
   "metadata": {},
   "outputs": [],
   "source": []
  }
 ],
 "metadata": {
  "kernelspec": {
   "display_name": "Python 3",
   "language": "python",
   "name": "python3"
  },
  "language_info": {
   "codemirror_mode": {
    "name": "ipython",
    "version": 3
   },
   "file_extension": ".py",
   "mimetype": "text/x-python",
   "name": "python",
   "nbconvert_exporter": "python",
   "pygments_lexer": "ipython3",
   "version": "3.8.8"
  }
 },
 "nbformat": 4,
 "nbformat_minor": 4
}
